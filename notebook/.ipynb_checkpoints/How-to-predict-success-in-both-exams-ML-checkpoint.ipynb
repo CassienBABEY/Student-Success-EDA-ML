{
 "cells": [
  {
   "cell_type": "markdown",
   "id": "6a8835bd",
   "metadata": {},
   "source": [
    "## Import "
   ]
  },
  {
   "cell_type": "code",
   "execution_count": 7,
   "id": "8056d5dc",
   "metadata": {
    "ExecuteTime": {
     "end_time": "2023-07-27T19:32:06.567395Z",
     "start_time": "2023-07-27T19:32:05.319254Z"
    }
   },
   "outputs": [],
   "source": [
    "from merged import merge_dataframes\n",
    "import pandas as pd\n",
    "import numpy as np\n",
    "import matplotlib.pyplot as plt\n",
    "import math\n",
    "import seaborn as sns\n",
    "import warnings\n",
    "warnings.filterwarnings('ignore')"
   ]
  },
  {
   "cell_type": "markdown",
   "id": "40c84c07",
   "metadata": {},
   "source": [
    "## Description"
   ]
  },
  {
   "cell_type": "markdown",
   "id": "6bd5fe03",
   "metadata": {},
   "source": [
    "**school** - student's school (binary: 'GP' - Gabriel Pereira or 'MS' - Mousinho da Silveira)  \n",
    "**sex** - student's sex (binary: 'F' - female or 'M' - male)  \n",
    "**age** - student's age (numeric: from 15 to 22)  \n",
    "**address** - student's home address type (binary: 'U' - urban or 'R' - rural)  \n",
    "**famsize** - family size (binary: 'LE3' - less or equal to 3 or 'GT3' - greater than 3)  \n",
    "**Pstatus** - parent's cohabitation status (binary: 'T' - living together or 'A' - apart)  \n",
    "**Medu** - mother's education (numeric: 0 - none, 1 - primary education (4th grade), 2 – 5th to 9th grade, 3 – secondary education or 4 – higher education)  \n",
    "**Fedu** - father's education (numeric: 0 - none, 1 - primary education (4th grade), 2 – 5th to 9th grade, 3 – secondary education or 4 – higher education)  \n",
    "**Mjob** - mother's job (nominal: 'teacher', 'health' care related, civil 'services' (e.g. administrative or police), 'at_home' or 'other')  \n",
    "**Fjob** - father's job (nominal: 'teacher', 'health' care related, civil 'services' (e.g. administrative or police), 'at_home' or 'other')  \n",
    "**reason** - reason to choose this school (nominal: close to 'home', school 'reputation', 'course' preference or 'other')  \n",
    "**guardian** - student's guardian (nominal: 'mother', 'father' or 'other')  \n",
    "**traveltime** - home to school travel time (numeric: 1 - <15 min., 2 - 15 to 30 min., 3 - 30 min. to 1 hour, or 4 - >1 hour)  \n",
    "**studytime** - weekly study time (numeric: 1 - <2 hours, 2 - 2 to 5 hours, 3 - 5 to 10 hours, or 4 - >10 hours)  \n",
    "**failures** - number of past class failures (numeric: n if 1<=n<3, else 4)  \n",
    "**schoolsup** - extra educational support (binary: yes or no)  \n",
    "**famsup** - family educational support (binary: yes or no)  \n",
    "**paid** - extra paid classes within the course subject (Math or Portuguese) (binary: yes or no)  \n",
    "**activities** - extra-curricular activities (binary: yes or no)  \n",
    "**nursery** - attended nursery school (binary: yes or no)  \n",
    "**higher** - wants to take higher education (binary: yes or no)  \n",
    "**internet** - Internet access at home (binary: yes or no)  \n",
    "**romantic** - with a romantic relationship (binary: yes or no)  \n",
    "**famrel** - quality of family relationships (numeric: from 1 - very bad to 5 - excellent)  \n",
    "**freetime** - free time after school (numeric: from 1 - very low to 5 - very high)  \n",
    "**goout** - going out with friends (numeric: from 1 - very low to 5 - very high)  \n",
    "**Dalc** - workday alcohol consumption (numeric: from 1 - very low to 5 - very high)  \n",
    "**Walc** - weekend alcohol consumption (numeric: from 1 - very low to 5 - very high)  \n",
    "**health** - current health status (numeric: from 1 - very bad to 5 - very good)  \n",
    "**absences** - number of school absences (numeric: from 0 to 93)  \n",
    "\n",
    "These grades are related to the course subject, Math or Portuguese:\n",
    "\n",
    "**G1** - first period grade (numeric: from 0 to 20)  \n",
    "**G2** - second period grade (numeric: from 0 to 20)  \n",
    "**G3** - final grade (numeric: from 0 to 20, output target)\n"
   ]
  },
  {
   "cell_type": "markdown",
   "id": "d5a05bba",
   "metadata": {},
   "source": [
    "## Machine Learning process"
   ]
  },
  {
   "cell_type": "markdown",
   "id": "365f54ea",
   "metadata": {},
   "source": [
    "We import the dataframes and use our function merge_dataframes() to merge the two dataframes."
   ]
  },
  {
   "cell_type": "code",
   "execution_count": 250,
   "id": "cab29293",
   "metadata": {
    "ExecuteTime": {
     "end_time": "2023-07-28T21:55:32.722182Z",
     "start_time": "2023-07-28T21:55:32.637898Z"
    }
   },
   "outputs": [
    {
     "data": {
      "text/html": [
       "<div>\n",
       "<style scoped>\n",
       "    .dataframe tbody tr th:only-of-type {\n",
       "        vertical-align: middle;\n",
       "    }\n",
       "\n",
       "    .dataframe tbody tr th {\n",
       "        vertical-align: top;\n",
       "    }\n",
       "\n",
       "    .dataframe thead th {\n",
       "        text-align: right;\n",
       "    }\n",
       "</style>\n",
       "<table border=\"1\" class=\"dataframe\">\n",
       "  <thead>\n",
       "    <tr style=\"text-align: right;\">\n",
       "      <th></th>\n",
       "      <th>school</th>\n",
       "      <th>sex</th>\n",
       "      <th>age</th>\n",
       "      <th>address</th>\n",
       "      <th>famsize</th>\n",
       "      <th>Pstatus</th>\n",
       "      <th>Medu</th>\n",
       "      <th>Fedu</th>\n",
       "      <th>Mjob</th>\n",
       "      <th>Fjob</th>\n",
       "      <th>...</th>\n",
       "      <th>internet</th>\n",
       "      <th>romantic</th>\n",
       "      <th>famrel</th>\n",
       "      <th>freetime</th>\n",
       "      <th>goout</th>\n",
       "      <th>Dalc</th>\n",
       "      <th>Walc</th>\n",
       "      <th>health</th>\n",
       "      <th>G3_mat</th>\n",
       "      <th>G3_por</th>\n",
       "    </tr>\n",
       "  </thead>\n",
       "  <tbody>\n",
       "    <tr>\n",
       "      <th>0</th>\n",
       "      <td>GP</td>\n",
       "      <td>F</td>\n",
       "      <td>18</td>\n",
       "      <td>U</td>\n",
       "      <td>GT3</td>\n",
       "      <td>A</td>\n",
       "      <td>4</td>\n",
       "      <td>4</td>\n",
       "      <td>at_home</td>\n",
       "      <td>teacher</td>\n",
       "      <td>...</td>\n",
       "      <td>no</td>\n",
       "      <td>no</td>\n",
       "      <td>4.0</td>\n",
       "      <td>3.0</td>\n",
       "      <td>4.0</td>\n",
       "      <td>1.0</td>\n",
       "      <td>1.0</td>\n",
       "      <td>3.0</td>\n",
       "      <td>6</td>\n",
       "      <td>11</td>\n",
       "    </tr>\n",
       "    <tr>\n",
       "      <th>1</th>\n",
       "      <td>GP</td>\n",
       "      <td>F</td>\n",
       "      <td>17</td>\n",
       "      <td>U</td>\n",
       "      <td>GT3</td>\n",
       "      <td>T</td>\n",
       "      <td>1</td>\n",
       "      <td>1</td>\n",
       "      <td>at_home</td>\n",
       "      <td>other</td>\n",
       "      <td>...</td>\n",
       "      <td>yes</td>\n",
       "      <td>no</td>\n",
       "      <td>5.0</td>\n",
       "      <td>3.0</td>\n",
       "      <td>3.0</td>\n",
       "      <td>1.0</td>\n",
       "      <td>1.0</td>\n",
       "      <td>3.0</td>\n",
       "      <td>6</td>\n",
       "      <td>11</td>\n",
       "    </tr>\n",
       "  </tbody>\n",
       "</table>\n",
       "<p>2 rows × 31 columns</p>\n",
       "</div>"
      ],
      "text/plain": [
       "  school sex  age address famsize Pstatus  Medu  Fedu     Mjob     Fjob  ...  \\\n",
       "0     GP   F   18       U     GT3       A     4     4  at_home  teacher  ...   \n",
       "1     GP   F   17       U     GT3       T     1     1  at_home    other  ...   \n",
       "\n",
       "  internet romantic  famrel  freetime  goout Dalc Walc health G3_mat G3_por  \n",
       "0       no       no     4.0       3.0    4.0  1.0  1.0    3.0      6     11  \n",
       "1      yes       no     5.0       3.0    3.0  1.0  1.0    3.0      6     11  \n",
       "\n",
       "[2 rows x 31 columns]"
      ]
     },
     "execution_count": 250,
     "metadata": {},
     "output_type": "execute_result"
    }
   ],
   "source": [
    "df_mat = pd.read_csv('data/student-mat.csv')\n",
    "df_por = pd.read_csv('data/student-por.csv')\n",
    "df = merge_dataframes(df_mat, df_por)\n",
    "df.head(2)"
   ]
  },
  {
   "cell_type": "code",
   "execution_count": 9,
   "id": "52487d54",
   "metadata": {
    "ExecuteTime": {
     "end_time": "2023-07-27T20:06:48.344211Z",
     "start_time": "2023-07-27T20:06:48.338611Z"
    }
   },
   "outputs": [
    {
     "data": {
      "text/plain": [
       "Index(['school', 'sex', 'age', 'address', 'famsize', 'Pstatus', 'Medu', 'Fedu',\n",
       "       'Mjob', 'Fjob', 'reason', 'guardian', 'traveltime', 'studytime',\n",
       "       'failures', 'schoolsup', 'famsup', 'paid', 'activities', 'nursery',\n",
       "       'higher', 'internet', 'romantic', 'famrel', 'freetime', 'goout', 'Dalc',\n",
       "       'Walc', 'health', 'G3_mat', 'G3_por'],\n",
       "      dtype='object')"
      ]
     },
     "execution_count": 9,
     "metadata": {},
     "output_type": "execute_result"
    }
   ],
   "source": [
    "df.columns"
   ]
  },
  {
   "cell_type": "code",
   "execution_count": 49,
   "id": "cc58bdc0",
   "metadata": {
    "ExecuteTime": {
     "end_time": "2023-07-28T16:39:55.377083Z",
     "start_time": "2023-07-28T16:39:55.373289Z"
    }
   },
   "outputs": [],
   "source": [
    "from sklearn.model_selection import train_test_split\n",
    "from sklearn.pipeline import make_pipeline\n",
    "from sklearn.impute import SimpleImputer\n",
    "from sklearn.compose import make_column_transformer, make_column_transformer\n",
    "from sklearn.preprocessing import StandardScaler, OrdinalEncoder, OneHotEncoder\n",
    "from sklearn import set_config; set_config(display='diagram')"
   ]
  },
  {
   "cell_type": "markdown",
   "id": "1b60b730",
   "metadata": {},
   "source": [
    "We separate our X from our Y."
   ]
  },
  {
   "cell_type": "code",
   "execution_count": 184,
   "id": "b1e6a2df",
   "metadata": {
    "ExecuteTime": {
     "end_time": "2023-07-28T19:27:48.368988Z",
     "start_time": "2023-07-28T19:27:48.363396Z"
    }
   },
   "outputs": [],
   "source": [
    "X = df.drop(columns=['G3_mat', \"G3_por\"])\n",
    "y1 = df['G3_mat']\n",
    "y2 = df['G3_por']"
   ]
  },
  {
   "cell_type": "markdown",
   "id": "0b0c42c8",
   "metadata": {},
   "source": [
    "Setting up lists to sort our variables based on their description."
   ]
  },
  {
   "cell_type": "code",
   "execution_count": 41,
   "id": "f2f77a04",
   "metadata": {
    "ExecuteTime": {
     "end_time": "2023-07-28T16:20:30.743068Z",
     "start_time": "2023-07-28T16:20:30.738946Z"
    }
   },
   "outputs": [],
   "source": [
    "ordinal_cols = [\n",
    "    'Medu', 'Fedu', 'traveltime', 'studytime', 'failures', 'famrel',\n",
    "    'freetime', 'goout', 'Dalc', 'Walc', 'health'\n",
    "]\n",
    "categorical_cols = [\n",
    "    'school', 'sex', 'address', 'famsize', 'Pstatus', 'schoolsup', 'famsup',\n",
    "    'paid', 'activities', 'nursery', 'higher', 'internet', 'romantic', 'Mjob',\n",
    "    'Fjob', 'reason', 'guardian'\n",
    "]\n",
    "\n",
    "numerical_cols = ['age']"
   ]
  },
  {
   "cell_type": "markdown",
   "id": "deb42269",
   "metadata": {},
   "source": [
    "###### Ordinal Pipeline"
   ]
  },
  {
   "cell_type": "code",
   "execution_count": 95,
   "id": "13bdaf3b",
   "metadata": {
    "ExecuteTime": {
     "end_time": "2023-07-28T17:12:18.797616Z",
     "start_time": "2023-07-28T17:12:18.793910Z"
    }
   },
   "outputs": [],
   "source": [
    "ordinal_pipeline = make_pipeline(\n",
    "    SimpleImputer(strategy='most_frequent'),\n",
    "    OrdinalEncoder(handle_unknown='use_encoded_value', unknown_value=-1))"
   ]
  },
  {
   "cell_type": "code",
   "execution_count": 96,
   "id": "7710bc82",
   "metadata": {
    "ExecuteTime": {
     "end_time": "2023-07-28T17:12:19.294074Z",
     "start_time": "2023-07-28T17:12:19.269989Z"
    }
   },
   "outputs": [
    {
     "data": {
      "text/html": [
       "<div>\n",
       "<style scoped>\n",
       "    .dataframe tbody tr th:only-of-type {\n",
       "        vertical-align: middle;\n",
       "    }\n",
       "\n",
       "    .dataframe tbody tr th {\n",
       "        vertical-align: top;\n",
       "    }\n",
       "\n",
       "    .dataframe thead th {\n",
       "        text-align: right;\n",
       "    }\n",
       "</style>\n",
       "<table border=\"1\" class=\"dataframe\">\n",
       "  <thead>\n",
       "    <tr style=\"text-align: right;\">\n",
       "      <th></th>\n",
       "      <th>Medu</th>\n",
       "      <th>Fedu</th>\n",
       "      <th>traveltime</th>\n",
       "      <th>studytime</th>\n",
       "      <th>failures</th>\n",
       "      <th>famrel</th>\n",
       "      <th>freetime</th>\n",
       "      <th>goout</th>\n",
       "      <th>Dalc</th>\n",
       "      <th>Walc</th>\n",
       "      <th>health</th>\n",
       "    </tr>\n",
       "  </thead>\n",
       "  <tbody>\n",
       "    <tr>\n",
       "      <th>0</th>\n",
       "      <td>4.0</td>\n",
       "      <td>4.0</td>\n",
       "      <td>1.0</td>\n",
       "      <td>1.0</td>\n",
       "      <td>0.0</td>\n",
       "      <td>3.0</td>\n",
       "      <td>2.0</td>\n",
       "      <td>3.0</td>\n",
       "      <td>0.0</td>\n",
       "      <td>0.0</td>\n",
       "      <td>2.0</td>\n",
       "    </tr>\n",
       "    <tr>\n",
       "      <th>1</th>\n",
       "      <td>1.0</td>\n",
       "      <td>1.0</td>\n",
       "      <td>0.0</td>\n",
       "      <td>1.0</td>\n",
       "      <td>0.0</td>\n",
       "      <td>4.0</td>\n",
       "      <td>2.0</td>\n",
       "      <td>2.0</td>\n",
       "      <td>0.0</td>\n",
       "      <td>0.0</td>\n",
       "      <td>2.0</td>\n",
       "    </tr>\n",
       "    <tr>\n",
       "      <th>2</th>\n",
       "      <td>1.0</td>\n",
       "      <td>1.0</td>\n",
       "      <td>0.0</td>\n",
       "      <td>1.0</td>\n",
       "      <td>0.0</td>\n",
       "      <td>3.0</td>\n",
       "      <td>2.0</td>\n",
       "      <td>1.0</td>\n",
       "      <td>1.0</td>\n",
       "      <td>2.0</td>\n",
       "      <td>2.0</td>\n",
       "    </tr>\n",
       "    <tr>\n",
       "      <th>3</th>\n",
       "      <td>4.0</td>\n",
       "      <td>2.0</td>\n",
       "      <td>0.0</td>\n",
       "      <td>2.0</td>\n",
       "      <td>0.0</td>\n",
       "      <td>2.0</td>\n",
       "      <td>1.0</td>\n",
       "      <td>1.0</td>\n",
       "      <td>0.0</td>\n",
       "      <td>0.0</td>\n",
       "      <td>4.0</td>\n",
       "    </tr>\n",
       "    <tr>\n",
       "      <th>4</th>\n",
       "      <td>3.0</td>\n",
       "      <td>3.0</td>\n",
       "      <td>0.0</td>\n",
       "      <td>1.0</td>\n",
       "      <td>0.0</td>\n",
       "      <td>3.0</td>\n",
       "      <td>2.0</td>\n",
       "      <td>1.0</td>\n",
       "      <td>0.0</td>\n",
       "      <td>1.0</td>\n",
       "      <td>4.0</td>\n",
       "    </tr>\n",
       "    <tr>\n",
       "      <th>...</th>\n",
       "      <td>...</td>\n",
       "      <td>...</td>\n",
       "      <td>...</td>\n",
       "      <td>...</td>\n",
       "      <td>...</td>\n",
       "      <td>...</td>\n",
       "      <td>...</td>\n",
       "      <td>...</td>\n",
       "      <td>...</td>\n",
       "      <td>...</td>\n",
       "      <td>...</td>\n",
       "    </tr>\n",
       "    <tr>\n",
       "      <th>377</th>\n",
       "      <td>3.0</td>\n",
       "      <td>1.0</td>\n",
       "      <td>0.0</td>\n",
       "      <td>1.0</td>\n",
       "      <td>0.0</td>\n",
       "      <td>3.0</td>\n",
       "      <td>2.0</td>\n",
       "      <td>3.0</td>\n",
       "      <td>0.0</td>\n",
       "      <td>0.0</td>\n",
       "      <td>0.0</td>\n",
       "    </tr>\n",
       "    <tr>\n",
       "      <th>378</th>\n",
       "      <td>1.0</td>\n",
       "      <td>1.0</td>\n",
       "      <td>0.0</td>\n",
       "      <td>1.0</td>\n",
       "      <td>0.0</td>\n",
       "      <td>3.0</td>\n",
       "      <td>2.0</td>\n",
       "      <td>2.0</td>\n",
       "      <td>0.0</td>\n",
       "      <td>0.0</td>\n",
       "      <td>4.0</td>\n",
       "    </tr>\n",
       "    <tr>\n",
       "      <th>379</th>\n",
       "      <td>1.0</td>\n",
       "      <td>1.0</td>\n",
       "      <td>1.0</td>\n",
       "      <td>1.0</td>\n",
       "      <td>0.0</td>\n",
       "      <td>0.0</td>\n",
       "      <td>0.0</td>\n",
       "      <td>0.0</td>\n",
       "      <td>0.0</td>\n",
       "      <td>0.0</td>\n",
       "      <td>4.0</td>\n",
       "    </tr>\n",
       "    <tr>\n",
       "      <th>380</th>\n",
       "      <td>3.0</td>\n",
       "      <td>1.0</td>\n",
       "      <td>1.0</td>\n",
       "      <td>0.0</td>\n",
       "      <td>0.0</td>\n",
       "      <td>1.0</td>\n",
       "      <td>3.0</td>\n",
       "      <td>4.0</td>\n",
       "      <td>2.0</td>\n",
       "      <td>3.0</td>\n",
       "      <td>1.0</td>\n",
       "    </tr>\n",
       "    <tr>\n",
       "      <th>381</th>\n",
       "      <td>3.0</td>\n",
       "      <td>2.0</td>\n",
       "      <td>2.0</td>\n",
       "      <td>0.0</td>\n",
       "      <td>0.0</td>\n",
       "      <td>3.0</td>\n",
       "      <td>3.0</td>\n",
       "      <td>0.0</td>\n",
       "      <td>2.0</td>\n",
       "      <td>3.0</td>\n",
       "      <td>4.0</td>\n",
       "    </tr>\n",
       "  </tbody>\n",
       "</table>\n",
       "<p>382 rows × 11 columns</p>\n",
       "</div>"
      ],
      "text/plain": [
       "     Medu  Fedu  traveltime  studytime  failures  famrel  freetime  goout  \\\n",
       "0     4.0   4.0         1.0        1.0       0.0     3.0       2.0    3.0   \n",
       "1     1.0   1.0         0.0        1.0       0.0     4.0       2.0    2.0   \n",
       "2     1.0   1.0         0.0        1.0       0.0     3.0       2.0    1.0   \n",
       "3     4.0   2.0         0.0        2.0       0.0     2.0       1.0    1.0   \n",
       "4     3.0   3.0         0.0        1.0       0.0     3.0       2.0    1.0   \n",
       "..    ...   ...         ...        ...       ...     ...       ...    ...   \n",
       "377   3.0   1.0         0.0        1.0       0.0     3.0       2.0    3.0   \n",
       "378   1.0   1.0         0.0        1.0       0.0     3.0       2.0    2.0   \n",
       "379   1.0   1.0         1.0        1.0       0.0     0.0       0.0    0.0   \n",
       "380   3.0   1.0         1.0        0.0       0.0     1.0       3.0    4.0   \n",
       "381   3.0   2.0         2.0        0.0       0.0     3.0       3.0    0.0   \n",
       "\n",
       "     Dalc  Walc  health  \n",
       "0     0.0   0.0     2.0  \n",
       "1     0.0   0.0     2.0  \n",
       "2     1.0   2.0     2.0  \n",
       "3     0.0   0.0     4.0  \n",
       "4     0.0   1.0     4.0  \n",
       "..    ...   ...     ...  \n",
       "377   0.0   0.0     0.0  \n",
       "378   0.0   0.0     4.0  \n",
       "379   0.0   0.0     4.0  \n",
       "380   2.0   3.0     1.0  \n",
       "381   2.0   3.0     4.0  \n",
       "\n",
       "[382 rows x 11 columns]"
      ]
     },
     "execution_count": 96,
     "metadata": {},
     "output_type": "execute_result"
    }
   ],
   "source": [
    "ordi = ordinal_pipeline.fit_transform(X[ordinal_cols])\n",
    "pd.DataFrame(ordi, columns=ordinal_pipeline.get_feature_names_out())"
   ]
  },
  {
   "cell_type": "markdown",
   "id": "cab95737",
   "metadata": {},
   "source": [
    "###### Categorical Pipeline"
   ]
  },
  {
   "cell_type": "code",
   "execution_count": 97,
   "id": "46961570",
   "metadata": {
    "ExecuteTime": {
     "end_time": "2023-07-28T17:12:28.056337Z",
     "start_time": "2023-07-28T17:12:28.052914Z"
    }
   },
   "outputs": [],
   "source": [
    "categorical_pipeline = make_pipeline(\n",
    "    SimpleImputer(strategy='most_frequent'),\n",
    "    OneHotEncoder(handle_unknown='ignore', sparse=False))"
   ]
  },
  {
   "cell_type": "code",
   "execution_count": 98,
   "id": "75132569",
   "metadata": {
    "ExecuteTime": {
     "end_time": "2023-07-28T17:12:28.360080Z",
     "start_time": "2023-07-28T17:12:28.348186Z"
    },
    "scrolled": true
   },
   "outputs": [],
   "source": [
    "cat = categorical_pipeline.fit_transform(X[categorical_cols])\n",
    "test_cat = pd.DataFrame(cat,columns=categorical_pipeline.get_feature_names_out())"
   ]
  },
  {
   "cell_type": "code",
   "execution_count": 99,
   "id": "025004d2",
   "metadata": {
    "ExecuteTime": {
     "end_time": "2023-07-28T17:12:28.714087Z",
     "start_time": "2023-07-28T17:12:28.689579Z"
    },
    "scrolled": false
   },
   "outputs": [
    {
     "data": {
      "text/html": [
       "<div>\n",
       "<style scoped>\n",
       "    .dataframe tbody tr th:only-of-type {\n",
       "        vertical-align: middle;\n",
       "    }\n",
       "\n",
       "    .dataframe tbody tr th {\n",
       "        vertical-align: top;\n",
       "    }\n",
       "\n",
       "    .dataframe thead th {\n",
       "        text-align: right;\n",
       "    }\n",
       "</style>\n",
       "<table border=\"1\" class=\"dataframe\">\n",
       "  <thead>\n",
       "    <tr style=\"text-align: right;\">\n",
       "      <th></th>\n",
       "      <th>school_GP</th>\n",
       "      <th>school_MS</th>\n",
       "      <th>sex_F</th>\n",
       "      <th>sex_M</th>\n",
       "      <th>address_R</th>\n",
       "      <th>address_U</th>\n",
       "      <th>famsize_GT3</th>\n",
       "      <th>famsize_LE3</th>\n",
       "      <th>Pstatus_A</th>\n",
       "      <th>Pstatus_T</th>\n",
       "      <th>...</th>\n",
       "      <th>Fjob_other</th>\n",
       "      <th>Fjob_services</th>\n",
       "      <th>Fjob_teacher</th>\n",
       "      <th>reason_course</th>\n",
       "      <th>reason_home</th>\n",
       "      <th>reason_other</th>\n",
       "      <th>reason_reputation</th>\n",
       "      <th>guardian_father</th>\n",
       "      <th>guardian_mother</th>\n",
       "      <th>guardian_other</th>\n",
       "    </tr>\n",
       "  </thead>\n",
       "  <tbody>\n",
       "    <tr>\n",
       "      <th>0</th>\n",
       "      <td>1.0</td>\n",
       "      <td>0.0</td>\n",
       "      <td>1.0</td>\n",
       "      <td>0.0</td>\n",
       "      <td>0.0</td>\n",
       "      <td>1.0</td>\n",
       "      <td>1.0</td>\n",
       "      <td>0.0</td>\n",
       "      <td>1.0</td>\n",
       "      <td>0.0</td>\n",
       "      <td>...</td>\n",
       "      <td>0.0</td>\n",
       "      <td>0.0</td>\n",
       "      <td>1.0</td>\n",
       "      <td>1.0</td>\n",
       "      <td>0.0</td>\n",
       "      <td>0.0</td>\n",
       "      <td>0.0</td>\n",
       "      <td>0.0</td>\n",
       "      <td>1.0</td>\n",
       "      <td>0.0</td>\n",
       "    </tr>\n",
       "    <tr>\n",
       "      <th>1</th>\n",
       "      <td>1.0</td>\n",
       "      <td>0.0</td>\n",
       "      <td>1.0</td>\n",
       "      <td>0.0</td>\n",
       "      <td>0.0</td>\n",
       "      <td>1.0</td>\n",
       "      <td>1.0</td>\n",
       "      <td>0.0</td>\n",
       "      <td>0.0</td>\n",
       "      <td>1.0</td>\n",
       "      <td>...</td>\n",
       "      <td>1.0</td>\n",
       "      <td>0.0</td>\n",
       "      <td>0.0</td>\n",
       "      <td>1.0</td>\n",
       "      <td>0.0</td>\n",
       "      <td>0.0</td>\n",
       "      <td>0.0</td>\n",
       "      <td>1.0</td>\n",
       "      <td>0.0</td>\n",
       "      <td>0.0</td>\n",
       "    </tr>\n",
       "    <tr>\n",
       "      <th>2</th>\n",
       "      <td>1.0</td>\n",
       "      <td>0.0</td>\n",
       "      <td>1.0</td>\n",
       "      <td>0.0</td>\n",
       "      <td>0.0</td>\n",
       "      <td>1.0</td>\n",
       "      <td>0.0</td>\n",
       "      <td>1.0</td>\n",
       "      <td>0.0</td>\n",
       "      <td>1.0</td>\n",
       "      <td>...</td>\n",
       "      <td>1.0</td>\n",
       "      <td>0.0</td>\n",
       "      <td>0.0</td>\n",
       "      <td>0.0</td>\n",
       "      <td>0.0</td>\n",
       "      <td>1.0</td>\n",
       "      <td>0.0</td>\n",
       "      <td>0.0</td>\n",
       "      <td>1.0</td>\n",
       "      <td>0.0</td>\n",
       "    </tr>\n",
       "    <tr>\n",
       "      <th>3</th>\n",
       "      <td>1.0</td>\n",
       "      <td>0.0</td>\n",
       "      <td>1.0</td>\n",
       "      <td>0.0</td>\n",
       "      <td>0.0</td>\n",
       "      <td>1.0</td>\n",
       "      <td>1.0</td>\n",
       "      <td>0.0</td>\n",
       "      <td>0.0</td>\n",
       "      <td>1.0</td>\n",
       "      <td>...</td>\n",
       "      <td>0.0</td>\n",
       "      <td>1.0</td>\n",
       "      <td>0.0</td>\n",
       "      <td>0.0</td>\n",
       "      <td>1.0</td>\n",
       "      <td>0.0</td>\n",
       "      <td>0.0</td>\n",
       "      <td>0.0</td>\n",
       "      <td>1.0</td>\n",
       "      <td>0.0</td>\n",
       "    </tr>\n",
       "    <tr>\n",
       "      <th>4</th>\n",
       "      <td>1.0</td>\n",
       "      <td>0.0</td>\n",
       "      <td>1.0</td>\n",
       "      <td>0.0</td>\n",
       "      <td>0.0</td>\n",
       "      <td>1.0</td>\n",
       "      <td>1.0</td>\n",
       "      <td>0.0</td>\n",
       "      <td>0.0</td>\n",
       "      <td>1.0</td>\n",
       "      <td>...</td>\n",
       "      <td>1.0</td>\n",
       "      <td>0.0</td>\n",
       "      <td>0.0</td>\n",
       "      <td>0.0</td>\n",
       "      <td>1.0</td>\n",
       "      <td>0.0</td>\n",
       "      <td>0.0</td>\n",
       "      <td>1.0</td>\n",
       "      <td>0.0</td>\n",
       "      <td>0.0</td>\n",
       "    </tr>\n",
       "    <tr>\n",
       "      <th>...</th>\n",
       "      <td>...</td>\n",
       "      <td>...</td>\n",
       "      <td>...</td>\n",
       "      <td>...</td>\n",
       "      <td>...</td>\n",
       "      <td>...</td>\n",
       "      <td>...</td>\n",
       "      <td>...</td>\n",
       "      <td>...</td>\n",
       "      <td>...</td>\n",
       "      <td>...</td>\n",
       "      <td>...</td>\n",
       "      <td>...</td>\n",
       "      <td>...</td>\n",
       "      <td>...</td>\n",
       "      <td>...</td>\n",
       "      <td>...</td>\n",
       "      <td>...</td>\n",
       "      <td>...</td>\n",
       "      <td>...</td>\n",
       "      <td>...</td>\n",
       "    </tr>\n",
       "    <tr>\n",
       "      <th>377</th>\n",
       "      <td>0.0</td>\n",
       "      <td>1.0</td>\n",
       "      <td>1.0</td>\n",
       "      <td>0.0</td>\n",
       "      <td>0.0</td>\n",
       "      <td>1.0</td>\n",
       "      <td>0.0</td>\n",
       "      <td>1.0</td>\n",
       "      <td>0.0</td>\n",
       "      <td>1.0</td>\n",
       "      <td>...</td>\n",
       "      <td>0.0</td>\n",
       "      <td>1.0</td>\n",
       "      <td>0.0</td>\n",
       "      <td>1.0</td>\n",
       "      <td>0.0</td>\n",
       "      <td>0.0</td>\n",
       "      <td>0.0</td>\n",
       "      <td>0.0</td>\n",
       "      <td>1.0</td>\n",
       "      <td>0.0</td>\n",
       "    </tr>\n",
       "    <tr>\n",
       "      <th>378</th>\n",
       "      <td>0.0</td>\n",
       "      <td>1.0</td>\n",
       "      <td>1.0</td>\n",
       "      <td>0.0</td>\n",
       "      <td>0.0</td>\n",
       "      <td>1.0</td>\n",
       "      <td>1.0</td>\n",
       "      <td>0.0</td>\n",
       "      <td>0.0</td>\n",
       "      <td>1.0</td>\n",
       "      <td>...</td>\n",
       "      <td>1.0</td>\n",
       "      <td>0.0</td>\n",
       "      <td>0.0</td>\n",
       "      <td>1.0</td>\n",
       "      <td>0.0</td>\n",
       "      <td>0.0</td>\n",
       "      <td>0.0</td>\n",
       "      <td>0.0</td>\n",
       "      <td>1.0</td>\n",
       "      <td>0.0</td>\n",
       "    </tr>\n",
       "    <tr>\n",
       "      <th>379</th>\n",
       "      <td>0.0</td>\n",
       "      <td>1.0</td>\n",
       "      <td>1.0</td>\n",
       "      <td>0.0</td>\n",
       "      <td>0.0</td>\n",
       "      <td>1.0</td>\n",
       "      <td>1.0</td>\n",
       "      <td>0.0</td>\n",
       "      <td>0.0</td>\n",
       "      <td>1.0</td>\n",
       "      <td>...</td>\n",
       "      <td>1.0</td>\n",
       "      <td>0.0</td>\n",
       "      <td>0.0</td>\n",
       "      <td>1.0</td>\n",
       "      <td>0.0</td>\n",
       "      <td>0.0</td>\n",
       "      <td>0.0</td>\n",
       "      <td>0.0</td>\n",
       "      <td>1.0</td>\n",
       "      <td>0.0</td>\n",
       "    </tr>\n",
       "    <tr>\n",
       "      <th>380</th>\n",
       "      <td>0.0</td>\n",
       "      <td>1.0</td>\n",
       "      <td>0.0</td>\n",
       "      <td>1.0</td>\n",
       "      <td>0.0</td>\n",
       "      <td>1.0</td>\n",
       "      <td>0.0</td>\n",
       "      <td>1.0</td>\n",
       "      <td>0.0</td>\n",
       "      <td>1.0</td>\n",
       "      <td>...</td>\n",
       "      <td>0.0</td>\n",
       "      <td>1.0</td>\n",
       "      <td>0.0</td>\n",
       "      <td>1.0</td>\n",
       "      <td>0.0</td>\n",
       "      <td>0.0</td>\n",
       "      <td>0.0</td>\n",
       "      <td>0.0</td>\n",
       "      <td>1.0</td>\n",
       "      <td>0.0</td>\n",
       "    </tr>\n",
       "    <tr>\n",
       "      <th>381</th>\n",
       "      <td>0.0</td>\n",
       "      <td>1.0</td>\n",
       "      <td>0.0</td>\n",
       "      <td>1.0</td>\n",
       "      <td>1.0</td>\n",
       "      <td>0.0</td>\n",
       "      <td>0.0</td>\n",
       "      <td>1.0</td>\n",
       "      <td>0.0</td>\n",
       "      <td>1.0</td>\n",
       "      <td>...</td>\n",
       "      <td>1.0</td>\n",
       "      <td>0.0</td>\n",
       "      <td>0.0</td>\n",
       "      <td>1.0</td>\n",
       "      <td>0.0</td>\n",
       "      <td>0.0</td>\n",
       "      <td>0.0</td>\n",
       "      <td>0.0</td>\n",
       "      <td>1.0</td>\n",
       "      <td>0.0</td>\n",
       "    </tr>\n",
       "  </tbody>\n",
       "</table>\n",
       "<p>382 rows × 43 columns</p>\n",
       "</div>"
      ],
      "text/plain": [
       "     school_GP  school_MS  sex_F  sex_M  address_R  address_U  famsize_GT3  \\\n",
       "0          1.0        0.0    1.0    0.0        0.0        1.0          1.0   \n",
       "1          1.0        0.0    1.0    0.0        0.0        1.0          1.0   \n",
       "2          1.0        0.0    1.0    0.0        0.0        1.0          0.0   \n",
       "3          1.0        0.0    1.0    0.0        0.0        1.0          1.0   \n",
       "4          1.0        0.0    1.0    0.0        0.0        1.0          1.0   \n",
       "..         ...        ...    ...    ...        ...        ...          ...   \n",
       "377        0.0        1.0    1.0    0.0        0.0        1.0          0.0   \n",
       "378        0.0        1.0    1.0    0.0        0.0        1.0          1.0   \n",
       "379        0.0        1.0    1.0    0.0        0.0        1.0          1.0   \n",
       "380        0.0        1.0    0.0    1.0        0.0        1.0          0.0   \n",
       "381        0.0        1.0    0.0    1.0        1.0        0.0          0.0   \n",
       "\n",
       "     famsize_LE3  Pstatus_A  Pstatus_T  ...  Fjob_other  Fjob_services  \\\n",
       "0            0.0        1.0        0.0  ...         0.0            0.0   \n",
       "1            0.0        0.0        1.0  ...         1.0            0.0   \n",
       "2            1.0        0.0        1.0  ...         1.0            0.0   \n",
       "3            0.0        0.0        1.0  ...         0.0            1.0   \n",
       "4            0.0        0.0        1.0  ...         1.0            0.0   \n",
       "..           ...        ...        ...  ...         ...            ...   \n",
       "377          1.0        0.0        1.0  ...         0.0            1.0   \n",
       "378          0.0        0.0        1.0  ...         1.0            0.0   \n",
       "379          0.0        0.0        1.0  ...         1.0            0.0   \n",
       "380          1.0        0.0        1.0  ...         0.0            1.0   \n",
       "381          1.0        0.0        1.0  ...         1.0            0.0   \n",
       "\n",
       "     Fjob_teacher  reason_course  reason_home  reason_other  \\\n",
       "0             1.0            1.0          0.0           0.0   \n",
       "1             0.0            1.0          0.0           0.0   \n",
       "2             0.0            0.0          0.0           1.0   \n",
       "3             0.0            0.0          1.0           0.0   \n",
       "4             0.0            0.0          1.0           0.0   \n",
       "..            ...            ...          ...           ...   \n",
       "377           0.0            1.0          0.0           0.0   \n",
       "378           0.0            1.0          0.0           0.0   \n",
       "379           0.0            1.0          0.0           0.0   \n",
       "380           0.0            1.0          0.0           0.0   \n",
       "381           0.0            1.0          0.0           0.0   \n",
       "\n",
       "     reason_reputation  guardian_father  guardian_mother  guardian_other  \n",
       "0                  0.0              0.0              1.0             0.0  \n",
       "1                  0.0              1.0              0.0             0.0  \n",
       "2                  0.0              0.0              1.0             0.0  \n",
       "3                  0.0              0.0              1.0             0.0  \n",
       "4                  0.0              1.0              0.0             0.0  \n",
       "..                 ...              ...              ...             ...  \n",
       "377                0.0              0.0              1.0             0.0  \n",
       "378                0.0              0.0              1.0             0.0  \n",
       "379                0.0              0.0              1.0             0.0  \n",
       "380                0.0              0.0              1.0             0.0  \n",
       "381                0.0              0.0              1.0             0.0  \n",
       "\n",
       "[382 rows x 43 columns]"
      ]
     },
     "execution_count": 99,
     "metadata": {},
     "output_type": "execute_result"
    }
   ],
   "source": [
    "test_cat"
   ]
  },
  {
   "cell_type": "markdown",
   "id": "7e33db83",
   "metadata": {},
   "source": [
    "###### Numerical Pipeline"
   ]
  },
  {
   "cell_type": "code",
   "execution_count": 100,
   "id": "ef7d1805",
   "metadata": {
    "ExecuteTime": {
     "end_time": "2023-07-28T17:12:29.039229Z",
     "start_time": "2023-07-28T17:12:29.035639Z"
    }
   },
   "outputs": [],
   "source": [
    "numerical_pipeline = make_pipeline(SimpleImputer(strategy='most_frequent'),\n",
    "                                   StandardScaler())"
   ]
  },
  {
   "cell_type": "code",
   "execution_count": 101,
   "id": "d3102839",
   "metadata": {
    "ExecuteTime": {
     "end_time": "2023-07-28T17:12:29.208102Z",
     "start_time": "2023-07-28T17:12:29.199596Z"
    }
   },
   "outputs": [],
   "source": [
    "num = numerical_pipeline.fit_transform(X[numerical_cols])\n",
    "test_num = pd.DataFrame(num,columns=numerical_pipeline.get_feature_names_out())"
   ]
  },
  {
   "cell_type": "code",
   "execution_count": 102,
   "id": "1dbafad5",
   "metadata": {
    "ExecuteTime": {
     "end_time": "2023-07-28T17:12:29.402413Z",
     "start_time": "2023-07-28T17:12:29.394370Z"
    }
   },
   "outputs": [
    {
     "data": {
      "text/html": [
       "<div>\n",
       "<style scoped>\n",
       "    .dataframe tbody tr th:only-of-type {\n",
       "        vertical-align: middle;\n",
       "    }\n",
       "\n",
       "    .dataframe tbody tr th {\n",
       "        vertical-align: top;\n",
       "    }\n",
       "\n",
       "    .dataframe thead th {\n",
       "        text-align: right;\n",
       "    }\n",
       "</style>\n",
       "<table border=\"1\" class=\"dataframe\">\n",
       "  <thead>\n",
       "    <tr style=\"text-align: right;\">\n",
       "      <th></th>\n",
       "      <th>age</th>\n",
       "    </tr>\n",
       "  </thead>\n",
       "  <tbody>\n",
       "    <tr>\n",
       "      <th>0</th>\n",
       "      <td>1.206223</td>\n",
       "    </tr>\n",
       "    <tr>\n",
       "      <th>1</th>\n",
       "      <td>0.352932</td>\n",
       "    </tr>\n",
       "    <tr>\n",
       "      <th>2</th>\n",
       "      <td>-1.353650</td>\n",
       "    </tr>\n",
       "    <tr>\n",
       "      <th>3</th>\n",
       "      <td>-1.353650</td>\n",
       "    </tr>\n",
       "    <tr>\n",
       "      <th>4</th>\n",
       "      <td>-0.500359</td>\n",
       "    </tr>\n",
       "    <tr>\n",
       "      <th>...</th>\n",
       "      <td>...</td>\n",
       "    </tr>\n",
       "    <tr>\n",
       "      <th>377</th>\n",
       "      <td>1.206223</td>\n",
       "    </tr>\n",
       "    <tr>\n",
       "      <th>378</th>\n",
       "      <td>1.206223</td>\n",
       "    </tr>\n",
       "    <tr>\n",
       "      <th>379</th>\n",
       "      <td>1.206223</td>\n",
       "    </tr>\n",
       "    <tr>\n",
       "      <th>380</th>\n",
       "      <td>0.352932</td>\n",
       "    </tr>\n",
       "    <tr>\n",
       "      <th>381</th>\n",
       "      <td>1.206223</td>\n",
       "    </tr>\n",
       "  </tbody>\n",
       "</table>\n",
       "<p>382 rows × 1 columns</p>\n",
       "</div>"
      ],
      "text/plain": [
       "          age\n",
       "0    1.206223\n",
       "1    0.352932\n",
       "2   -1.353650\n",
       "3   -1.353650\n",
       "4   -0.500359\n",
       "..        ...\n",
       "377  1.206223\n",
       "378  1.206223\n",
       "379  1.206223\n",
       "380  0.352932\n",
       "381  1.206223\n",
       "\n",
       "[382 rows x 1 columns]"
      ]
     },
     "execution_count": 102,
     "metadata": {},
     "output_type": "execute_result"
    }
   ],
   "source": [
    "test_num"
   ]
  },
  {
   "cell_type": "markdown",
   "id": "57d1b831",
   "metadata": {},
   "source": [
    "###### Preprocessing Pipeline"
   ]
  },
  {
   "cell_type": "code",
   "execution_count": 103,
   "id": "897083f6",
   "metadata": {
    "ExecuteTime": {
     "end_time": "2023-07-28T17:12:29.773303Z",
     "start_time": "2023-07-28T17:12:29.744200Z"
    }
   },
   "outputs": [
    {
     "data": {
      "text/html": [
       "<style>#sk-container-id-12 {color: black;background-color: white;}#sk-container-id-12 pre{padding: 0;}#sk-container-id-12 div.sk-toggleable {background-color: white;}#sk-container-id-12 label.sk-toggleable__label {cursor: pointer;display: block;width: 100%;margin-bottom: 0;padding: 0.3em;box-sizing: border-box;text-align: center;}#sk-container-id-12 label.sk-toggleable__label-arrow:before {content: \"▸\";float: left;margin-right: 0.25em;color: #696969;}#sk-container-id-12 label.sk-toggleable__label-arrow:hover:before {color: black;}#sk-container-id-12 div.sk-estimator:hover label.sk-toggleable__label-arrow:before {color: black;}#sk-container-id-12 div.sk-toggleable__content {max-height: 0;max-width: 0;overflow: hidden;text-align: left;background-color: #f0f8ff;}#sk-container-id-12 div.sk-toggleable__content pre {margin: 0.2em;color: black;border-radius: 0.25em;background-color: #f0f8ff;}#sk-container-id-12 input.sk-toggleable__control:checked~div.sk-toggleable__content {max-height: 200px;max-width: 100%;overflow: auto;}#sk-container-id-12 input.sk-toggleable__control:checked~label.sk-toggleable__label-arrow:before {content: \"▾\";}#sk-container-id-12 div.sk-estimator input.sk-toggleable__control:checked~label.sk-toggleable__label {background-color: #d4ebff;}#sk-container-id-12 div.sk-label input.sk-toggleable__control:checked~label.sk-toggleable__label {background-color: #d4ebff;}#sk-container-id-12 input.sk-hidden--visually {border: 0;clip: rect(1px 1px 1px 1px);clip: rect(1px, 1px, 1px, 1px);height: 1px;margin: -1px;overflow: hidden;padding: 0;position: absolute;width: 1px;}#sk-container-id-12 div.sk-estimator {font-family: monospace;background-color: #f0f8ff;border: 1px dotted black;border-radius: 0.25em;box-sizing: border-box;margin-bottom: 0.5em;}#sk-container-id-12 div.sk-estimator:hover {background-color: #d4ebff;}#sk-container-id-12 div.sk-parallel-item::after {content: \"\";width: 100%;border-bottom: 1px solid gray;flex-grow: 1;}#sk-container-id-12 div.sk-label:hover label.sk-toggleable__label {background-color: #d4ebff;}#sk-container-id-12 div.sk-serial::before {content: \"\";position: absolute;border-left: 1px solid gray;box-sizing: border-box;top: 0;bottom: 0;left: 50%;z-index: 0;}#sk-container-id-12 div.sk-serial {display: flex;flex-direction: column;align-items: center;background-color: white;padding-right: 0.2em;padding-left: 0.2em;position: relative;}#sk-container-id-12 div.sk-item {position: relative;z-index: 1;}#sk-container-id-12 div.sk-parallel {display: flex;align-items: stretch;justify-content: center;background-color: white;position: relative;}#sk-container-id-12 div.sk-item::before, #sk-container-id-12 div.sk-parallel-item::before {content: \"\";position: absolute;border-left: 1px solid gray;box-sizing: border-box;top: 0;bottom: 0;left: 50%;z-index: -1;}#sk-container-id-12 div.sk-parallel-item {display: flex;flex-direction: column;z-index: 1;position: relative;background-color: white;}#sk-container-id-12 div.sk-parallel-item:first-child::after {align-self: flex-end;width: 50%;}#sk-container-id-12 div.sk-parallel-item:last-child::after {align-self: flex-start;width: 50%;}#sk-container-id-12 div.sk-parallel-item:only-child::after {width: 0;}#sk-container-id-12 div.sk-dashed-wrapped {border: 1px dashed gray;margin: 0 0.4em 0.5em 0.4em;box-sizing: border-box;padding-bottom: 0.4em;background-color: white;}#sk-container-id-12 div.sk-label label {font-family: monospace;font-weight: bold;display: inline-block;line-height: 1.2em;}#sk-container-id-12 div.sk-label-container {text-align: center;}#sk-container-id-12 div.sk-container {/* jupyter's `normalize.less` sets `[hidden] { display: none; }` but bootstrap.min.css set `[hidden] { display: none !important; }` so we also need the `!important` here to be able to override the default hidden behavior on the sphinx rendered scikit-learn.org. See: https://github.com/scikit-learn/scikit-learn/issues/21755 */display: inline-block !important;position: relative;}#sk-container-id-12 div.sk-text-repr-fallback {display: none;}</style><div id=\"sk-container-id-12\" class=\"sk-top-container\"><div class=\"sk-text-repr-fallback\"><pre>ColumnTransformer(remainder=&#x27;passthrough&#x27;,\n",
       "                  transformers=[(&#x27;pipeline-1&#x27;,\n",
       "                                 Pipeline(steps=[(&#x27;simpleimputer&#x27;,\n",
       "                                                  SimpleImputer(strategy=&#x27;most_frequent&#x27;)),\n",
       "                                                 (&#x27;ordinalencoder&#x27;,\n",
       "                                                  OrdinalEncoder(handle_unknown=&#x27;use_encoded_value&#x27;,\n",
       "                                                                 unknown_value=-1))]),\n",
       "                                 [&#x27;Medu&#x27;, &#x27;Fedu&#x27;, &#x27;traveltime&#x27;, &#x27;studytime&#x27;,\n",
       "                                  &#x27;failures&#x27;, &#x27;famrel&#x27;, &#x27;freetime&#x27;, &#x27;goout&#x27;,\n",
       "                                  &#x27;Dalc&#x27;, &#x27;Walc&#x27;, &#x27;health&#x27;]),\n",
       "                                (&#x27;pipeline-2&#x27;...\n",
       "                                                  OneHotEncoder(handle_unknown=&#x27;ignore&#x27;,\n",
       "                                                                sparse=False,\n",
       "                                                                sparse_output=False))]),\n",
       "                                 [&#x27;school&#x27;, &#x27;sex&#x27;, &#x27;address&#x27;, &#x27;famsize&#x27;,\n",
       "                                  &#x27;Pstatus&#x27;, &#x27;schoolsup&#x27;, &#x27;famsup&#x27;, &#x27;paid&#x27;,\n",
       "                                  &#x27;activities&#x27;, &#x27;nursery&#x27;, &#x27;higher&#x27;, &#x27;internet&#x27;,\n",
       "                                  &#x27;romantic&#x27;, &#x27;Mjob&#x27;, &#x27;Fjob&#x27;, &#x27;reason&#x27;,\n",
       "                                  &#x27;guardian&#x27;]),\n",
       "                                (&#x27;pipeline-3&#x27;,\n",
       "                                 Pipeline(steps=[(&#x27;simpleimputer&#x27;,\n",
       "                                                  SimpleImputer(strategy=&#x27;most_frequent&#x27;)),\n",
       "                                                 (&#x27;standardscaler&#x27;,\n",
       "                                                  StandardScaler())]),\n",
       "                                 [&#x27;age&#x27;])])</pre><b>In a Jupyter environment, please rerun this cell to show the HTML representation or trust the notebook. <br />On GitHub, the HTML representation is unable to render, please try loading this page with nbviewer.org.</b></div><div class=\"sk-container\" hidden><div class=\"sk-item sk-dashed-wrapped\"><div class=\"sk-label-container\"><div class=\"sk-label sk-toggleable\"><input class=\"sk-toggleable__control sk-hidden--visually\" id=\"sk-estimator-id-127\" type=\"checkbox\" ><label for=\"sk-estimator-id-127\" class=\"sk-toggleable__label sk-toggleable__label-arrow\">ColumnTransformer</label><div class=\"sk-toggleable__content\"><pre>ColumnTransformer(remainder=&#x27;passthrough&#x27;,\n",
       "                  transformers=[(&#x27;pipeline-1&#x27;,\n",
       "                                 Pipeline(steps=[(&#x27;simpleimputer&#x27;,\n",
       "                                                  SimpleImputer(strategy=&#x27;most_frequent&#x27;)),\n",
       "                                                 (&#x27;ordinalencoder&#x27;,\n",
       "                                                  OrdinalEncoder(handle_unknown=&#x27;use_encoded_value&#x27;,\n",
       "                                                                 unknown_value=-1))]),\n",
       "                                 [&#x27;Medu&#x27;, &#x27;Fedu&#x27;, &#x27;traveltime&#x27;, &#x27;studytime&#x27;,\n",
       "                                  &#x27;failures&#x27;, &#x27;famrel&#x27;, &#x27;freetime&#x27;, &#x27;goout&#x27;,\n",
       "                                  &#x27;Dalc&#x27;, &#x27;Walc&#x27;, &#x27;health&#x27;]),\n",
       "                                (&#x27;pipeline-2&#x27;...\n",
       "                                                  OneHotEncoder(handle_unknown=&#x27;ignore&#x27;,\n",
       "                                                                sparse=False,\n",
       "                                                                sparse_output=False))]),\n",
       "                                 [&#x27;school&#x27;, &#x27;sex&#x27;, &#x27;address&#x27;, &#x27;famsize&#x27;,\n",
       "                                  &#x27;Pstatus&#x27;, &#x27;schoolsup&#x27;, &#x27;famsup&#x27;, &#x27;paid&#x27;,\n",
       "                                  &#x27;activities&#x27;, &#x27;nursery&#x27;, &#x27;higher&#x27;, &#x27;internet&#x27;,\n",
       "                                  &#x27;romantic&#x27;, &#x27;Mjob&#x27;, &#x27;Fjob&#x27;, &#x27;reason&#x27;,\n",
       "                                  &#x27;guardian&#x27;]),\n",
       "                                (&#x27;pipeline-3&#x27;,\n",
       "                                 Pipeline(steps=[(&#x27;simpleimputer&#x27;,\n",
       "                                                  SimpleImputer(strategy=&#x27;most_frequent&#x27;)),\n",
       "                                                 (&#x27;standardscaler&#x27;,\n",
       "                                                  StandardScaler())]),\n",
       "                                 [&#x27;age&#x27;])])</pre></div></div></div><div class=\"sk-parallel\"><div class=\"sk-parallel-item\"><div class=\"sk-item\"><div class=\"sk-label-container\"><div class=\"sk-label sk-toggleable\"><input class=\"sk-toggleable__control sk-hidden--visually\" id=\"sk-estimator-id-128\" type=\"checkbox\" ><label for=\"sk-estimator-id-128\" class=\"sk-toggleable__label sk-toggleable__label-arrow\">pipeline-1</label><div class=\"sk-toggleable__content\"><pre>[&#x27;Medu&#x27;, &#x27;Fedu&#x27;, &#x27;traveltime&#x27;, &#x27;studytime&#x27;, &#x27;failures&#x27;, &#x27;famrel&#x27;, &#x27;freetime&#x27;, &#x27;goout&#x27;, &#x27;Dalc&#x27;, &#x27;Walc&#x27;, &#x27;health&#x27;]</pre></div></div></div><div class=\"sk-serial\"><div class=\"sk-item\"><div class=\"sk-serial\"><div class=\"sk-item\"><div class=\"sk-estimator sk-toggleable\"><input class=\"sk-toggleable__control sk-hidden--visually\" id=\"sk-estimator-id-129\" type=\"checkbox\" ><label for=\"sk-estimator-id-129\" class=\"sk-toggleable__label sk-toggleable__label-arrow\">SimpleImputer</label><div class=\"sk-toggleable__content\"><pre>SimpleImputer(strategy=&#x27;most_frequent&#x27;)</pre></div></div></div><div class=\"sk-item\"><div class=\"sk-estimator sk-toggleable\"><input class=\"sk-toggleable__control sk-hidden--visually\" id=\"sk-estimator-id-130\" type=\"checkbox\" ><label for=\"sk-estimator-id-130\" class=\"sk-toggleable__label sk-toggleable__label-arrow\">OrdinalEncoder</label><div class=\"sk-toggleable__content\"><pre>OrdinalEncoder(handle_unknown=&#x27;use_encoded_value&#x27;, unknown_value=-1)</pre></div></div></div></div></div></div></div></div><div class=\"sk-parallel-item\"><div class=\"sk-item\"><div class=\"sk-label-container\"><div class=\"sk-label sk-toggleable\"><input class=\"sk-toggleable__control sk-hidden--visually\" id=\"sk-estimator-id-131\" type=\"checkbox\" ><label for=\"sk-estimator-id-131\" class=\"sk-toggleable__label sk-toggleable__label-arrow\">pipeline-2</label><div class=\"sk-toggleable__content\"><pre>[&#x27;school&#x27;, &#x27;sex&#x27;, &#x27;address&#x27;, &#x27;famsize&#x27;, &#x27;Pstatus&#x27;, &#x27;schoolsup&#x27;, &#x27;famsup&#x27;, &#x27;paid&#x27;, &#x27;activities&#x27;, &#x27;nursery&#x27;, &#x27;higher&#x27;, &#x27;internet&#x27;, &#x27;romantic&#x27;, &#x27;Mjob&#x27;, &#x27;Fjob&#x27;, &#x27;reason&#x27;, &#x27;guardian&#x27;]</pre></div></div></div><div class=\"sk-serial\"><div class=\"sk-item\"><div class=\"sk-serial\"><div class=\"sk-item\"><div class=\"sk-estimator sk-toggleable\"><input class=\"sk-toggleable__control sk-hidden--visually\" id=\"sk-estimator-id-132\" type=\"checkbox\" ><label for=\"sk-estimator-id-132\" class=\"sk-toggleable__label sk-toggleable__label-arrow\">SimpleImputer</label><div class=\"sk-toggleable__content\"><pre>SimpleImputer(strategy=&#x27;most_frequent&#x27;)</pre></div></div></div><div class=\"sk-item\"><div class=\"sk-estimator sk-toggleable\"><input class=\"sk-toggleable__control sk-hidden--visually\" id=\"sk-estimator-id-133\" type=\"checkbox\" ><label for=\"sk-estimator-id-133\" class=\"sk-toggleable__label sk-toggleable__label-arrow\">OneHotEncoder</label><div class=\"sk-toggleable__content\"><pre>OneHotEncoder(handle_unknown=&#x27;ignore&#x27;, sparse=False, sparse_output=False)</pre></div></div></div></div></div></div></div></div><div class=\"sk-parallel-item\"><div class=\"sk-item\"><div class=\"sk-label-container\"><div class=\"sk-label sk-toggleable\"><input class=\"sk-toggleable__control sk-hidden--visually\" id=\"sk-estimator-id-134\" type=\"checkbox\" ><label for=\"sk-estimator-id-134\" class=\"sk-toggleable__label sk-toggleable__label-arrow\">pipeline-3</label><div class=\"sk-toggleable__content\"><pre>[&#x27;age&#x27;]</pre></div></div></div><div class=\"sk-serial\"><div class=\"sk-item\"><div class=\"sk-serial\"><div class=\"sk-item\"><div class=\"sk-estimator sk-toggleable\"><input class=\"sk-toggleable__control sk-hidden--visually\" id=\"sk-estimator-id-135\" type=\"checkbox\" ><label for=\"sk-estimator-id-135\" class=\"sk-toggleable__label sk-toggleable__label-arrow\">SimpleImputer</label><div class=\"sk-toggleable__content\"><pre>SimpleImputer(strategy=&#x27;most_frequent&#x27;)</pre></div></div></div><div class=\"sk-item\"><div class=\"sk-estimator sk-toggleable\"><input class=\"sk-toggleable__control sk-hidden--visually\" id=\"sk-estimator-id-136\" type=\"checkbox\" ><label for=\"sk-estimator-id-136\" class=\"sk-toggleable__label sk-toggleable__label-arrow\">StandardScaler</label><div class=\"sk-toggleable__content\"><pre>StandardScaler()</pre></div></div></div></div></div></div></div></div><div class=\"sk-parallel-item\"><div class=\"sk-item\"><div class=\"sk-label-container\"><div class=\"sk-label sk-toggleable\"><input class=\"sk-toggleable__control sk-hidden--visually\" id=\"sk-estimator-id-137\" type=\"checkbox\" ><label for=\"sk-estimator-id-137\" class=\"sk-toggleable__label sk-toggleable__label-arrow\">remainder</label><div class=\"sk-toggleable__content\"><pre></pre></div></div></div><div class=\"sk-serial\"><div class=\"sk-item\"><div class=\"sk-estimator sk-toggleable\"><input class=\"sk-toggleable__control sk-hidden--visually\" id=\"sk-estimator-id-138\" type=\"checkbox\" ><label for=\"sk-estimator-id-138\" class=\"sk-toggleable__label sk-toggleable__label-arrow\">passthrough</label><div class=\"sk-toggleable__content\"><pre>passthrough</pre></div></div></div></div></div></div></div></div></div></div>"
      ],
      "text/plain": [
       "ColumnTransformer(remainder='passthrough',\n",
       "                  transformers=[('pipeline-1',\n",
       "                                 Pipeline(steps=[('simpleimputer',\n",
       "                                                  SimpleImputer(strategy='most_frequent')),\n",
       "                                                 ('ordinalencoder',\n",
       "                                                  OrdinalEncoder(handle_unknown='use_encoded_value',\n",
       "                                                                 unknown_value=-1))]),\n",
       "                                 ['Medu', 'Fedu', 'traveltime', 'studytime',\n",
       "                                  'failures', 'famrel', 'freetime', 'goout',\n",
       "                                  'Dalc', 'Walc', 'health']),\n",
       "                                ('pipeline-2'...\n",
       "                                                  OneHotEncoder(handle_unknown='ignore',\n",
       "                                                                sparse=False,\n",
       "                                                                sparse_output=False))]),\n",
       "                                 ['school', 'sex', 'address', 'famsize',\n",
       "                                  'Pstatus', 'schoolsup', 'famsup', 'paid',\n",
       "                                  'activities', 'nursery', 'higher', 'internet',\n",
       "                                  'romantic', 'Mjob', 'Fjob', 'reason',\n",
       "                                  'guardian']),\n",
       "                                ('pipeline-3',\n",
       "                                 Pipeline(steps=[('simpleimputer',\n",
       "                                                  SimpleImputer(strategy='most_frequent')),\n",
       "                                                 ('standardscaler',\n",
       "                                                  StandardScaler())]),\n",
       "                                 ['age'])])"
      ]
     },
     "execution_count": 103,
     "metadata": {},
     "output_type": "execute_result"
    }
   ],
   "source": [
    "preprocess = make_column_transformer((ordinal_pipeline, ordinal_cols),\n",
    "                                     (categorical_pipeline, categorical_cols),\n",
    "                                     (numerical_pipeline, numerical_cols),\n",
    "                                     remainder='passthrough')\n",
    "preprocess"
   ]
  },
  {
   "cell_type": "code",
   "execution_count": 104,
   "id": "4539b921",
   "metadata": {
    "ExecuteTime": {
     "end_time": "2023-07-28T17:12:29.961610Z",
     "start_time": "2023-07-28T17:12:29.919306Z"
    }
   },
   "outputs": [
    {
     "data": {
      "text/html": [
       "<div>\n",
       "<style scoped>\n",
       "    .dataframe tbody tr th:only-of-type {\n",
       "        vertical-align: middle;\n",
       "    }\n",
       "\n",
       "    .dataframe tbody tr th {\n",
       "        vertical-align: top;\n",
       "    }\n",
       "\n",
       "    .dataframe thead th {\n",
       "        text-align: right;\n",
       "    }\n",
       "</style>\n",
       "<table border=\"1\" class=\"dataframe\">\n",
       "  <thead>\n",
       "    <tr style=\"text-align: right;\">\n",
       "      <th></th>\n",
       "      <th>pipeline-1__Medu</th>\n",
       "      <th>pipeline-1__Fedu</th>\n",
       "      <th>pipeline-1__traveltime</th>\n",
       "      <th>pipeline-1__studytime</th>\n",
       "      <th>pipeline-1__failures</th>\n",
       "      <th>pipeline-1__famrel</th>\n",
       "      <th>pipeline-1__freetime</th>\n",
       "      <th>pipeline-1__goout</th>\n",
       "      <th>pipeline-1__Dalc</th>\n",
       "      <th>pipeline-1__Walc</th>\n",
       "      <th>...</th>\n",
       "      <th>pipeline-2__Fjob_services</th>\n",
       "      <th>pipeline-2__Fjob_teacher</th>\n",
       "      <th>pipeline-2__reason_course</th>\n",
       "      <th>pipeline-2__reason_home</th>\n",
       "      <th>pipeline-2__reason_other</th>\n",
       "      <th>pipeline-2__reason_reputation</th>\n",
       "      <th>pipeline-2__guardian_father</th>\n",
       "      <th>pipeline-2__guardian_mother</th>\n",
       "      <th>pipeline-2__guardian_other</th>\n",
       "      <th>pipeline-3__age</th>\n",
       "    </tr>\n",
       "  </thead>\n",
       "  <tbody>\n",
       "    <tr>\n",
       "      <th>0</th>\n",
       "      <td>4.0</td>\n",
       "      <td>4.0</td>\n",
       "      <td>1.0</td>\n",
       "      <td>1.0</td>\n",
       "      <td>0.0</td>\n",
       "      <td>3.0</td>\n",
       "      <td>2.0</td>\n",
       "      <td>3.0</td>\n",
       "      <td>0.0</td>\n",
       "      <td>0.0</td>\n",
       "      <td>...</td>\n",
       "      <td>0.0</td>\n",
       "      <td>1.0</td>\n",
       "      <td>1.0</td>\n",
       "      <td>0.0</td>\n",
       "      <td>0.0</td>\n",
       "      <td>0.0</td>\n",
       "      <td>0.0</td>\n",
       "      <td>1.0</td>\n",
       "      <td>0.0</td>\n",
       "      <td>1.206223</td>\n",
       "    </tr>\n",
       "    <tr>\n",
       "      <th>1</th>\n",
       "      <td>1.0</td>\n",
       "      <td>1.0</td>\n",
       "      <td>0.0</td>\n",
       "      <td>1.0</td>\n",
       "      <td>0.0</td>\n",
       "      <td>4.0</td>\n",
       "      <td>2.0</td>\n",
       "      <td>2.0</td>\n",
       "      <td>0.0</td>\n",
       "      <td>0.0</td>\n",
       "      <td>...</td>\n",
       "      <td>0.0</td>\n",
       "      <td>0.0</td>\n",
       "      <td>1.0</td>\n",
       "      <td>0.0</td>\n",
       "      <td>0.0</td>\n",
       "      <td>0.0</td>\n",
       "      <td>1.0</td>\n",
       "      <td>0.0</td>\n",
       "      <td>0.0</td>\n",
       "      <td>0.352932</td>\n",
       "    </tr>\n",
       "    <tr>\n",
       "      <th>2</th>\n",
       "      <td>1.0</td>\n",
       "      <td>1.0</td>\n",
       "      <td>0.0</td>\n",
       "      <td>1.0</td>\n",
       "      <td>0.0</td>\n",
       "      <td>3.0</td>\n",
       "      <td>2.0</td>\n",
       "      <td>1.0</td>\n",
       "      <td>1.0</td>\n",
       "      <td>2.0</td>\n",
       "      <td>...</td>\n",
       "      <td>0.0</td>\n",
       "      <td>0.0</td>\n",
       "      <td>0.0</td>\n",
       "      <td>0.0</td>\n",
       "      <td>1.0</td>\n",
       "      <td>0.0</td>\n",
       "      <td>0.0</td>\n",
       "      <td>1.0</td>\n",
       "      <td>0.0</td>\n",
       "      <td>-1.353650</td>\n",
       "    </tr>\n",
       "    <tr>\n",
       "      <th>3</th>\n",
       "      <td>4.0</td>\n",
       "      <td>2.0</td>\n",
       "      <td>0.0</td>\n",
       "      <td>2.0</td>\n",
       "      <td>0.0</td>\n",
       "      <td>2.0</td>\n",
       "      <td>1.0</td>\n",
       "      <td>1.0</td>\n",
       "      <td>0.0</td>\n",
       "      <td>0.0</td>\n",
       "      <td>...</td>\n",
       "      <td>1.0</td>\n",
       "      <td>0.0</td>\n",
       "      <td>0.0</td>\n",
       "      <td>1.0</td>\n",
       "      <td>0.0</td>\n",
       "      <td>0.0</td>\n",
       "      <td>0.0</td>\n",
       "      <td>1.0</td>\n",
       "      <td>0.0</td>\n",
       "      <td>-1.353650</td>\n",
       "    </tr>\n",
       "    <tr>\n",
       "      <th>4</th>\n",
       "      <td>3.0</td>\n",
       "      <td>3.0</td>\n",
       "      <td>0.0</td>\n",
       "      <td>1.0</td>\n",
       "      <td>0.0</td>\n",
       "      <td>3.0</td>\n",
       "      <td>2.0</td>\n",
       "      <td>1.0</td>\n",
       "      <td>0.0</td>\n",
       "      <td>1.0</td>\n",
       "      <td>...</td>\n",
       "      <td>0.0</td>\n",
       "      <td>0.0</td>\n",
       "      <td>0.0</td>\n",
       "      <td>1.0</td>\n",
       "      <td>0.0</td>\n",
       "      <td>0.0</td>\n",
       "      <td>1.0</td>\n",
       "      <td>0.0</td>\n",
       "      <td>0.0</td>\n",
       "      <td>-0.500359</td>\n",
       "    </tr>\n",
       "    <tr>\n",
       "      <th>...</th>\n",
       "      <td>...</td>\n",
       "      <td>...</td>\n",
       "      <td>...</td>\n",
       "      <td>...</td>\n",
       "      <td>...</td>\n",
       "      <td>...</td>\n",
       "      <td>...</td>\n",
       "      <td>...</td>\n",
       "      <td>...</td>\n",
       "      <td>...</td>\n",
       "      <td>...</td>\n",
       "      <td>...</td>\n",
       "      <td>...</td>\n",
       "      <td>...</td>\n",
       "      <td>...</td>\n",
       "      <td>...</td>\n",
       "      <td>...</td>\n",
       "      <td>...</td>\n",
       "      <td>...</td>\n",
       "      <td>...</td>\n",
       "      <td>...</td>\n",
       "    </tr>\n",
       "    <tr>\n",
       "      <th>377</th>\n",
       "      <td>3.0</td>\n",
       "      <td>1.0</td>\n",
       "      <td>0.0</td>\n",
       "      <td>1.0</td>\n",
       "      <td>0.0</td>\n",
       "      <td>3.0</td>\n",
       "      <td>2.0</td>\n",
       "      <td>3.0</td>\n",
       "      <td>0.0</td>\n",
       "      <td>0.0</td>\n",
       "      <td>...</td>\n",
       "      <td>1.0</td>\n",
       "      <td>0.0</td>\n",
       "      <td>1.0</td>\n",
       "      <td>0.0</td>\n",
       "      <td>0.0</td>\n",
       "      <td>0.0</td>\n",
       "      <td>0.0</td>\n",
       "      <td>1.0</td>\n",
       "      <td>0.0</td>\n",
       "      <td>1.206223</td>\n",
       "    </tr>\n",
       "    <tr>\n",
       "      <th>378</th>\n",
       "      <td>1.0</td>\n",
       "      <td>1.0</td>\n",
       "      <td>0.0</td>\n",
       "      <td>1.0</td>\n",
       "      <td>0.0</td>\n",
       "      <td>3.0</td>\n",
       "      <td>2.0</td>\n",
       "      <td>2.0</td>\n",
       "      <td>0.0</td>\n",
       "      <td>0.0</td>\n",
       "      <td>...</td>\n",
       "      <td>0.0</td>\n",
       "      <td>0.0</td>\n",
       "      <td>1.0</td>\n",
       "      <td>0.0</td>\n",
       "      <td>0.0</td>\n",
       "      <td>0.0</td>\n",
       "      <td>0.0</td>\n",
       "      <td>1.0</td>\n",
       "      <td>0.0</td>\n",
       "      <td>1.206223</td>\n",
       "    </tr>\n",
       "    <tr>\n",
       "      <th>379</th>\n",
       "      <td>1.0</td>\n",
       "      <td>1.0</td>\n",
       "      <td>1.0</td>\n",
       "      <td>1.0</td>\n",
       "      <td>0.0</td>\n",
       "      <td>0.0</td>\n",
       "      <td>0.0</td>\n",
       "      <td>0.0</td>\n",
       "      <td>0.0</td>\n",
       "      <td>0.0</td>\n",
       "      <td>...</td>\n",
       "      <td>0.0</td>\n",
       "      <td>0.0</td>\n",
       "      <td>1.0</td>\n",
       "      <td>0.0</td>\n",
       "      <td>0.0</td>\n",
       "      <td>0.0</td>\n",
       "      <td>0.0</td>\n",
       "      <td>1.0</td>\n",
       "      <td>0.0</td>\n",
       "      <td>1.206223</td>\n",
       "    </tr>\n",
       "    <tr>\n",
       "      <th>380</th>\n",
       "      <td>3.0</td>\n",
       "      <td>1.0</td>\n",
       "      <td>1.0</td>\n",
       "      <td>0.0</td>\n",
       "      <td>0.0</td>\n",
       "      <td>1.0</td>\n",
       "      <td>3.0</td>\n",
       "      <td>4.0</td>\n",
       "      <td>2.0</td>\n",
       "      <td>3.0</td>\n",
       "      <td>...</td>\n",
       "      <td>1.0</td>\n",
       "      <td>0.0</td>\n",
       "      <td>1.0</td>\n",
       "      <td>0.0</td>\n",
       "      <td>0.0</td>\n",
       "      <td>0.0</td>\n",
       "      <td>0.0</td>\n",
       "      <td>1.0</td>\n",
       "      <td>0.0</td>\n",
       "      <td>0.352932</td>\n",
       "    </tr>\n",
       "    <tr>\n",
       "      <th>381</th>\n",
       "      <td>3.0</td>\n",
       "      <td>2.0</td>\n",
       "      <td>2.0</td>\n",
       "      <td>0.0</td>\n",
       "      <td>0.0</td>\n",
       "      <td>3.0</td>\n",
       "      <td>3.0</td>\n",
       "      <td>0.0</td>\n",
       "      <td>2.0</td>\n",
       "      <td>3.0</td>\n",
       "      <td>...</td>\n",
       "      <td>0.0</td>\n",
       "      <td>0.0</td>\n",
       "      <td>1.0</td>\n",
       "      <td>0.0</td>\n",
       "      <td>0.0</td>\n",
       "      <td>0.0</td>\n",
       "      <td>0.0</td>\n",
       "      <td>1.0</td>\n",
       "      <td>0.0</td>\n",
       "      <td>1.206223</td>\n",
       "    </tr>\n",
       "  </tbody>\n",
       "</table>\n",
       "<p>382 rows × 55 columns</p>\n",
       "</div>"
      ],
      "text/plain": [
       "     pipeline-1__Medu  pipeline-1__Fedu  pipeline-1__traveltime  \\\n",
       "0                 4.0               4.0                     1.0   \n",
       "1                 1.0               1.0                     0.0   \n",
       "2                 1.0               1.0                     0.0   \n",
       "3                 4.0               2.0                     0.0   \n",
       "4                 3.0               3.0                     0.0   \n",
       "..                ...               ...                     ...   \n",
       "377               3.0               1.0                     0.0   \n",
       "378               1.0               1.0                     0.0   \n",
       "379               1.0               1.0                     1.0   \n",
       "380               3.0               1.0                     1.0   \n",
       "381               3.0               2.0                     2.0   \n",
       "\n",
       "     pipeline-1__studytime  pipeline-1__failures  pipeline-1__famrel  \\\n",
       "0                      1.0                   0.0                 3.0   \n",
       "1                      1.0                   0.0                 4.0   \n",
       "2                      1.0                   0.0                 3.0   \n",
       "3                      2.0                   0.0                 2.0   \n",
       "4                      1.0                   0.0                 3.0   \n",
       "..                     ...                   ...                 ...   \n",
       "377                    1.0                   0.0                 3.0   \n",
       "378                    1.0                   0.0                 3.0   \n",
       "379                    1.0                   0.0                 0.0   \n",
       "380                    0.0                   0.0                 1.0   \n",
       "381                    0.0                   0.0                 3.0   \n",
       "\n",
       "     pipeline-1__freetime  pipeline-1__goout  pipeline-1__Dalc  \\\n",
       "0                     2.0                3.0               0.0   \n",
       "1                     2.0                2.0               0.0   \n",
       "2                     2.0                1.0               1.0   \n",
       "3                     1.0                1.0               0.0   \n",
       "4                     2.0                1.0               0.0   \n",
       "..                    ...                ...               ...   \n",
       "377                   2.0                3.0               0.0   \n",
       "378                   2.0                2.0               0.0   \n",
       "379                   0.0                0.0               0.0   \n",
       "380                   3.0                4.0               2.0   \n",
       "381                   3.0                0.0               2.0   \n",
       "\n",
       "     pipeline-1__Walc  ...  pipeline-2__Fjob_services  \\\n",
       "0                 0.0  ...                        0.0   \n",
       "1                 0.0  ...                        0.0   \n",
       "2                 2.0  ...                        0.0   \n",
       "3                 0.0  ...                        1.0   \n",
       "4                 1.0  ...                        0.0   \n",
       "..                ...  ...                        ...   \n",
       "377               0.0  ...                        1.0   \n",
       "378               0.0  ...                        0.0   \n",
       "379               0.0  ...                        0.0   \n",
       "380               3.0  ...                        1.0   \n",
       "381               3.0  ...                        0.0   \n",
       "\n",
       "     pipeline-2__Fjob_teacher  pipeline-2__reason_course  \\\n",
       "0                         1.0                        1.0   \n",
       "1                         0.0                        1.0   \n",
       "2                         0.0                        0.0   \n",
       "3                         0.0                        0.0   \n",
       "4                         0.0                        0.0   \n",
       "..                        ...                        ...   \n",
       "377                       0.0                        1.0   \n",
       "378                       0.0                        1.0   \n",
       "379                       0.0                        1.0   \n",
       "380                       0.0                        1.0   \n",
       "381                       0.0                        1.0   \n",
       "\n",
       "     pipeline-2__reason_home  pipeline-2__reason_other  \\\n",
       "0                        0.0                       0.0   \n",
       "1                        0.0                       0.0   \n",
       "2                        0.0                       1.0   \n",
       "3                        1.0                       0.0   \n",
       "4                        1.0                       0.0   \n",
       "..                       ...                       ...   \n",
       "377                      0.0                       0.0   \n",
       "378                      0.0                       0.0   \n",
       "379                      0.0                       0.0   \n",
       "380                      0.0                       0.0   \n",
       "381                      0.0                       0.0   \n",
       "\n",
       "     pipeline-2__reason_reputation  pipeline-2__guardian_father  \\\n",
       "0                              0.0                          0.0   \n",
       "1                              0.0                          1.0   \n",
       "2                              0.0                          0.0   \n",
       "3                              0.0                          0.0   \n",
       "4                              0.0                          1.0   \n",
       "..                             ...                          ...   \n",
       "377                            0.0                          0.0   \n",
       "378                            0.0                          0.0   \n",
       "379                            0.0                          0.0   \n",
       "380                            0.0                          0.0   \n",
       "381                            0.0                          0.0   \n",
       "\n",
       "     pipeline-2__guardian_mother  pipeline-2__guardian_other  pipeline-3__age  \n",
       "0                            1.0                         0.0         1.206223  \n",
       "1                            0.0                         0.0         0.352932  \n",
       "2                            1.0                         0.0        -1.353650  \n",
       "3                            1.0                         0.0        -1.353650  \n",
       "4                            0.0                         0.0        -0.500359  \n",
       "..                           ...                         ...              ...  \n",
       "377                          1.0                         0.0         1.206223  \n",
       "378                          1.0                         0.0         1.206223  \n",
       "379                          1.0                         0.0         1.206223  \n",
       "380                          1.0                         0.0         0.352932  \n",
       "381                          1.0                         0.0         1.206223  \n",
       "\n",
       "[382 rows x 55 columns]"
      ]
     },
     "execution_count": 104,
     "metadata": {},
     "output_type": "execute_result"
    }
   ],
   "source": [
    "test_dataf = preprocess.fit_transform(X)\n",
    "\n",
    "pd.DataFrame(test_dataf, columns=preprocess.get_feature_names_out())"
   ]
  },
  {
   "cell_type": "markdown",
   "id": "86c230ea",
   "metadata": {},
   "source": [
    "###### Model reg\n",
    "First, we will attempt to predict the exact grade using a linear regression model."
   ]
  },
  {
   "cell_type": "code",
   "execution_count": 117,
   "id": "81b3c016",
   "metadata": {
    "ExecuteTime": {
     "end_time": "2023-07-28T17:27:01.616090Z",
     "start_time": "2023-07-28T17:27:01.535786Z"
    }
   },
   "outputs": [
    {
     "data": {
      "text/html": [
       "<style>#sk-container-id-16 {color: black;background-color: white;}#sk-container-id-16 pre{padding: 0;}#sk-container-id-16 div.sk-toggleable {background-color: white;}#sk-container-id-16 label.sk-toggleable__label {cursor: pointer;display: block;width: 100%;margin-bottom: 0;padding: 0.3em;box-sizing: border-box;text-align: center;}#sk-container-id-16 label.sk-toggleable__label-arrow:before {content: \"▸\";float: left;margin-right: 0.25em;color: #696969;}#sk-container-id-16 label.sk-toggleable__label-arrow:hover:before {color: black;}#sk-container-id-16 div.sk-estimator:hover label.sk-toggleable__label-arrow:before {color: black;}#sk-container-id-16 div.sk-toggleable__content {max-height: 0;max-width: 0;overflow: hidden;text-align: left;background-color: #f0f8ff;}#sk-container-id-16 div.sk-toggleable__content pre {margin: 0.2em;color: black;border-radius: 0.25em;background-color: #f0f8ff;}#sk-container-id-16 input.sk-toggleable__control:checked~div.sk-toggleable__content {max-height: 200px;max-width: 100%;overflow: auto;}#sk-container-id-16 input.sk-toggleable__control:checked~label.sk-toggleable__label-arrow:before {content: \"▾\";}#sk-container-id-16 div.sk-estimator input.sk-toggleable__control:checked~label.sk-toggleable__label {background-color: #d4ebff;}#sk-container-id-16 div.sk-label input.sk-toggleable__control:checked~label.sk-toggleable__label {background-color: #d4ebff;}#sk-container-id-16 input.sk-hidden--visually {border: 0;clip: rect(1px 1px 1px 1px);clip: rect(1px, 1px, 1px, 1px);height: 1px;margin: -1px;overflow: hidden;padding: 0;position: absolute;width: 1px;}#sk-container-id-16 div.sk-estimator {font-family: monospace;background-color: #f0f8ff;border: 1px dotted black;border-radius: 0.25em;box-sizing: border-box;margin-bottom: 0.5em;}#sk-container-id-16 div.sk-estimator:hover {background-color: #d4ebff;}#sk-container-id-16 div.sk-parallel-item::after {content: \"\";width: 100%;border-bottom: 1px solid gray;flex-grow: 1;}#sk-container-id-16 div.sk-label:hover label.sk-toggleable__label {background-color: #d4ebff;}#sk-container-id-16 div.sk-serial::before {content: \"\";position: absolute;border-left: 1px solid gray;box-sizing: border-box;top: 0;bottom: 0;left: 50%;z-index: 0;}#sk-container-id-16 div.sk-serial {display: flex;flex-direction: column;align-items: center;background-color: white;padding-right: 0.2em;padding-left: 0.2em;position: relative;}#sk-container-id-16 div.sk-item {position: relative;z-index: 1;}#sk-container-id-16 div.sk-parallel {display: flex;align-items: stretch;justify-content: center;background-color: white;position: relative;}#sk-container-id-16 div.sk-item::before, #sk-container-id-16 div.sk-parallel-item::before {content: \"\";position: absolute;border-left: 1px solid gray;box-sizing: border-box;top: 0;bottom: 0;left: 50%;z-index: -1;}#sk-container-id-16 div.sk-parallel-item {display: flex;flex-direction: column;z-index: 1;position: relative;background-color: white;}#sk-container-id-16 div.sk-parallel-item:first-child::after {align-self: flex-end;width: 50%;}#sk-container-id-16 div.sk-parallel-item:last-child::after {align-self: flex-start;width: 50%;}#sk-container-id-16 div.sk-parallel-item:only-child::after {width: 0;}#sk-container-id-16 div.sk-dashed-wrapped {border: 1px dashed gray;margin: 0 0.4em 0.5em 0.4em;box-sizing: border-box;padding-bottom: 0.4em;background-color: white;}#sk-container-id-16 div.sk-label label {font-family: monospace;font-weight: bold;display: inline-block;line-height: 1.2em;}#sk-container-id-16 div.sk-label-container {text-align: center;}#sk-container-id-16 div.sk-container {/* jupyter's `normalize.less` sets `[hidden] { display: none; }` but bootstrap.min.css set `[hidden] { display: none !important; }` so we also need the `!important` here to be able to override the default hidden behavior on the sphinx rendered scikit-learn.org. See: https://github.com/scikit-learn/scikit-learn/issues/21755 */display: inline-block !important;position: relative;}#sk-container-id-16 div.sk-text-repr-fallback {display: none;}</style><div id=\"sk-container-id-16\" class=\"sk-top-container\"><div class=\"sk-text-repr-fallback\"><pre>Pipeline(steps=[(&#x27;columntransformer&#x27;,\n",
       "                 ColumnTransformer(remainder=&#x27;passthrough&#x27;,\n",
       "                                   transformers=[(&#x27;pipeline-1&#x27;,\n",
       "                                                  Pipeline(steps=[(&#x27;simpleimputer&#x27;,\n",
       "                                                                   SimpleImputer(strategy=&#x27;most_frequent&#x27;)),\n",
       "                                                                  (&#x27;ordinalencoder&#x27;,\n",
       "                                                                   OrdinalEncoder(handle_unknown=&#x27;use_encoded_value&#x27;,\n",
       "                                                                                  unknown_value=-1))]),\n",
       "                                                  [&#x27;Medu&#x27;, &#x27;Fedu&#x27;, &#x27;traveltime&#x27;,\n",
       "                                                   &#x27;studytime&#x27;, &#x27;failures&#x27;,\n",
       "                                                   &#x27;famrel&#x27;, &#x27;freetime&#x27;,\n",
       "                                                   &#x27;goout&#x27;, &#x27;...\n",
       "                                                  [&#x27;school&#x27;, &#x27;sex&#x27;, &#x27;address&#x27;,\n",
       "                                                   &#x27;famsize&#x27;, &#x27;Pstatus&#x27;,\n",
       "                                                   &#x27;schoolsup&#x27;, &#x27;famsup&#x27;,\n",
       "                                                   &#x27;paid&#x27;, &#x27;activities&#x27;,\n",
       "                                                   &#x27;nursery&#x27;, &#x27;higher&#x27;,\n",
       "                                                   &#x27;internet&#x27;, &#x27;romantic&#x27;,\n",
       "                                                   &#x27;Mjob&#x27;, &#x27;Fjob&#x27;, &#x27;reason&#x27;,\n",
       "                                                   &#x27;guardian&#x27;]),\n",
       "                                                 (&#x27;pipeline-3&#x27;,\n",
       "                                                  Pipeline(steps=[(&#x27;simpleimputer&#x27;,\n",
       "                                                                   SimpleImputer(strategy=&#x27;most_frequent&#x27;)),\n",
       "                                                                  (&#x27;standardscaler&#x27;,\n",
       "                                                                   StandardScaler())]),\n",
       "                                                  [&#x27;age&#x27;])])),\n",
       "                (&#x27;randomforestregressor&#x27;, RandomForestRegressor())])</pre><b>In a Jupyter environment, please rerun this cell to show the HTML representation or trust the notebook. <br />On GitHub, the HTML representation is unable to render, please try loading this page with nbviewer.org.</b></div><div class=\"sk-container\" hidden><div class=\"sk-item sk-dashed-wrapped\"><div class=\"sk-label-container\"><div class=\"sk-label sk-toggleable\"><input class=\"sk-toggleable__control sk-hidden--visually\" id=\"sk-estimator-id-183\" type=\"checkbox\" ><label for=\"sk-estimator-id-183\" class=\"sk-toggleable__label sk-toggleable__label-arrow\">Pipeline</label><div class=\"sk-toggleable__content\"><pre>Pipeline(steps=[(&#x27;columntransformer&#x27;,\n",
       "                 ColumnTransformer(remainder=&#x27;passthrough&#x27;,\n",
       "                                   transformers=[(&#x27;pipeline-1&#x27;,\n",
       "                                                  Pipeline(steps=[(&#x27;simpleimputer&#x27;,\n",
       "                                                                   SimpleImputer(strategy=&#x27;most_frequent&#x27;)),\n",
       "                                                                  (&#x27;ordinalencoder&#x27;,\n",
       "                                                                   OrdinalEncoder(handle_unknown=&#x27;use_encoded_value&#x27;,\n",
       "                                                                                  unknown_value=-1))]),\n",
       "                                                  [&#x27;Medu&#x27;, &#x27;Fedu&#x27;, &#x27;traveltime&#x27;,\n",
       "                                                   &#x27;studytime&#x27;, &#x27;failures&#x27;,\n",
       "                                                   &#x27;famrel&#x27;, &#x27;freetime&#x27;,\n",
       "                                                   &#x27;goout&#x27;, &#x27;...\n",
       "                                                  [&#x27;school&#x27;, &#x27;sex&#x27;, &#x27;address&#x27;,\n",
       "                                                   &#x27;famsize&#x27;, &#x27;Pstatus&#x27;,\n",
       "                                                   &#x27;schoolsup&#x27;, &#x27;famsup&#x27;,\n",
       "                                                   &#x27;paid&#x27;, &#x27;activities&#x27;,\n",
       "                                                   &#x27;nursery&#x27;, &#x27;higher&#x27;,\n",
       "                                                   &#x27;internet&#x27;, &#x27;romantic&#x27;,\n",
       "                                                   &#x27;Mjob&#x27;, &#x27;Fjob&#x27;, &#x27;reason&#x27;,\n",
       "                                                   &#x27;guardian&#x27;]),\n",
       "                                                 (&#x27;pipeline-3&#x27;,\n",
       "                                                  Pipeline(steps=[(&#x27;simpleimputer&#x27;,\n",
       "                                                                   SimpleImputer(strategy=&#x27;most_frequent&#x27;)),\n",
       "                                                                  (&#x27;standardscaler&#x27;,\n",
       "                                                                   StandardScaler())]),\n",
       "                                                  [&#x27;age&#x27;])])),\n",
       "                (&#x27;randomforestregressor&#x27;, RandomForestRegressor())])</pre></div></div></div><div class=\"sk-serial\"><div class=\"sk-item sk-dashed-wrapped\"><div class=\"sk-label-container\"><div class=\"sk-label sk-toggleable\"><input class=\"sk-toggleable__control sk-hidden--visually\" id=\"sk-estimator-id-184\" type=\"checkbox\" ><label for=\"sk-estimator-id-184\" class=\"sk-toggleable__label sk-toggleable__label-arrow\">columntransformer: ColumnTransformer</label><div class=\"sk-toggleable__content\"><pre>ColumnTransformer(remainder=&#x27;passthrough&#x27;,\n",
       "                  transformers=[(&#x27;pipeline-1&#x27;,\n",
       "                                 Pipeline(steps=[(&#x27;simpleimputer&#x27;,\n",
       "                                                  SimpleImputer(strategy=&#x27;most_frequent&#x27;)),\n",
       "                                                 (&#x27;ordinalencoder&#x27;,\n",
       "                                                  OrdinalEncoder(handle_unknown=&#x27;use_encoded_value&#x27;,\n",
       "                                                                 unknown_value=-1))]),\n",
       "                                 [&#x27;Medu&#x27;, &#x27;Fedu&#x27;, &#x27;traveltime&#x27;, &#x27;studytime&#x27;,\n",
       "                                  &#x27;failures&#x27;, &#x27;famrel&#x27;, &#x27;freetime&#x27;, &#x27;goout&#x27;,\n",
       "                                  &#x27;Dalc&#x27;, &#x27;Walc&#x27;, &#x27;health&#x27;]),\n",
       "                                (&#x27;pipeline-2&#x27;...\n",
       "                                                  OneHotEncoder(handle_unknown=&#x27;ignore&#x27;,\n",
       "                                                                sparse=False,\n",
       "                                                                sparse_output=False))]),\n",
       "                                 [&#x27;school&#x27;, &#x27;sex&#x27;, &#x27;address&#x27;, &#x27;famsize&#x27;,\n",
       "                                  &#x27;Pstatus&#x27;, &#x27;schoolsup&#x27;, &#x27;famsup&#x27;, &#x27;paid&#x27;,\n",
       "                                  &#x27;activities&#x27;, &#x27;nursery&#x27;, &#x27;higher&#x27;, &#x27;internet&#x27;,\n",
       "                                  &#x27;romantic&#x27;, &#x27;Mjob&#x27;, &#x27;Fjob&#x27;, &#x27;reason&#x27;,\n",
       "                                  &#x27;guardian&#x27;]),\n",
       "                                (&#x27;pipeline-3&#x27;,\n",
       "                                 Pipeline(steps=[(&#x27;simpleimputer&#x27;,\n",
       "                                                  SimpleImputer(strategy=&#x27;most_frequent&#x27;)),\n",
       "                                                 (&#x27;standardscaler&#x27;,\n",
       "                                                  StandardScaler())]),\n",
       "                                 [&#x27;age&#x27;])])</pre></div></div></div><div class=\"sk-parallel\"><div class=\"sk-parallel-item\"><div class=\"sk-item\"><div class=\"sk-label-container\"><div class=\"sk-label sk-toggleable\"><input class=\"sk-toggleable__control sk-hidden--visually\" id=\"sk-estimator-id-185\" type=\"checkbox\" ><label for=\"sk-estimator-id-185\" class=\"sk-toggleable__label sk-toggleable__label-arrow\">pipeline-1</label><div class=\"sk-toggleable__content\"><pre>[&#x27;Medu&#x27;, &#x27;Fedu&#x27;, &#x27;traveltime&#x27;, &#x27;studytime&#x27;, &#x27;failures&#x27;, &#x27;famrel&#x27;, &#x27;freetime&#x27;, &#x27;goout&#x27;, &#x27;Dalc&#x27;, &#x27;Walc&#x27;, &#x27;health&#x27;]</pre></div></div></div><div class=\"sk-serial\"><div class=\"sk-item\"><div class=\"sk-serial\"><div class=\"sk-item\"><div class=\"sk-estimator sk-toggleable\"><input class=\"sk-toggleable__control sk-hidden--visually\" id=\"sk-estimator-id-186\" type=\"checkbox\" ><label for=\"sk-estimator-id-186\" class=\"sk-toggleable__label sk-toggleable__label-arrow\">SimpleImputer</label><div class=\"sk-toggleable__content\"><pre>SimpleImputer(strategy=&#x27;most_frequent&#x27;)</pre></div></div></div><div class=\"sk-item\"><div class=\"sk-estimator sk-toggleable\"><input class=\"sk-toggleable__control sk-hidden--visually\" id=\"sk-estimator-id-187\" type=\"checkbox\" ><label for=\"sk-estimator-id-187\" class=\"sk-toggleable__label sk-toggleable__label-arrow\">OrdinalEncoder</label><div class=\"sk-toggleable__content\"><pre>OrdinalEncoder(handle_unknown=&#x27;use_encoded_value&#x27;, unknown_value=-1)</pre></div></div></div></div></div></div></div></div><div class=\"sk-parallel-item\"><div class=\"sk-item\"><div class=\"sk-label-container\"><div class=\"sk-label sk-toggleable\"><input class=\"sk-toggleable__control sk-hidden--visually\" id=\"sk-estimator-id-188\" type=\"checkbox\" ><label for=\"sk-estimator-id-188\" class=\"sk-toggleable__label sk-toggleable__label-arrow\">pipeline-2</label><div class=\"sk-toggleable__content\"><pre>[&#x27;school&#x27;, &#x27;sex&#x27;, &#x27;address&#x27;, &#x27;famsize&#x27;, &#x27;Pstatus&#x27;, &#x27;schoolsup&#x27;, &#x27;famsup&#x27;, &#x27;paid&#x27;, &#x27;activities&#x27;, &#x27;nursery&#x27;, &#x27;higher&#x27;, &#x27;internet&#x27;, &#x27;romantic&#x27;, &#x27;Mjob&#x27;, &#x27;Fjob&#x27;, &#x27;reason&#x27;, &#x27;guardian&#x27;]</pre></div></div></div><div class=\"sk-serial\"><div class=\"sk-item\"><div class=\"sk-serial\"><div class=\"sk-item\"><div class=\"sk-estimator sk-toggleable\"><input class=\"sk-toggleable__control sk-hidden--visually\" id=\"sk-estimator-id-189\" type=\"checkbox\" ><label for=\"sk-estimator-id-189\" class=\"sk-toggleable__label sk-toggleable__label-arrow\">SimpleImputer</label><div class=\"sk-toggleable__content\"><pre>SimpleImputer(strategy=&#x27;most_frequent&#x27;)</pre></div></div></div><div class=\"sk-item\"><div class=\"sk-estimator sk-toggleable\"><input class=\"sk-toggleable__control sk-hidden--visually\" id=\"sk-estimator-id-190\" type=\"checkbox\" ><label for=\"sk-estimator-id-190\" class=\"sk-toggleable__label sk-toggleable__label-arrow\">OneHotEncoder</label><div class=\"sk-toggleable__content\"><pre>OneHotEncoder(handle_unknown=&#x27;ignore&#x27;, sparse=False, sparse_output=False)</pre></div></div></div></div></div></div></div></div><div class=\"sk-parallel-item\"><div class=\"sk-item\"><div class=\"sk-label-container\"><div class=\"sk-label sk-toggleable\"><input class=\"sk-toggleable__control sk-hidden--visually\" id=\"sk-estimator-id-191\" type=\"checkbox\" ><label for=\"sk-estimator-id-191\" class=\"sk-toggleable__label sk-toggleable__label-arrow\">pipeline-3</label><div class=\"sk-toggleable__content\"><pre>[&#x27;age&#x27;]</pre></div></div></div><div class=\"sk-serial\"><div class=\"sk-item\"><div class=\"sk-serial\"><div class=\"sk-item\"><div class=\"sk-estimator sk-toggleable\"><input class=\"sk-toggleable__control sk-hidden--visually\" id=\"sk-estimator-id-192\" type=\"checkbox\" ><label for=\"sk-estimator-id-192\" class=\"sk-toggleable__label sk-toggleable__label-arrow\">SimpleImputer</label><div class=\"sk-toggleable__content\"><pre>SimpleImputer(strategy=&#x27;most_frequent&#x27;)</pre></div></div></div><div class=\"sk-item\"><div class=\"sk-estimator sk-toggleable\"><input class=\"sk-toggleable__control sk-hidden--visually\" id=\"sk-estimator-id-193\" type=\"checkbox\" ><label for=\"sk-estimator-id-193\" class=\"sk-toggleable__label sk-toggleable__label-arrow\">StandardScaler</label><div class=\"sk-toggleable__content\"><pre>StandardScaler()</pre></div></div></div></div></div></div></div></div><div class=\"sk-parallel-item\"><div class=\"sk-item\"><div class=\"sk-label-container\"><div class=\"sk-label sk-toggleable\"><input class=\"sk-toggleable__control sk-hidden--visually\" id=\"sk-estimator-id-194\" type=\"checkbox\" ><label for=\"sk-estimator-id-194\" class=\"sk-toggleable__label sk-toggleable__label-arrow\">remainder</label><div class=\"sk-toggleable__content\"><pre>[]</pre></div></div></div><div class=\"sk-serial\"><div class=\"sk-item\"><div class=\"sk-estimator sk-toggleable\"><input class=\"sk-toggleable__control sk-hidden--visually\" id=\"sk-estimator-id-195\" type=\"checkbox\" ><label for=\"sk-estimator-id-195\" class=\"sk-toggleable__label sk-toggleable__label-arrow\">passthrough</label><div class=\"sk-toggleable__content\"><pre>passthrough</pre></div></div></div></div></div></div></div></div><div class=\"sk-item\"><div class=\"sk-estimator sk-toggleable\"><input class=\"sk-toggleable__control sk-hidden--visually\" id=\"sk-estimator-id-196\" type=\"checkbox\" ><label for=\"sk-estimator-id-196\" class=\"sk-toggleable__label sk-toggleable__label-arrow\">RandomForestRegressor</label><div class=\"sk-toggleable__content\"><pre>RandomForestRegressor()</pre></div></div></div></div></div></div></div>"
      ],
      "text/plain": [
       "Pipeline(steps=[('columntransformer',\n",
       "                 ColumnTransformer(remainder='passthrough',\n",
       "                                   transformers=[('pipeline-1',\n",
       "                                                  Pipeline(steps=[('simpleimputer',\n",
       "                                                                   SimpleImputer(strategy='most_frequent')),\n",
       "                                                                  ('ordinalencoder',\n",
       "                                                                   OrdinalEncoder(handle_unknown='use_encoded_value',\n",
       "                                                                                  unknown_value=-1))]),\n",
       "                                                  ['Medu', 'Fedu', 'traveltime',\n",
       "                                                   'studytime', 'failures',\n",
       "                                                   'famrel', 'freetime',\n",
       "                                                   'goout', '...\n",
       "                                                  ['school', 'sex', 'address',\n",
       "                                                   'famsize', 'Pstatus',\n",
       "                                                   'schoolsup', 'famsup',\n",
       "                                                   'paid', 'activities',\n",
       "                                                   'nursery', 'higher',\n",
       "                                                   'internet', 'romantic',\n",
       "                                                   'Mjob', 'Fjob', 'reason',\n",
       "                                                   'guardian']),\n",
       "                                                 ('pipeline-3',\n",
       "                                                  Pipeline(steps=[('simpleimputer',\n",
       "                                                                   SimpleImputer(strategy='most_frequent')),\n",
       "                                                                  ('standardscaler',\n",
       "                                                                   StandardScaler())]),\n",
       "                                                  ['age'])])),\n",
       "                ('randomforestregressor', RandomForestRegressor())])"
      ]
     },
     "execution_count": 117,
     "metadata": {},
     "output_type": "execute_result"
    }
   ],
   "source": [
    "from sklearn.model_selection import GridSearchCV\n",
    "from sklearn.ensemble import RandomForestRegressor\n",
    "\n",
    "model_reg = make_pipeline(preprocess, RandomForestRegressor())\n",
    "model_reg"
   ]
  },
  {
   "cell_type": "markdown",
   "id": "8b0df4ec",
   "metadata": {},
   "source": [
    "Train Test Split for both y"
   ]
  },
  {
   "cell_type": "code",
   "execution_count": 106,
   "id": "f83a4823",
   "metadata": {
    "ExecuteTime": {
     "end_time": "2023-07-28T17:12:31.471334Z",
     "start_time": "2023-07-28T17:12:31.461260Z"
    }
   },
   "outputs": [
    {
     "name": "stdout",
     "output_type": "stream",
     "text": [
      "MAT:\n",
      "(267, 29) (115, 29)\n",
      "(267,) (115,)\n",
      "\n",
      "POR:\n",
      "(267, 29) (115, 29)\n",
      "(267,) (115,)\n"
     ]
    }
   ],
   "source": [
    "X_train_mat, X_test_mat, y_train_mat, y_test_mat = train_test_split(X, y1, test_size=0.3, random_state=42)\n",
    "X_train_por, X_test_por, y_train_por, y_test_por = train_test_split(X, y2, test_size=0.3, random_state=42)\n",
    "\n",
    "print('MAT:')\n",
    "print(X_train_mat.shape, X_test_mat.shape)\n",
    "print(y_train_mat.shape, y_test_mat.shape)\n",
    "print('')\n",
    "print('POR:')\n",
    "print(X_train_por.shape, X_test_por.shape)\n",
    "print(y_train_por.shape, y_test_por.shape)\n"
   ]
  },
  {
   "cell_type": "markdown",
   "id": "fa584647",
   "metadata": {
    "ExecuteTime": {
     "end_time": "2023-07-28T20:59:06.672647Z",
     "start_time": "2023-07-28T20:59:06.668881Z"
    }
   },
   "source": [
    "Reassigning the model to the two targets."
   ]
  },
  {
   "cell_type": "code",
   "execution_count": 118,
   "id": "4b7a984d",
   "metadata": {
    "ExecuteTime": {
     "end_time": "2023-07-28T17:27:07.411804Z",
     "start_time": "2023-07-28T17:27:07.408828Z"
    }
   },
   "outputs": [],
   "source": [
    "model_mat = model_reg\n",
    "model_por = model_reg"
   ]
  },
  {
   "cell_type": "markdown",
   "id": "4162ced9",
   "metadata": {},
   "source": [
    "GridSearchCV "
   ]
  },
  {
   "cell_type": "code",
   "execution_count": 109,
   "id": "41adc9b6",
   "metadata": {
    "ExecuteTime": {
     "end_time": "2023-07-28T17:12:33.153661Z",
     "start_time": "2023-07-28T17:12:33.150114Z"
    }
   },
   "outputs": [],
   "source": [
    "params = {\n",
    "    'randomforestregressor__n_estimators' : [100, 200, 500],\n",
    "    'randomforestregressor__max_depth' : [None, 5, 10],\n",
    "    'randomforestregressor__min_samples_split' : [2, 5, 10],\n",
    "    'randomforestregressor__min_samples_leaf': [1, 2, 4]\n",
    "}\n",
    "\n",
    "grid_mat = GridSearchCV(model_mat, param_grid=params, cv=4)\n",
    "grid_por = GridSearchCV(model_por, param_grid=params, cv=4)"
   ]
  },
  {
   "cell_type": "code",
   "execution_count": 110,
   "id": "5bfb6392",
   "metadata": {
    "ExecuteTime": {
     "end_time": "2023-07-28T17:14:48.389439Z",
     "start_time": "2023-07-28T17:12:33.795981Z"
    }
   },
   "outputs": [
    {
     "data": {
      "text/html": [
       "<style>#sk-container-id-14 {color: black;background-color: white;}#sk-container-id-14 pre{padding: 0;}#sk-container-id-14 div.sk-toggleable {background-color: white;}#sk-container-id-14 label.sk-toggleable__label {cursor: pointer;display: block;width: 100%;margin-bottom: 0;padding: 0.3em;box-sizing: border-box;text-align: center;}#sk-container-id-14 label.sk-toggleable__label-arrow:before {content: \"▸\";float: left;margin-right: 0.25em;color: #696969;}#sk-container-id-14 label.sk-toggleable__label-arrow:hover:before {color: black;}#sk-container-id-14 div.sk-estimator:hover label.sk-toggleable__label-arrow:before {color: black;}#sk-container-id-14 div.sk-toggleable__content {max-height: 0;max-width: 0;overflow: hidden;text-align: left;background-color: #f0f8ff;}#sk-container-id-14 div.sk-toggleable__content pre {margin: 0.2em;color: black;border-radius: 0.25em;background-color: #f0f8ff;}#sk-container-id-14 input.sk-toggleable__control:checked~div.sk-toggleable__content {max-height: 200px;max-width: 100%;overflow: auto;}#sk-container-id-14 input.sk-toggleable__control:checked~label.sk-toggleable__label-arrow:before {content: \"▾\";}#sk-container-id-14 div.sk-estimator input.sk-toggleable__control:checked~label.sk-toggleable__label {background-color: #d4ebff;}#sk-container-id-14 div.sk-label input.sk-toggleable__control:checked~label.sk-toggleable__label {background-color: #d4ebff;}#sk-container-id-14 input.sk-hidden--visually {border: 0;clip: rect(1px 1px 1px 1px);clip: rect(1px, 1px, 1px, 1px);height: 1px;margin: -1px;overflow: hidden;padding: 0;position: absolute;width: 1px;}#sk-container-id-14 div.sk-estimator {font-family: monospace;background-color: #f0f8ff;border: 1px dotted black;border-radius: 0.25em;box-sizing: border-box;margin-bottom: 0.5em;}#sk-container-id-14 div.sk-estimator:hover {background-color: #d4ebff;}#sk-container-id-14 div.sk-parallel-item::after {content: \"\";width: 100%;border-bottom: 1px solid gray;flex-grow: 1;}#sk-container-id-14 div.sk-label:hover label.sk-toggleable__label {background-color: #d4ebff;}#sk-container-id-14 div.sk-serial::before {content: \"\";position: absolute;border-left: 1px solid gray;box-sizing: border-box;top: 0;bottom: 0;left: 50%;z-index: 0;}#sk-container-id-14 div.sk-serial {display: flex;flex-direction: column;align-items: center;background-color: white;padding-right: 0.2em;padding-left: 0.2em;position: relative;}#sk-container-id-14 div.sk-item {position: relative;z-index: 1;}#sk-container-id-14 div.sk-parallel {display: flex;align-items: stretch;justify-content: center;background-color: white;position: relative;}#sk-container-id-14 div.sk-item::before, #sk-container-id-14 div.sk-parallel-item::before {content: \"\";position: absolute;border-left: 1px solid gray;box-sizing: border-box;top: 0;bottom: 0;left: 50%;z-index: -1;}#sk-container-id-14 div.sk-parallel-item {display: flex;flex-direction: column;z-index: 1;position: relative;background-color: white;}#sk-container-id-14 div.sk-parallel-item:first-child::after {align-self: flex-end;width: 50%;}#sk-container-id-14 div.sk-parallel-item:last-child::after {align-self: flex-start;width: 50%;}#sk-container-id-14 div.sk-parallel-item:only-child::after {width: 0;}#sk-container-id-14 div.sk-dashed-wrapped {border: 1px dashed gray;margin: 0 0.4em 0.5em 0.4em;box-sizing: border-box;padding-bottom: 0.4em;background-color: white;}#sk-container-id-14 div.sk-label label {font-family: monospace;font-weight: bold;display: inline-block;line-height: 1.2em;}#sk-container-id-14 div.sk-label-container {text-align: center;}#sk-container-id-14 div.sk-container {/* jupyter's `normalize.less` sets `[hidden] { display: none; }` but bootstrap.min.css set `[hidden] { display: none !important; }` so we also need the `!important` here to be able to override the default hidden behavior on the sphinx rendered scikit-learn.org. See: https://github.com/scikit-learn/scikit-learn/issues/21755 */display: inline-block !important;position: relative;}#sk-container-id-14 div.sk-text-repr-fallback {display: none;}</style><div id=\"sk-container-id-14\" class=\"sk-top-container\"><div class=\"sk-text-repr-fallback\"><pre>GridSearchCV(cv=4,\n",
       "             estimator=Pipeline(steps=[(&#x27;columntransformer&#x27;,\n",
       "                                        ColumnTransformer(remainder=&#x27;passthrough&#x27;,\n",
       "                                                          transformers=[(&#x27;pipeline-1&#x27;,\n",
       "                                                                         Pipeline(steps=[(&#x27;simpleimputer&#x27;,\n",
       "                                                                                          SimpleImputer(strategy=&#x27;most_frequent&#x27;)),\n",
       "                                                                                         (&#x27;ordinalencoder&#x27;,\n",
       "                                                                                          OrdinalEncoder(handle_unknown=&#x27;use_encoded_value&#x27;,\n",
       "                                                                                                         unknown_value=-1))]),\n",
       "                                                                         [&#x27;Medu&#x27;,\n",
       "                                                                          &#x27;Fedu&#x27;,\n",
       "                                                                          &#x27;traveltime&#x27;,\n",
       "                                                                          &#x27;studytime&#x27;,\n",
       "                                                                          &#x27;failures&#x27;,\n",
       "                                                                          &#x27;...\n",
       "                                                                                          SimpleImputer(strategy=&#x27;most_frequent&#x27;)),\n",
       "                                                                                         (&#x27;standardscaler&#x27;,\n",
       "                                                                                          StandardScaler())]),\n",
       "                                                                         [&#x27;age&#x27;])])),\n",
       "                                       (&#x27;randomforestregressor&#x27;,\n",
       "                                        RandomForestRegressor())]),\n",
       "             param_grid={&#x27;randomforestregressor__max_depth&#x27;: [None, 5, 10],\n",
       "                         &#x27;randomforestregressor__min_samples_leaf&#x27;: [1, 2, 4],\n",
       "                         &#x27;randomforestregressor__min_samples_split&#x27;: [2, 5, 10],\n",
       "                         &#x27;randomforestregressor__n_estimators&#x27;: [100, 200,\n",
       "                                                                 500]})</pre><b>In a Jupyter environment, please rerun this cell to show the HTML representation or trust the notebook. <br />On GitHub, the HTML representation is unable to render, please try loading this page with nbviewer.org.</b></div><div class=\"sk-container\" hidden><div class=\"sk-item sk-dashed-wrapped\"><div class=\"sk-label-container\"><div class=\"sk-label sk-toggleable\"><input class=\"sk-toggleable__control sk-hidden--visually\" id=\"sk-estimator-id-153\" type=\"checkbox\" ><label for=\"sk-estimator-id-153\" class=\"sk-toggleable__label sk-toggleable__label-arrow\">GridSearchCV</label><div class=\"sk-toggleable__content\"><pre>GridSearchCV(cv=4,\n",
       "             estimator=Pipeline(steps=[(&#x27;columntransformer&#x27;,\n",
       "                                        ColumnTransformer(remainder=&#x27;passthrough&#x27;,\n",
       "                                                          transformers=[(&#x27;pipeline-1&#x27;,\n",
       "                                                                         Pipeline(steps=[(&#x27;simpleimputer&#x27;,\n",
       "                                                                                          SimpleImputer(strategy=&#x27;most_frequent&#x27;)),\n",
       "                                                                                         (&#x27;ordinalencoder&#x27;,\n",
       "                                                                                          OrdinalEncoder(handle_unknown=&#x27;use_encoded_value&#x27;,\n",
       "                                                                                                         unknown_value=-1))]),\n",
       "                                                                         [&#x27;Medu&#x27;,\n",
       "                                                                          &#x27;Fedu&#x27;,\n",
       "                                                                          &#x27;traveltime&#x27;,\n",
       "                                                                          &#x27;studytime&#x27;,\n",
       "                                                                          &#x27;failures&#x27;,\n",
       "                                                                          &#x27;...\n",
       "                                                                                          SimpleImputer(strategy=&#x27;most_frequent&#x27;)),\n",
       "                                                                                         (&#x27;standardscaler&#x27;,\n",
       "                                                                                          StandardScaler())]),\n",
       "                                                                         [&#x27;age&#x27;])])),\n",
       "                                       (&#x27;randomforestregressor&#x27;,\n",
       "                                        RandomForestRegressor())]),\n",
       "             param_grid={&#x27;randomforestregressor__max_depth&#x27;: [None, 5, 10],\n",
       "                         &#x27;randomforestregressor__min_samples_leaf&#x27;: [1, 2, 4],\n",
       "                         &#x27;randomforestregressor__min_samples_split&#x27;: [2, 5, 10],\n",
       "                         &#x27;randomforestregressor__n_estimators&#x27;: [100, 200,\n",
       "                                                                 500]})</pre></div></div></div><div class=\"sk-parallel\"><div class=\"sk-parallel-item\"><div class=\"sk-item\"><div class=\"sk-label-container\"><div class=\"sk-label sk-toggleable\"><input class=\"sk-toggleable__control sk-hidden--visually\" id=\"sk-estimator-id-154\" type=\"checkbox\" ><label for=\"sk-estimator-id-154\" class=\"sk-toggleable__label sk-toggleable__label-arrow\">estimator: Pipeline</label><div class=\"sk-toggleable__content\"><pre>Pipeline(steps=[(&#x27;columntransformer&#x27;,\n",
       "                 ColumnTransformer(remainder=&#x27;passthrough&#x27;,\n",
       "                                   transformers=[(&#x27;pipeline-1&#x27;,\n",
       "                                                  Pipeline(steps=[(&#x27;simpleimputer&#x27;,\n",
       "                                                                   SimpleImputer(strategy=&#x27;most_frequent&#x27;)),\n",
       "                                                                  (&#x27;ordinalencoder&#x27;,\n",
       "                                                                   OrdinalEncoder(handle_unknown=&#x27;use_encoded_value&#x27;,\n",
       "                                                                                  unknown_value=-1))]),\n",
       "                                                  [&#x27;Medu&#x27;, &#x27;Fedu&#x27;, &#x27;traveltime&#x27;,\n",
       "                                                   &#x27;studytime&#x27;, &#x27;failures&#x27;,\n",
       "                                                   &#x27;famrel&#x27;, &#x27;freetime&#x27;,\n",
       "                                                   &#x27;goout&#x27;, &#x27;...\n",
       "                                                  [&#x27;school&#x27;, &#x27;sex&#x27;, &#x27;address&#x27;,\n",
       "                                                   &#x27;famsize&#x27;, &#x27;Pstatus&#x27;,\n",
       "                                                   &#x27;schoolsup&#x27;, &#x27;famsup&#x27;,\n",
       "                                                   &#x27;paid&#x27;, &#x27;activities&#x27;,\n",
       "                                                   &#x27;nursery&#x27;, &#x27;higher&#x27;,\n",
       "                                                   &#x27;internet&#x27;, &#x27;romantic&#x27;,\n",
       "                                                   &#x27;Mjob&#x27;, &#x27;Fjob&#x27;, &#x27;reason&#x27;,\n",
       "                                                   &#x27;guardian&#x27;]),\n",
       "                                                 (&#x27;pipeline-3&#x27;,\n",
       "                                                  Pipeline(steps=[(&#x27;simpleimputer&#x27;,\n",
       "                                                                   SimpleImputer(strategy=&#x27;most_frequent&#x27;)),\n",
       "                                                                  (&#x27;standardscaler&#x27;,\n",
       "                                                                   StandardScaler())]),\n",
       "                                                  [&#x27;age&#x27;])])),\n",
       "                (&#x27;randomforestregressor&#x27;, RandomForestRegressor())])</pre></div></div></div><div class=\"sk-serial\"><div class=\"sk-item\"><div class=\"sk-serial\"><div class=\"sk-item sk-dashed-wrapped\"><div class=\"sk-label-container\"><div class=\"sk-label sk-toggleable\"><input class=\"sk-toggleable__control sk-hidden--visually\" id=\"sk-estimator-id-155\" type=\"checkbox\" ><label for=\"sk-estimator-id-155\" class=\"sk-toggleable__label sk-toggleable__label-arrow\">columntransformer: ColumnTransformer</label><div class=\"sk-toggleable__content\"><pre>ColumnTransformer(remainder=&#x27;passthrough&#x27;,\n",
       "                  transformers=[(&#x27;pipeline-1&#x27;,\n",
       "                                 Pipeline(steps=[(&#x27;simpleimputer&#x27;,\n",
       "                                                  SimpleImputer(strategy=&#x27;most_frequent&#x27;)),\n",
       "                                                 (&#x27;ordinalencoder&#x27;,\n",
       "                                                  OrdinalEncoder(handle_unknown=&#x27;use_encoded_value&#x27;,\n",
       "                                                                 unknown_value=-1))]),\n",
       "                                 [&#x27;Medu&#x27;, &#x27;Fedu&#x27;, &#x27;traveltime&#x27;, &#x27;studytime&#x27;,\n",
       "                                  &#x27;failures&#x27;, &#x27;famrel&#x27;, &#x27;freetime&#x27;, &#x27;goout&#x27;,\n",
       "                                  &#x27;Dalc&#x27;, &#x27;Walc&#x27;, &#x27;health&#x27;]),\n",
       "                                (&#x27;pipeline-2&#x27;...\n",
       "                                                  OneHotEncoder(handle_unknown=&#x27;ignore&#x27;,\n",
       "                                                                sparse=False,\n",
       "                                                                sparse_output=False))]),\n",
       "                                 [&#x27;school&#x27;, &#x27;sex&#x27;, &#x27;address&#x27;, &#x27;famsize&#x27;,\n",
       "                                  &#x27;Pstatus&#x27;, &#x27;schoolsup&#x27;, &#x27;famsup&#x27;, &#x27;paid&#x27;,\n",
       "                                  &#x27;activities&#x27;, &#x27;nursery&#x27;, &#x27;higher&#x27;, &#x27;internet&#x27;,\n",
       "                                  &#x27;romantic&#x27;, &#x27;Mjob&#x27;, &#x27;Fjob&#x27;, &#x27;reason&#x27;,\n",
       "                                  &#x27;guardian&#x27;]),\n",
       "                                (&#x27;pipeline-3&#x27;,\n",
       "                                 Pipeline(steps=[(&#x27;simpleimputer&#x27;,\n",
       "                                                  SimpleImputer(strategy=&#x27;most_frequent&#x27;)),\n",
       "                                                 (&#x27;standardscaler&#x27;,\n",
       "                                                  StandardScaler())]),\n",
       "                                 [&#x27;age&#x27;])])</pre></div></div></div><div class=\"sk-parallel\"><div class=\"sk-parallel-item\"><div class=\"sk-item\"><div class=\"sk-label-container\"><div class=\"sk-label sk-toggleable\"><input class=\"sk-toggleable__control sk-hidden--visually\" id=\"sk-estimator-id-156\" type=\"checkbox\" ><label for=\"sk-estimator-id-156\" class=\"sk-toggleable__label sk-toggleable__label-arrow\">pipeline-1</label><div class=\"sk-toggleable__content\"><pre>[&#x27;Medu&#x27;, &#x27;Fedu&#x27;, &#x27;traveltime&#x27;, &#x27;studytime&#x27;, &#x27;failures&#x27;, &#x27;famrel&#x27;, &#x27;freetime&#x27;, &#x27;goout&#x27;, &#x27;Dalc&#x27;, &#x27;Walc&#x27;, &#x27;health&#x27;]</pre></div></div></div><div class=\"sk-serial\"><div class=\"sk-item\"><div class=\"sk-serial\"><div class=\"sk-item\"><div class=\"sk-estimator sk-toggleable\"><input class=\"sk-toggleable__control sk-hidden--visually\" id=\"sk-estimator-id-157\" type=\"checkbox\" ><label for=\"sk-estimator-id-157\" class=\"sk-toggleable__label sk-toggleable__label-arrow\">SimpleImputer</label><div class=\"sk-toggleable__content\"><pre>SimpleImputer(strategy=&#x27;most_frequent&#x27;)</pre></div></div></div><div class=\"sk-item\"><div class=\"sk-estimator sk-toggleable\"><input class=\"sk-toggleable__control sk-hidden--visually\" id=\"sk-estimator-id-158\" type=\"checkbox\" ><label for=\"sk-estimator-id-158\" class=\"sk-toggleable__label sk-toggleable__label-arrow\">OrdinalEncoder</label><div class=\"sk-toggleable__content\"><pre>OrdinalEncoder(handle_unknown=&#x27;use_encoded_value&#x27;, unknown_value=-1)</pre></div></div></div></div></div></div></div></div><div class=\"sk-parallel-item\"><div class=\"sk-item\"><div class=\"sk-label-container\"><div class=\"sk-label sk-toggleable\"><input class=\"sk-toggleable__control sk-hidden--visually\" id=\"sk-estimator-id-159\" type=\"checkbox\" ><label for=\"sk-estimator-id-159\" class=\"sk-toggleable__label sk-toggleable__label-arrow\">pipeline-2</label><div class=\"sk-toggleable__content\"><pre>[&#x27;school&#x27;, &#x27;sex&#x27;, &#x27;address&#x27;, &#x27;famsize&#x27;, &#x27;Pstatus&#x27;, &#x27;schoolsup&#x27;, &#x27;famsup&#x27;, &#x27;paid&#x27;, &#x27;activities&#x27;, &#x27;nursery&#x27;, &#x27;higher&#x27;, &#x27;internet&#x27;, &#x27;romantic&#x27;, &#x27;Mjob&#x27;, &#x27;Fjob&#x27;, &#x27;reason&#x27;, &#x27;guardian&#x27;]</pre></div></div></div><div class=\"sk-serial\"><div class=\"sk-item\"><div class=\"sk-serial\"><div class=\"sk-item\"><div class=\"sk-estimator sk-toggleable\"><input class=\"sk-toggleable__control sk-hidden--visually\" id=\"sk-estimator-id-160\" type=\"checkbox\" ><label for=\"sk-estimator-id-160\" class=\"sk-toggleable__label sk-toggleable__label-arrow\">SimpleImputer</label><div class=\"sk-toggleable__content\"><pre>SimpleImputer(strategy=&#x27;most_frequent&#x27;)</pre></div></div></div><div class=\"sk-item\"><div class=\"sk-estimator sk-toggleable\"><input class=\"sk-toggleable__control sk-hidden--visually\" id=\"sk-estimator-id-161\" type=\"checkbox\" ><label for=\"sk-estimator-id-161\" class=\"sk-toggleable__label sk-toggleable__label-arrow\">OneHotEncoder</label><div class=\"sk-toggleable__content\"><pre>OneHotEncoder(handle_unknown=&#x27;ignore&#x27;, sparse=False, sparse_output=False)</pre></div></div></div></div></div></div></div></div><div class=\"sk-parallel-item\"><div class=\"sk-item\"><div class=\"sk-label-container\"><div class=\"sk-label sk-toggleable\"><input class=\"sk-toggleable__control sk-hidden--visually\" id=\"sk-estimator-id-162\" type=\"checkbox\" ><label for=\"sk-estimator-id-162\" class=\"sk-toggleable__label sk-toggleable__label-arrow\">pipeline-3</label><div class=\"sk-toggleable__content\"><pre>[&#x27;age&#x27;]</pre></div></div></div><div class=\"sk-serial\"><div class=\"sk-item\"><div class=\"sk-serial\"><div class=\"sk-item\"><div class=\"sk-estimator sk-toggleable\"><input class=\"sk-toggleable__control sk-hidden--visually\" id=\"sk-estimator-id-163\" type=\"checkbox\" ><label for=\"sk-estimator-id-163\" class=\"sk-toggleable__label sk-toggleable__label-arrow\">SimpleImputer</label><div class=\"sk-toggleable__content\"><pre>SimpleImputer(strategy=&#x27;most_frequent&#x27;)</pre></div></div></div><div class=\"sk-item\"><div class=\"sk-estimator sk-toggleable\"><input class=\"sk-toggleable__control sk-hidden--visually\" id=\"sk-estimator-id-164\" type=\"checkbox\" ><label for=\"sk-estimator-id-164\" class=\"sk-toggleable__label sk-toggleable__label-arrow\">StandardScaler</label><div class=\"sk-toggleable__content\"><pre>StandardScaler()</pre></div></div></div></div></div></div></div></div><div class=\"sk-parallel-item\"><div class=\"sk-item\"><div class=\"sk-label-container\"><div class=\"sk-label sk-toggleable\"><input class=\"sk-toggleable__control sk-hidden--visually\" id=\"sk-estimator-id-165\" type=\"checkbox\" ><label for=\"sk-estimator-id-165\" class=\"sk-toggleable__label sk-toggleable__label-arrow\">remainder</label><div class=\"sk-toggleable__content\"><pre>[]</pre></div></div></div><div class=\"sk-serial\"><div class=\"sk-item\"><div class=\"sk-estimator sk-toggleable\"><input class=\"sk-toggleable__control sk-hidden--visually\" id=\"sk-estimator-id-166\" type=\"checkbox\" ><label for=\"sk-estimator-id-166\" class=\"sk-toggleable__label sk-toggleable__label-arrow\">passthrough</label><div class=\"sk-toggleable__content\"><pre>passthrough</pre></div></div></div></div></div></div></div></div><div class=\"sk-item\"><div class=\"sk-estimator sk-toggleable\"><input class=\"sk-toggleable__control sk-hidden--visually\" id=\"sk-estimator-id-167\" type=\"checkbox\" ><label for=\"sk-estimator-id-167\" class=\"sk-toggleable__label sk-toggleable__label-arrow\">RandomForestRegressor</label><div class=\"sk-toggleable__content\"><pre>RandomForestRegressor()</pre></div></div></div></div></div></div></div></div></div></div></div></div>"
      ],
      "text/plain": [
       "GridSearchCV(cv=4,\n",
       "             estimator=Pipeline(steps=[('columntransformer',\n",
       "                                        ColumnTransformer(remainder='passthrough',\n",
       "                                                          transformers=[('pipeline-1',\n",
       "                                                                         Pipeline(steps=[('simpleimputer',\n",
       "                                                                                          SimpleImputer(strategy='most_frequent')),\n",
       "                                                                                         ('ordinalencoder',\n",
       "                                                                                          OrdinalEncoder(handle_unknown='use_encoded_value',\n",
       "                                                                                                         unknown_value=-1))]),\n",
       "                                                                         ['Medu',\n",
       "                                                                          'Fedu',\n",
       "                                                                          'traveltime',\n",
       "                                                                          'studytime',\n",
       "                                                                          'failures',\n",
       "                                                                          '...\n",
       "                                                                                          SimpleImputer(strategy='most_frequent')),\n",
       "                                                                                         ('standardscaler',\n",
       "                                                                                          StandardScaler())]),\n",
       "                                                                         ['age'])])),\n",
       "                                       ('randomforestregressor',\n",
       "                                        RandomForestRegressor())]),\n",
       "             param_grid={'randomforestregressor__max_depth': [None, 5, 10],\n",
       "                         'randomforestregressor__min_samples_leaf': [1, 2, 4],\n",
       "                         'randomforestregressor__min_samples_split': [2, 5, 10],\n",
       "                         'randomforestregressor__n_estimators': [100, 200,\n",
       "                                                                 500]})"
      ]
     },
     "execution_count": 110,
     "metadata": {},
     "output_type": "execute_result"
    }
   ],
   "source": [
    "grid_mat.fit(X_train_mat, y_train_mat)"
   ]
  },
  {
   "cell_type": "code",
   "execution_count": 111,
   "id": "a81223a8",
   "metadata": {
    "ExecuteTime": {
     "end_time": "2023-07-28T17:18:08.737122Z",
     "start_time": "2023-07-28T17:18:08.732861Z"
    }
   },
   "outputs": [
    {
     "data": {
      "text/plain": [
       "{'randomforestregressor__max_depth': 5,\n",
       " 'randomforestregressor__min_samples_leaf': 2,\n",
       " 'randomforestregressor__min_samples_split': 2,\n",
       " 'randomforestregressor__n_estimators': 100}"
      ]
     },
     "execution_count": 111,
     "metadata": {},
     "output_type": "execute_result"
    }
   ],
   "source": [
    "grid_mat.best_params_"
   ]
  },
  {
   "cell_type": "code",
   "execution_count": 112,
   "id": "05a866a4",
   "metadata": {
    "ExecuteTime": {
     "end_time": "2023-07-28T17:18:09.641033Z",
     "start_time": "2023-07-28T17:18:09.615284Z"
    }
   },
   "outputs": [
    {
     "data": {
      "text/plain": [
       "0.11816353020481096"
      ]
     },
     "execution_count": 112,
     "metadata": {},
     "output_type": "execute_result"
    }
   ],
   "source": [
    "grid_mat.score(X_test_mat,y_test_mat)"
   ]
  },
  {
   "cell_type": "code",
   "execution_count": 114,
   "id": "805663e6",
   "metadata": {
    "ExecuteTime": {
     "end_time": "2023-07-28T17:21:06.954359Z",
     "start_time": "2023-07-28T17:18:50.538651Z"
    }
   },
   "outputs": [
    {
     "data": {
      "text/html": [
       "<style>#sk-container-id-15 {color: black;background-color: white;}#sk-container-id-15 pre{padding: 0;}#sk-container-id-15 div.sk-toggleable {background-color: white;}#sk-container-id-15 label.sk-toggleable__label {cursor: pointer;display: block;width: 100%;margin-bottom: 0;padding: 0.3em;box-sizing: border-box;text-align: center;}#sk-container-id-15 label.sk-toggleable__label-arrow:before {content: \"▸\";float: left;margin-right: 0.25em;color: #696969;}#sk-container-id-15 label.sk-toggleable__label-arrow:hover:before {color: black;}#sk-container-id-15 div.sk-estimator:hover label.sk-toggleable__label-arrow:before {color: black;}#sk-container-id-15 div.sk-toggleable__content {max-height: 0;max-width: 0;overflow: hidden;text-align: left;background-color: #f0f8ff;}#sk-container-id-15 div.sk-toggleable__content pre {margin: 0.2em;color: black;border-radius: 0.25em;background-color: #f0f8ff;}#sk-container-id-15 input.sk-toggleable__control:checked~div.sk-toggleable__content {max-height: 200px;max-width: 100%;overflow: auto;}#sk-container-id-15 input.sk-toggleable__control:checked~label.sk-toggleable__label-arrow:before {content: \"▾\";}#sk-container-id-15 div.sk-estimator input.sk-toggleable__control:checked~label.sk-toggleable__label {background-color: #d4ebff;}#sk-container-id-15 div.sk-label input.sk-toggleable__control:checked~label.sk-toggleable__label {background-color: #d4ebff;}#sk-container-id-15 input.sk-hidden--visually {border: 0;clip: rect(1px 1px 1px 1px);clip: rect(1px, 1px, 1px, 1px);height: 1px;margin: -1px;overflow: hidden;padding: 0;position: absolute;width: 1px;}#sk-container-id-15 div.sk-estimator {font-family: monospace;background-color: #f0f8ff;border: 1px dotted black;border-radius: 0.25em;box-sizing: border-box;margin-bottom: 0.5em;}#sk-container-id-15 div.sk-estimator:hover {background-color: #d4ebff;}#sk-container-id-15 div.sk-parallel-item::after {content: \"\";width: 100%;border-bottom: 1px solid gray;flex-grow: 1;}#sk-container-id-15 div.sk-label:hover label.sk-toggleable__label {background-color: #d4ebff;}#sk-container-id-15 div.sk-serial::before {content: \"\";position: absolute;border-left: 1px solid gray;box-sizing: border-box;top: 0;bottom: 0;left: 50%;z-index: 0;}#sk-container-id-15 div.sk-serial {display: flex;flex-direction: column;align-items: center;background-color: white;padding-right: 0.2em;padding-left: 0.2em;position: relative;}#sk-container-id-15 div.sk-item {position: relative;z-index: 1;}#sk-container-id-15 div.sk-parallel {display: flex;align-items: stretch;justify-content: center;background-color: white;position: relative;}#sk-container-id-15 div.sk-item::before, #sk-container-id-15 div.sk-parallel-item::before {content: \"\";position: absolute;border-left: 1px solid gray;box-sizing: border-box;top: 0;bottom: 0;left: 50%;z-index: -1;}#sk-container-id-15 div.sk-parallel-item {display: flex;flex-direction: column;z-index: 1;position: relative;background-color: white;}#sk-container-id-15 div.sk-parallel-item:first-child::after {align-self: flex-end;width: 50%;}#sk-container-id-15 div.sk-parallel-item:last-child::after {align-self: flex-start;width: 50%;}#sk-container-id-15 div.sk-parallel-item:only-child::after {width: 0;}#sk-container-id-15 div.sk-dashed-wrapped {border: 1px dashed gray;margin: 0 0.4em 0.5em 0.4em;box-sizing: border-box;padding-bottom: 0.4em;background-color: white;}#sk-container-id-15 div.sk-label label {font-family: monospace;font-weight: bold;display: inline-block;line-height: 1.2em;}#sk-container-id-15 div.sk-label-container {text-align: center;}#sk-container-id-15 div.sk-container {/* jupyter's `normalize.less` sets `[hidden] { display: none; }` but bootstrap.min.css set `[hidden] { display: none !important; }` so we also need the `!important` here to be able to override the default hidden behavior on the sphinx rendered scikit-learn.org. See: https://github.com/scikit-learn/scikit-learn/issues/21755 */display: inline-block !important;position: relative;}#sk-container-id-15 div.sk-text-repr-fallback {display: none;}</style><div id=\"sk-container-id-15\" class=\"sk-top-container\"><div class=\"sk-text-repr-fallback\"><pre>GridSearchCV(cv=4,\n",
       "             estimator=Pipeline(steps=[(&#x27;columntransformer&#x27;,\n",
       "                                        ColumnTransformer(remainder=&#x27;passthrough&#x27;,\n",
       "                                                          transformers=[(&#x27;pipeline-1&#x27;,\n",
       "                                                                         Pipeline(steps=[(&#x27;simpleimputer&#x27;,\n",
       "                                                                                          SimpleImputer(strategy=&#x27;most_frequent&#x27;)),\n",
       "                                                                                         (&#x27;ordinalencoder&#x27;,\n",
       "                                                                                          OrdinalEncoder(handle_unknown=&#x27;use_encoded_value&#x27;,\n",
       "                                                                                                         unknown_value=-1))]),\n",
       "                                                                         [&#x27;Medu&#x27;,\n",
       "                                                                          &#x27;Fedu&#x27;,\n",
       "                                                                          &#x27;traveltime&#x27;,\n",
       "                                                                          &#x27;studytime&#x27;,\n",
       "                                                                          &#x27;failures&#x27;,\n",
       "                                                                          &#x27;...\n",
       "                                                                                          SimpleImputer(strategy=&#x27;most_frequent&#x27;)),\n",
       "                                                                                         (&#x27;standardscaler&#x27;,\n",
       "                                                                                          StandardScaler())]),\n",
       "                                                                         [&#x27;age&#x27;])])),\n",
       "                                       (&#x27;randomforestregressor&#x27;,\n",
       "                                        RandomForestRegressor())]),\n",
       "             param_grid={&#x27;randomforestregressor__max_depth&#x27;: [None, 5, 10],\n",
       "                         &#x27;randomforestregressor__min_samples_leaf&#x27;: [1, 2, 4],\n",
       "                         &#x27;randomforestregressor__min_samples_split&#x27;: [2, 5, 10],\n",
       "                         &#x27;randomforestregressor__n_estimators&#x27;: [100, 200,\n",
       "                                                                 500]})</pre><b>In a Jupyter environment, please rerun this cell to show the HTML representation or trust the notebook. <br />On GitHub, the HTML representation is unable to render, please try loading this page with nbviewer.org.</b></div><div class=\"sk-container\" hidden><div class=\"sk-item sk-dashed-wrapped\"><div class=\"sk-label-container\"><div class=\"sk-label sk-toggleable\"><input class=\"sk-toggleable__control sk-hidden--visually\" id=\"sk-estimator-id-168\" type=\"checkbox\" ><label for=\"sk-estimator-id-168\" class=\"sk-toggleable__label sk-toggleable__label-arrow\">GridSearchCV</label><div class=\"sk-toggleable__content\"><pre>GridSearchCV(cv=4,\n",
       "             estimator=Pipeline(steps=[(&#x27;columntransformer&#x27;,\n",
       "                                        ColumnTransformer(remainder=&#x27;passthrough&#x27;,\n",
       "                                                          transformers=[(&#x27;pipeline-1&#x27;,\n",
       "                                                                         Pipeline(steps=[(&#x27;simpleimputer&#x27;,\n",
       "                                                                                          SimpleImputer(strategy=&#x27;most_frequent&#x27;)),\n",
       "                                                                                         (&#x27;ordinalencoder&#x27;,\n",
       "                                                                                          OrdinalEncoder(handle_unknown=&#x27;use_encoded_value&#x27;,\n",
       "                                                                                                         unknown_value=-1))]),\n",
       "                                                                         [&#x27;Medu&#x27;,\n",
       "                                                                          &#x27;Fedu&#x27;,\n",
       "                                                                          &#x27;traveltime&#x27;,\n",
       "                                                                          &#x27;studytime&#x27;,\n",
       "                                                                          &#x27;failures&#x27;,\n",
       "                                                                          &#x27;...\n",
       "                                                                                          SimpleImputer(strategy=&#x27;most_frequent&#x27;)),\n",
       "                                                                                         (&#x27;standardscaler&#x27;,\n",
       "                                                                                          StandardScaler())]),\n",
       "                                                                         [&#x27;age&#x27;])])),\n",
       "                                       (&#x27;randomforestregressor&#x27;,\n",
       "                                        RandomForestRegressor())]),\n",
       "             param_grid={&#x27;randomforestregressor__max_depth&#x27;: [None, 5, 10],\n",
       "                         &#x27;randomforestregressor__min_samples_leaf&#x27;: [1, 2, 4],\n",
       "                         &#x27;randomforestregressor__min_samples_split&#x27;: [2, 5, 10],\n",
       "                         &#x27;randomforestregressor__n_estimators&#x27;: [100, 200,\n",
       "                                                                 500]})</pre></div></div></div><div class=\"sk-parallel\"><div class=\"sk-parallel-item\"><div class=\"sk-item\"><div class=\"sk-label-container\"><div class=\"sk-label sk-toggleable\"><input class=\"sk-toggleable__control sk-hidden--visually\" id=\"sk-estimator-id-169\" type=\"checkbox\" ><label for=\"sk-estimator-id-169\" class=\"sk-toggleable__label sk-toggleable__label-arrow\">estimator: Pipeline</label><div class=\"sk-toggleable__content\"><pre>Pipeline(steps=[(&#x27;columntransformer&#x27;,\n",
       "                 ColumnTransformer(remainder=&#x27;passthrough&#x27;,\n",
       "                                   transformers=[(&#x27;pipeline-1&#x27;,\n",
       "                                                  Pipeline(steps=[(&#x27;simpleimputer&#x27;,\n",
       "                                                                   SimpleImputer(strategy=&#x27;most_frequent&#x27;)),\n",
       "                                                                  (&#x27;ordinalencoder&#x27;,\n",
       "                                                                   OrdinalEncoder(handle_unknown=&#x27;use_encoded_value&#x27;,\n",
       "                                                                                  unknown_value=-1))]),\n",
       "                                                  [&#x27;Medu&#x27;, &#x27;Fedu&#x27;, &#x27;traveltime&#x27;,\n",
       "                                                   &#x27;studytime&#x27;, &#x27;failures&#x27;,\n",
       "                                                   &#x27;famrel&#x27;, &#x27;freetime&#x27;,\n",
       "                                                   &#x27;goout&#x27;, &#x27;...\n",
       "                                                  [&#x27;school&#x27;, &#x27;sex&#x27;, &#x27;address&#x27;,\n",
       "                                                   &#x27;famsize&#x27;, &#x27;Pstatus&#x27;,\n",
       "                                                   &#x27;schoolsup&#x27;, &#x27;famsup&#x27;,\n",
       "                                                   &#x27;paid&#x27;, &#x27;activities&#x27;,\n",
       "                                                   &#x27;nursery&#x27;, &#x27;higher&#x27;,\n",
       "                                                   &#x27;internet&#x27;, &#x27;romantic&#x27;,\n",
       "                                                   &#x27;Mjob&#x27;, &#x27;Fjob&#x27;, &#x27;reason&#x27;,\n",
       "                                                   &#x27;guardian&#x27;]),\n",
       "                                                 (&#x27;pipeline-3&#x27;,\n",
       "                                                  Pipeline(steps=[(&#x27;simpleimputer&#x27;,\n",
       "                                                                   SimpleImputer(strategy=&#x27;most_frequent&#x27;)),\n",
       "                                                                  (&#x27;standardscaler&#x27;,\n",
       "                                                                   StandardScaler())]),\n",
       "                                                  [&#x27;age&#x27;])])),\n",
       "                (&#x27;randomforestregressor&#x27;, RandomForestRegressor())])</pre></div></div></div><div class=\"sk-serial\"><div class=\"sk-item\"><div class=\"sk-serial\"><div class=\"sk-item sk-dashed-wrapped\"><div class=\"sk-label-container\"><div class=\"sk-label sk-toggleable\"><input class=\"sk-toggleable__control sk-hidden--visually\" id=\"sk-estimator-id-170\" type=\"checkbox\" ><label for=\"sk-estimator-id-170\" class=\"sk-toggleable__label sk-toggleable__label-arrow\">columntransformer: ColumnTransformer</label><div class=\"sk-toggleable__content\"><pre>ColumnTransformer(remainder=&#x27;passthrough&#x27;,\n",
       "                  transformers=[(&#x27;pipeline-1&#x27;,\n",
       "                                 Pipeline(steps=[(&#x27;simpleimputer&#x27;,\n",
       "                                                  SimpleImputer(strategy=&#x27;most_frequent&#x27;)),\n",
       "                                                 (&#x27;ordinalencoder&#x27;,\n",
       "                                                  OrdinalEncoder(handle_unknown=&#x27;use_encoded_value&#x27;,\n",
       "                                                                 unknown_value=-1))]),\n",
       "                                 [&#x27;Medu&#x27;, &#x27;Fedu&#x27;, &#x27;traveltime&#x27;, &#x27;studytime&#x27;,\n",
       "                                  &#x27;failures&#x27;, &#x27;famrel&#x27;, &#x27;freetime&#x27;, &#x27;goout&#x27;,\n",
       "                                  &#x27;Dalc&#x27;, &#x27;Walc&#x27;, &#x27;health&#x27;]),\n",
       "                                (&#x27;pipeline-2&#x27;...\n",
       "                                                  OneHotEncoder(handle_unknown=&#x27;ignore&#x27;,\n",
       "                                                                sparse=False,\n",
       "                                                                sparse_output=False))]),\n",
       "                                 [&#x27;school&#x27;, &#x27;sex&#x27;, &#x27;address&#x27;, &#x27;famsize&#x27;,\n",
       "                                  &#x27;Pstatus&#x27;, &#x27;schoolsup&#x27;, &#x27;famsup&#x27;, &#x27;paid&#x27;,\n",
       "                                  &#x27;activities&#x27;, &#x27;nursery&#x27;, &#x27;higher&#x27;, &#x27;internet&#x27;,\n",
       "                                  &#x27;romantic&#x27;, &#x27;Mjob&#x27;, &#x27;Fjob&#x27;, &#x27;reason&#x27;,\n",
       "                                  &#x27;guardian&#x27;]),\n",
       "                                (&#x27;pipeline-3&#x27;,\n",
       "                                 Pipeline(steps=[(&#x27;simpleimputer&#x27;,\n",
       "                                                  SimpleImputer(strategy=&#x27;most_frequent&#x27;)),\n",
       "                                                 (&#x27;standardscaler&#x27;,\n",
       "                                                  StandardScaler())]),\n",
       "                                 [&#x27;age&#x27;])])</pre></div></div></div><div class=\"sk-parallel\"><div class=\"sk-parallel-item\"><div class=\"sk-item\"><div class=\"sk-label-container\"><div class=\"sk-label sk-toggleable\"><input class=\"sk-toggleable__control sk-hidden--visually\" id=\"sk-estimator-id-171\" type=\"checkbox\" ><label for=\"sk-estimator-id-171\" class=\"sk-toggleable__label sk-toggleable__label-arrow\">pipeline-1</label><div class=\"sk-toggleable__content\"><pre>[&#x27;Medu&#x27;, &#x27;Fedu&#x27;, &#x27;traveltime&#x27;, &#x27;studytime&#x27;, &#x27;failures&#x27;, &#x27;famrel&#x27;, &#x27;freetime&#x27;, &#x27;goout&#x27;, &#x27;Dalc&#x27;, &#x27;Walc&#x27;, &#x27;health&#x27;]</pre></div></div></div><div class=\"sk-serial\"><div class=\"sk-item\"><div class=\"sk-serial\"><div class=\"sk-item\"><div class=\"sk-estimator sk-toggleable\"><input class=\"sk-toggleable__control sk-hidden--visually\" id=\"sk-estimator-id-172\" type=\"checkbox\" ><label for=\"sk-estimator-id-172\" class=\"sk-toggleable__label sk-toggleable__label-arrow\">SimpleImputer</label><div class=\"sk-toggleable__content\"><pre>SimpleImputer(strategy=&#x27;most_frequent&#x27;)</pre></div></div></div><div class=\"sk-item\"><div class=\"sk-estimator sk-toggleable\"><input class=\"sk-toggleable__control sk-hidden--visually\" id=\"sk-estimator-id-173\" type=\"checkbox\" ><label for=\"sk-estimator-id-173\" class=\"sk-toggleable__label sk-toggleable__label-arrow\">OrdinalEncoder</label><div class=\"sk-toggleable__content\"><pre>OrdinalEncoder(handle_unknown=&#x27;use_encoded_value&#x27;, unknown_value=-1)</pre></div></div></div></div></div></div></div></div><div class=\"sk-parallel-item\"><div class=\"sk-item\"><div class=\"sk-label-container\"><div class=\"sk-label sk-toggleable\"><input class=\"sk-toggleable__control sk-hidden--visually\" id=\"sk-estimator-id-174\" type=\"checkbox\" ><label for=\"sk-estimator-id-174\" class=\"sk-toggleable__label sk-toggleable__label-arrow\">pipeline-2</label><div class=\"sk-toggleable__content\"><pre>[&#x27;school&#x27;, &#x27;sex&#x27;, &#x27;address&#x27;, &#x27;famsize&#x27;, &#x27;Pstatus&#x27;, &#x27;schoolsup&#x27;, &#x27;famsup&#x27;, &#x27;paid&#x27;, &#x27;activities&#x27;, &#x27;nursery&#x27;, &#x27;higher&#x27;, &#x27;internet&#x27;, &#x27;romantic&#x27;, &#x27;Mjob&#x27;, &#x27;Fjob&#x27;, &#x27;reason&#x27;, &#x27;guardian&#x27;]</pre></div></div></div><div class=\"sk-serial\"><div class=\"sk-item\"><div class=\"sk-serial\"><div class=\"sk-item\"><div class=\"sk-estimator sk-toggleable\"><input class=\"sk-toggleable__control sk-hidden--visually\" id=\"sk-estimator-id-175\" type=\"checkbox\" ><label for=\"sk-estimator-id-175\" class=\"sk-toggleable__label sk-toggleable__label-arrow\">SimpleImputer</label><div class=\"sk-toggleable__content\"><pre>SimpleImputer(strategy=&#x27;most_frequent&#x27;)</pre></div></div></div><div class=\"sk-item\"><div class=\"sk-estimator sk-toggleable\"><input class=\"sk-toggleable__control sk-hidden--visually\" id=\"sk-estimator-id-176\" type=\"checkbox\" ><label for=\"sk-estimator-id-176\" class=\"sk-toggleable__label sk-toggleable__label-arrow\">OneHotEncoder</label><div class=\"sk-toggleable__content\"><pre>OneHotEncoder(handle_unknown=&#x27;ignore&#x27;, sparse=False, sparse_output=False)</pre></div></div></div></div></div></div></div></div><div class=\"sk-parallel-item\"><div class=\"sk-item\"><div class=\"sk-label-container\"><div class=\"sk-label sk-toggleable\"><input class=\"sk-toggleable__control sk-hidden--visually\" id=\"sk-estimator-id-177\" type=\"checkbox\" ><label for=\"sk-estimator-id-177\" class=\"sk-toggleable__label sk-toggleable__label-arrow\">pipeline-3</label><div class=\"sk-toggleable__content\"><pre>[&#x27;age&#x27;]</pre></div></div></div><div class=\"sk-serial\"><div class=\"sk-item\"><div class=\"sk-serial\"><div class=\"sk-item\"><div class=\"sk-estimator sk-toggleable\"><input class=\"sk-toggleable__control sk-hidden--visually\" id=\"sk-estimator-id-178\" type=\"checkbox\" ><label for=\"sk-estimator-id-178\" class=\"sk-toggleable__label sk-toggleable__label-arrow\">SimpleImputer</label><div class=\"sk-toggleable__content\"><pre>SimpleImputer(strategy=&#x27;most_frequent&#x27;)</pre></div></div></div><div class=\"sk-item\"><div class=\"sk-estimator sk-toggleable\"><input class=\"sk-toggleable__control sk-hidden--visually\" id=\"sk-estimator-id-179\" type=\"checkbox\" ><label for=\"sk-estimator-id-179\" class=\"sk-toggleable__label sk-toggleable__label-arrow\">StandardScaler</label><div class=\"sk-toggleable__content\"><pre>StandardScaler()</pre></div></div></div></div></div></div></div></div><div class=\"sk-parallel-item\"><div class=\"sk-item\"><div class=\"sk-label-container\"><div class=\"sk-label sk-toggleable\"><input class=\"sk-toggleable__control sk-hidden--visually\" id=\"sk-estimator-id-180\" type=\"checkbox\" ><label for=\"sk-estimator-id-180\" class=\"sk-toggleable__label sk-toggleable__label-arrow\">remainder</label><div class=\"sk-toggleable__content\"><pre>[]</pre></div></div></div><div class=\"sk-serial\"><div class=\"sk-item\"><div class=\"sk-estimator sk-toggleable\"><input class=\"sk-toggleable__control sk-hidden--visually\" id=\"sk-estimator-id-181\" type=\"checkbox\" ><label for=\"sk-estimator-id-181\" class=\"sk-toggleable__label sk-toggleable__label-arrow\">passthrough</label><div class=\"sk-toggleable__content\"><pre>passthrough</pre></div></div></div></div></div></div></div></div><div class=\"sk-item\"><div class=\"sk-estimator sk-toggleable\"><input class=\"sk-toggleable__control sk-hidden--visually\" id=\"sk-estimator-id-182\" type=\"checkbox\" ><label for=\"sk-estimator-id-182\" class=\"sk-toggleable__label sk-toggleable__label-arrow\">RandomForestRegressor</label><div class=\"sk-toggleable__content\"><pre>RandomForestRegressor()</pre></div></div></div></div></div></div></div></div></div></div></div></div>"
      ],
      "text/plain": [
       "GridSearchCV(cv=4,\n",
       "             estimator=Pipeline(steps=[('columntransformer',\n",
       "                                        ColumnTransformer(remainder='passthrough',\n",
       "                                                          transformers=[('pipeline-1',\n",
       "                                                                         Pipeline(steps=[('simpleimputer',\n",
       "                                                                                          SimpleImputer(strategy='most_frequent')),\n",
       "                                                                                         ('ordinalencoder',\n",
       "                                                                                          OrdinalEncoder(handle_unknown='use_encoded_value',\n",
       "                                                                                                         unknown_value=-1))]),\n",
       "                                                                         ['Medu',\n",
       "                                                                          'Fedu',\n",
       "                                                                          'traveltime',\n",
       "                                                                          'studytime',\n",
       "                                                                          'failures',\n",
       "                                                                          '...\n",
       "                                                                                          SimpleImputer(strategy='most_frequent')),\n",
       "                                                                                         ('standardscaler',\n",
       "                                                                                          StandardScaler())]),\n",
       "                                                                         ['age'])])),\n",
       "                                       ('randomforestregressor',\n",
       "                                        RandomForestRegressor())]),\n",
       "             param_grid={'randomforestregressor__max_depth': [None, 5, 10],\n",
       "                         'randomforestregressor__min_samples_leaf': [1, 2, 4],\n",
       "                         'randomforestregressor__min_samples_split': [2, 5, 10],\n",
       "                         'randomforestregressor__n_estimators': [100, 200,\n",
       "                                                                 500]})"
      ]
     },
     "execution_count": 114,
     "metadata": {},
     "output_type": "execute_result"
    }
   ],
   "source": [
    "grid_por.fit(X_train_por, y_train_por)"
   ]
  },
  {
   "cell_type": "code",
   "execution_count": 115,
   "id": "326f71b1",
   "metadata": {
    "ExecuteTime": {
     "end_time": "2023-07-28T17:21:12.159429Z",
     "start_time": "2023-07-28T17:21:12.154657Z"
    }
   },
   "outputs": [
    {
     "data": {
      "text/plain": [
       "{'randomforestregressor__max_depth': None,\n",
       " 'randomforestregressor__min_samples_leaf': 1,\n",
       " 'randomforestregressor__min_samples_split': 10,\n",
       " 'randomforestregressor__n_estimators': 100}"
      ]
     },
     "execution_count": 115,
     "metadata": {},
     "output_type": "execute_result"
    }
   ],
   "source": [
    "grid_por.best_params_"
   ]
  },
  {
   "cell_type": "code",
   "execution_count": 116,
   "id": "c09013ac",
   "metadata": {
    "ExecuteTime": {
     "end_time": "2023-07-28T17:21:12.767807Z",
     "start_time": "2023-07-28T17:21:12.736263Z"
    }
   },
   "outputs": [
    {
     "data": {
      "text/plain": [
       "0.2639063919332302"
      ]
     },
     "execution_count": 116,
     "metadata": {},
     "output_type": "execute_result"
    }
   ],
   "source": [
    "grid_por.score(X_test_por,y_test_por)"
   ]
  },
  {
   "cell_type": "markdown",
   "id": "3333af6d",
   "metadata": {},
   "source": [
    "**Our results are very poor. The nature of our variables seems to be one of the reasons for these low scores. Trying to improve these models appears to be futile given their performance. Therefore, we are considering converting our Y values into classes to switch to classification models.**"
   ]
  },
  {
   "cell_type": "markdown",
   "id": "7ed4bb29",
   "metadata": {},
   "source": [
    "Modification of our Y values to binary."
   ]
  },
  {
   "cell_type": "code",
   "execution_count": 119,
   "id": "0230fec2",
   "metadata": {
    "ExecuteTime": {
     "end_time": "2023-07-28T17:29:03.405553Z",
     "start_time": "2023-07-28T17:29:03.401206Z"
    }
   },
   "outputs": [],
   "source": [
    "def convert_to_binary(note):\n",
    "    return 1 if note >= 10 else 0"
   ]
  },
  {
   "cell_type": "code",
   "execution_count": 121,
   "id": "310ba274",
   "metadata": {
    "ExecuteTime": {
     "end_time": "2023-07-28T17:29:45.415343Z",
     "start_time": "2023-07-28T17:29:45.409829Z"
    }
   },
   "outputs": [],
   "source": [
    "y1_clf =y1.apply(convert_to_binary)\n",
    "y2_clf =y2.apply(convert_to_binary)"
   ]
  },
  {
   "cell_type": "markdown",
   "id": "434d4c34",
   "metadata": {},
   "source": [
    "New Train Test Split with new Y."
   ]
  },
  {
   "cell_type": "code",
   "execution_count": 125,
   "id": "525e6c54",
   "metadata": {
    "ExecuteTime": {
     "end_time": "2023-07-28T17:32:53.144044Z",
     "start_time": "2023-07-28T17:32:53.134537Z"
    }
   },
   "outputs": [
    {
     "name": "stdout",
     "output_type": "stream",
     "text": [
      "MAT:\n",
      "(267, 29) (115, 29)\n",
      "(267,) (115,)\n",
      "\n",
      "POR:\n",
      "(267, 29) (115, 29)\n",
      "(267,) (115,)\n"
     ]
    }
   ],
   "source": [
    "X_train_mat, X_test_mat, y_train_mat, y_test_mat = train_test_split(X, y1_clf, test_size=0.3, random_state=42)\n",
    "X_train_por, X_test_por, y_train_por, y_test_por = train_test_split(X, y2_clf, test_size=0.3, random_state=42)\n",
    "\n",
    "print('MAT:')\n",
    "print(X_train_mat.shape, X_test_mat.shape)\n",
    "print(y_train_mat.shape, y_test_mat.shape)\n",
    "print('')\n",
    "print('POR:')\n",
    "print(X_train_por.shape, X_test_por.shape)\n",
    "print(y_train_por.shape, y_test_por.shape)\n"
   ]
  },
  {
   "cell_type": "markdown",
   "id": "3a499543",
   "metadata": {},
   "source": [
    "We readjust our pipelines to include classification models."
   ]
  },
  {
   "cell_type": "markdown",
   "id": "ed5aa55c",
   "metadata": {},
   "source": [
    "##### Classifier"
   ]
  },
  {
   "cell_type": "code",
   "execution_count": 126,
   "id": "22b73f87",
   "metadata": {
    "ExecuteTime": {
     "end_time": "2023-07-28T17:32:59.539732Z",
     "start_time": "2023-07-28T17:32:59.439619Z"
    }
   },
   "outputs": [
    {
     "data": {
      "text/html": [
       "<style>#sk-container-id-18 {color: black;background-color: white;}#sk-container-id-18 pre{padding: 0;}#sk-container-id-18 div.sk-toggleable {background-color: white;}#sk-container-id-18 label.sk-toggleable__label {cursor: pointer;display: block;width: 100%;margin-bottom: 0;padding: 0.3em;box-sizing: border-box;text-align: center;}#sk-container-id-18 label.sk-toggleable__label-arrow:before {content: \"▸\";float: left;margin-right: 0.25em;color: #696969;}#sk-container-id-18 label.sk-toggleable__label-arrow:hover:before {color: black;}#sk-container-id-18 div.sk-estimator:hover label.sk-toggleable__label-arrow:before {color: black;}#sk-container-id-18 div.sk-toggleable__content {max-height: 0;max-width: 0;overflow: hidden;text-align: left;background-color: #f0f8ff;}#sk-container-id-18 div.sk-toggleable__content pre {margin: 0.2em;color: black;border-radius: 0.25em;background-color: #f0f8ff;}#sk-container-id-18 input.sk-toggleable__control:checked~div.sk-toggleable__content {max-height: 200px;max-width: 100%;overflow: auto;}#sk-container-id-18 input.sk-toggleable__control:checked~label.sk-toggleable__label-arrow:before {content: \"▾\";}#sk-container-id-18 div.sk-estimator input.sk-toggleable__control:checked~label.sk-toggleable__label {background-color: #d4ebff;}#sk-container-id-18 div.sk-label input.sk-toggleable__control:checked~label.sk-toggleable__label {background-color: #d4ebff;}#sk-container-id-18 input.sk-hidden--visually {border: 0;clip: rect(1px 1px 1px 1px);clip: rect(1px, 1px, 1px, 1px);height: 1px;margin: -1px;overflow: hidden;padding: 0;position: absolute;width: 1px;}#sk-container-id-18 div.sk-estimator {font-family: monospace;background-color: #f0f8ff;border: 1px dotted black;border-radius: 0.25em;box-sizing: border-box;margin-bottom: 0.5em;}#sk-container-id-18 div.sk-estimator:hover {background-color: #d4ebff;}#sk-container-id-18 div.sk-parallel-item::after {content: \"\";width: 100%;border-bottom: 1px solid gray;flex-grow: 1;}#sk-container-id-18 div.sk-label:hover label.sk-toggleable__label {background-color: #d4ebff;}#sk-container-id-18 div.sk-serial::before {content: \"\";position: absolute;border-left: 1px solid gray;box-sizing: border-box;top: 0;bottom: 0;left: 50%;z-index: 0;}#sk-container-id-18 div.sk-serial {display: flex;flex-direction: column;align-items: center;background-color: white;padding-right: 0.2em;padding-left: 0.2em;position: relative;}#sk-container-id-18 div.sk-item {position: relative;z-index: 1;}#sk-container-id-18 div.sk-parallel {display: flex;align-items: stretch;justify-content: center;background-color: white;position: relative;}#sk-container-id-18 div.sk-item::before, #sk-container-id-18 div.sk-parallel-item::before {content: \"\";position: absolute;border-left: 1px solid gray;box-sizing: border-box;top: 0;bottom: 0;left: 50%;z-index: -1;}#sk-container-id-18 div.sk-parallel-item {display: flex;flex-direction: column;z-index: 1;position: relative;background-color: white;}#sk-container-id-18 div.sk-parallel-item:first-child::after {align-self: flex-end;width: 50%;}#sk-container-id-18 div.sk-parallel-item:last-child::after {align-self: flex-start;width: 50%;}#sk-container-id-18 div.sk-parallel-item:only-child::after {width: 0;}#sk-container-id-18 div.sk-dashed-wrapped {border: 1px dashed gray;margin: 0 0.4em 0.5em 0.4em;box-sizing: border-box;padding-bottom: 0.4em;background-color: white;}#sk-container-id-18 div.sk-label label {font-family: monospace;font-weight: bold;display: inline-block;line-height: 1.2em;}#sk-container-id-18 div.sk-label-container {text-align: center;}#sk-container-id-18 div.sk-container {/* jupyter's `normalize.less` sets `[hidden] { display: none; }` but bootstrap.min.css set `[hidden] { display: none !important; }` so we also need the `!important` here to be able to override the default hidden behavior on the sphinx rendered scikit-learn.org. See: https://github.com/scikit-learn/scikit-learn/issues/21755 */display: inline-block !important;position: relative;}#sk-container-id-18 div.sk-text-repr-fallback {display: none;}</style><div id=\"sk-container-id-18\" class=\"sk-top-container\"><div class=\"sk-text-repr-fallback\"><pre>Pipeline(steps=[(&#x27;columntransformer&#x27;,\n",
       "                 ColumnTransformer(remainder=&#x27;passthrough&#x27;,\n",
       "                                   transformers=[(&#x27;pipeline-1&#x27;,\n",
       "                                                  Pipeline(steps=[(&#x27;simpleimputer&#x27;,\n",
       "                                                                   SimpleImputer(strategy=&#x27;most_frequent&#x27;)),\n",
       "                                                                  (&#x27;ordinalencoder&#x27;,\n",
       "                                                                   OrdinalEncoder(handle_unknown=&#x27;use_encoded_value&#x27;,\n",
       "                                                                                  unknown_value=-1))]),\n",
       "                                                  [&#x27;Medu&#x27;, &#x27;Fedu&#x27;, &#x27;traveltime&#x27;,\n",
       "                                                   &#x27;studytime&#x27;, &#x27;failures&#x27;,\n",
       "                                                   &#x27;famrel&#x27;, &#x27;freetime&#x27;,\n",
       "                                                   &#x27;goout&#x27;, &#x27;...\n",
       "                                                  [&#x27;school&#x27;, &#x27;sex&#x27;, &#x27;address&#x27;,\n",
       "                                                   &#x27;famsize&#x27;, &#x27;Pstatus&#x27;,\n",
       "                                                   &#x27;schoolsup&#x27;, &#x27;famsup&#x27;,\n",
       "                                                   &#x27;paid&#x27;, &#x27;activities&#x27;,\n",
       "                                                   &#x27;nursery&#x27;, &#x27;higher&#x27;,\n",
       "                                                   &#x27;internet&#x27;, &#x27;romantic&#x27;,\n",
       "                                                   &#x27;Mjob&#x27;, &#x27;Fjob&#x27;, &#x27;reason&#x27;,\n",
       "                                                   &#x27;guardian&#x27;]),\n",
       "                                                 (&#x27;pipeline-3&#x27;,\n",
       "                                                  Pipeline(steps=[(&#x27;simpleimputer&#x27;,\n",
       "                                                                   SimpleImputer(strategy=&#x27;most_frequent&#x27;)),\n",
       "                                                                  (&#x27;standardscaler&#x27;,\n",
       "                                                                   StandardScaler())]),\n",
       "                                                  [&#x27;age&#x27;])])),\n",
       "                (&#x27;randomforestclassifier&#x27;, RandomForestClassifier())])</pre><b>In a Jupyter environment, please rerun this cell to show the HTML representation or trust the notebook. <br />On GitHub, the HTML representation is unable to render, please try loading this page with nbviewer.org.</b></div><div class=\"sk-container\" hidden><div class=\"sk-item sk-dashed-wrapped\"><div class=\"sk-label-container\"><div class=\"sk-label sk-toggleable\"><input class=\"sk-toggleable__control sk-hidden--visually\" id=\"sk-estimator-id-211\" type=\"checkbox\" ><label for=\"sk-estimator-id-211\" class=\"sk-toggleable__label sk-toggleable__label-arrow\">Pipeline</label><div class=\"sk-toggleable__content\"><pre>Pipeline(steps=[(&#x27;columntransformer&#x27;,\n",
       "                 ColumnTransformer(remainder=&#x27;passthrough&#x27;,\n",
       "                                   transformers=[(&#x27;pipeline-1&#x27;,\n",
       "                                                  Pipeline(steps=[(&#x27;simpleimputer&#x27;,\n",
       "                                                                   SimpleImputer(strategy=&#x27;most_frequent&#x27;)),\n",
       "                                                                  (&#x27;ordinalencoder&#x27;,\n",
       "                                                                   OrdinalEncoder(handle_unknown=&#x27;use_encoded_value&#x27;,\n",
       "                                                                                  unknown_value=-1))]),\n",
       "                                                  [&#x27;Medu&#x27;, &#x27;Fedu&#x27;, &#x27;traveltime&#x27;,\n",
       "                                                   &#x27;studytime&#x27;, &#x27;failures&#x27;,\n",
       "                                                   &#x27;famrel&#x27;, &#x27;freetime&#x27;,\n",
       "                                                   &#x27;goout&#x27;, &#x27;...\n",
       "                                                  [&#x27;school&#x27;, &#x27;sex&#x27;, &#x27;address&#x27;,\n",
       "                                                   &#x27;famsize&#x27;, &#x27;Pstatus&#x27;,\n",
       "                                                   &#x27;schoolsup&#x27;, &#x27;famsup&#x27;,\n",
       "                                                   &#x27;paid&#x27;, &#x27;activities&#x27;,\n",
       "                                                   &#x27;nursery&#x27;, &#x27;higher&#x27;,\n",
       "                                                   &#x27;internet&#x27;, &#x27;romantic&#x27;,\n",
       "                                                   &#x27;Mjob&#x27;, &#x27;Fjob&#x27;, &#x27;reason&#x27;,\n",
       "                                                   &#x27;guardian&#x27;]),\n",
       "                                                 (&#x27;pipeline-3&#x27;,\n",
       "                                                  Pipeline(steps=[(&#x27;simpleimputer&#x27;,\n",
       "                                                                   SimpleImputer(strategy=&#x27;most_frequent&#x27;)),\n",
       "                                                                  (&#x27;standardscaler&#x27;,\n",
       "                                                                   StandardScaler())]),\n",
       "                                                  [&#x27;age&#x27;])])),\n",
       "                (&#x27;randomforestclassifier&#x27;, RandomForestClassifier())])</pre></div></div></div><div class=\"sk-serial\"><div class=\"sk-item sk-dashed-wrapped\"><div class=\"sk-label-container\"><div class=\"sk-label sk-toggleable\"><input class=\"sk-toggleable__control sk-hidden--visually\" id=\"sk-estimator-id-212\" type=\"checkbox\" ><label for=\"sk-estimator-id-212\" class=\"sk-toggleable__label sk-toggleable__label-arrow\">columntransformer: ColumnTransformer</label><div class=\"sk-toggleable__content\"><pre>ColumnTransformer(remainder=&#x27;passthrough&#x27;,\n",
       "                  transformers=[(&#x27;pipeline-1&#x27;,\n",
       "                                 Pipeline(steps=[(&#x27;simpleimputer&#x27;,\n",
       "                                                  SimpleImputer(strategy=&#x27;most_frequent&#x27;)),\n",
       "                                                 (&#x27;ordinalencoder&#x27;,\n",
       "                                                  OrdinalEncoder(handle_unknown=&#x27;use_encoded_value&#x27;,\n",
       "                                                                 unknown_value=-1))]),\n",
       "                                 [&#x27;Medu&#x27;, &#x27;Fedu&#x27;, &#x27;traveltime&#x27;, &#x27;studytime&#x27;,\n",
       "                                  &#x27;failures&#x27;, &#x27;famrel&#x27;, &#x27;freetime&#x27;, &#x27;goout&#x27;,\n",
       "                                  &#x27;Dalc&#x27;, &#x27;Walc&#x27;, &#x27;health&#x27;]),\n",
       "                                (&#x27;pipeline-2&#x27;...\n",
       "                                                  OneHotEncoder(handle_unknown=&#x27;ignore&#x27;,\n",
       "                                                                sparse=False,\n",
       "                                                                sparse_output=False))]),\n",
       "                                 [&#x27;school&#x27;, &#x27;sex&#x27;, &#x27;address&#x27;, &#x27;famsize&#x27;,\n",
       "                                  &#x27;Pstatus&#x27;, &#x27;schoolsup&#x27;, &#x27;famsup&#x27;, &#x27;paid&#x27;,\n",
       "                                  &#x27;activities&#x27;, &#x27;nursery&#x27;, &#x27;higher&#x27;, &#x27;internet&#x27;,\n",
       "                                  &#x27;romantic&#x27;, &#x27;Mjob&#x27;, &#x27;Fjob&#x27;, &#x27;reason&#x27;,\n",
       "                                  &#x27;guardian&#x27;]),\n",
       "                                (&#x27;pipeline-3&#x27;,\n",
       "                                 Pipeline(steps=[(&#x27;simpleimputer&#x27;,\n",
       "                                                  SimpleImputer(strategy=&#x27;most_frequent&#x27;)),\n",
       "                                                 (&#x27;standardscaler&#x27;,\n",
       "                                                  StandardScaler())]),\n",
       "                                 [&#x27;age&#x27;])])</pre></div></div></div><div class=\"sk-parallel\"><div class=\"sk-parallel-item\"><div class=\"sk-item\"><div class=\"sk-label-container\"><div class=\"sk-label sk-toggleable\"><input class=\"sk-toggleable__control sk-hidden--visually\" id=\"sk-estimator-id-213\" type=\"checkbox\" ><label for=\"sk-estimator-id-213\" class=\"sk-toggleable__label sk-toggleable__label-arrow\">pipeline-1</label><div class=\"sk-toggleable__content\"><pre>[&#x27;Medu&#x27;, &#x27;Fedu&#x27;, &#x27;traveltime&#x27;, &#x27;studytime&#x27;, &#x27;failures&#x27;, &#x27;famrel&#x27;, &#x27;freetime&#x27;, &#x27;goout&#x27;, &#x27;Dalc&#x27;, &#x27;Walc&#x27;, &#x27;health&#x27;]</pre></div></div></div><div class=\"sk-serial\"><div class=\"sk-item\"><div class=\"sk-serial\"><div class=\"sk-item\"><div class=\"sk-estimator sk-toggleable\"><input class=\"sk-toggleable__control sk-hidden--visually\" id=\"sk-estimator-id-214\" type=\"checkbox\" ><label for=\"sk-estimator-id-214\" class=\"sk-toggleable__label sk-toggleable__label-arrow\">SimpleImputer</label><div class=\"sk-toggleable__content\"><pre>SimpleImputer(strategy=&#x27;most_frequent&#x27;)</pre></div></div></div><div class=\"sk-item\"><div class=\"sk-estimator sk-toggleable\"><input class=\"sk-toggleable__control sk-hidden--visually\" id=\"sk-estimator-id-215\" type=\"checkbox\" ><label for=\"sk-estimator-id-215\" class=\"sk-toggleable__label sk-toggleable__label-arrow\">OrdinalEncoder</label><div class=\"sk-toggleable__content\"><pre>OrdinalEncoder(handle_unknown=&#x27;use_encoded_value&#x27;, unknown_value=-1)</pre></div></div></div></div></div></div></div></div><div class=\"sk-parallel-item\"><div class=\"sk-item\"><div class=\"sk-label-container\"><div class=\"sk-label sk-toggleable\"><input class=\"sk-toggleable__control sk-hidden--visually\" id=\"sk-estimator-id-216\" type=\"checkbox\" ><label for=\"sk-estimator-id-216\" class=\"sk-toggleable__label sk-toggleable__label-arrow\">pipeline-2</label><div class=\"sk-toggleable__content\"><pre>[&#x27;school&#x27;, &#x27;sex&#x27;, &#x27;address&#x27;, &#x27;famsize&#x27;, &#x27;Pstatus&#x27;, &#x27;schoolsup&#x27;, &#x27;famsup&#x27;, &#x27;paid&#x27;, &#x27;activities&#x27;, &#x27;nursery&#x27;, &#x27;higher&#x27;, &#x27;internet&#x27;, &#x27;romantic&#x27;, &#x27;Mjob&#x27;, &#x27;Fjob&#x27;, &#x27;reason&#x27;, &#x27;guardian&#x27;]</pre></div></div></div><div class=\"sk-serial\"><div class=\"sk-item\"><div class=\"sk-serial\"><div class=\"sk-item\"><div class=\"sk-estimator sk-toggleable\"><input class=\"sk-toggleable__control sk-hidden--visually\" id=\"sk-estimator-id-217\" type=\"checkbox\" ><label for=\"sk-estimator-id-217\" class=\"sk-toggleable__label sk-toggleable__label-arrow\">SimpleImputer</label><div class=\"sk-toggleable__content\"><pre>SimpleImputer(strategy=&#x27;most_frequent&#x27;)</pre></div></div></div><div class=\"sk-item\"><div class=\"sk-estimator sk-toggleable\"><input class=\"sk-toggleable__control sk-hidden--visually\" id=\"sk-estimator-id-218\" type=\"checkbox\" ><label for=\"sk-estimator-id-218\" class=\"sk-toggleable__label sk-toggleable__label-arrow\">OneHotEncoder</label><div class=\"sk-toggleable__content\"><pre>OneHotEncoder(handle_unknown=&#x27;ignore&#x27;, sparse=False, sparse_output=False)</pre></div></div></div></div></div></div></div></div><div class=\"sk-parallel-item\"><div class=\"sk-item\"><div class=\"sk-label-container\"><div class=\"sk-label sk-toggleable\"><input class=\"sk-toggleable__control sk-hidden--visually\" id=\"sk-estimator-id-219\" type=\"checkbox\" ><label for=\"sk-estimator-id-219\" class=\"sk-toggleable__label sk-toggleable__label-arrow\">pipeline-3</label><div class=\"sk-toggleable__content\"><pre>[&#x27;age&#x27;]</pre></div></div></div><div class=\"sk-serial\"><div class=\"sk-item\"><div class=\"sk-serial\"><div class=\"sk-item\"><div class=\"sk-estimator sk-toggleable\"><input class=\"sk-toggleable__control sk-hidden--visually\" id=\"sk-estimator-id-220\" type=\"checkbox\" ><label for=\"sk-estimator-id-220\" class=\"sk-toggleable__label sk-toggleable__label-arrow\">SimpleImputer</label><div class=\"sk-toggleable__content\"><pre>SimpleImputer(strategy=&#x27;most_frequent&#x27;)</pre></div></div></div><div class=\"sk-item\"><div class=\"sk-estimator sk-toggleable\"><input class=\"sk-toggleable__control sk-hidden--visually\" id=\"sk-estimator-id-221\" type=\"checkbox\" ><label for=\"sk-estimator-id-221\" class=\"sk-toggleable__label sk-toggleable__label-arrow\">StandardScaler</label><div class=\"sk-toggleable__content\"><pre>StandardScaler()</pre></div></div></div></div></div></div></div></div><div class=\"sk-parallel-item\"><div class=\"sk-item\"><div class=\"sk-label-container\"><div class=\"sk-label sk-toggleable\"><input class=\"sk-toggleable__control sk-hidden--visually\" id=\"sk-estimator-id-222\" type=\"checkbox\" ><label for=\"sk-estimator-id-222\" class=\"sk-toggleable__label sk-toggleable__label-arrow\">remainder</label><div class=\"sk-toggleable__content\"><pre>[]</pre></div></div></div><div class=\"sk-serial\"><div class=\"sk-item\"><div class=\"sk-estimator sk-toggleable\"><input class=\"sk-toggleable__control sk-hidden--visually\" id=\"sk-estimator-id-223\" type=\"checkbox\" ><label for=\"sk-estimator-id-223\" class=\"sk-toggleable__label sk-toggleable__label-arrow\">passthrough</label><div class=\"sk-toggleable__content\"><pre>passthrough</pre></div></div></div></div></div></div></div></div><div class=\"sk-item\"><div class=\"sk-estimator sk-toggleable\"><input class=\"sk-toggleable__control sk-hidden--visually\" id=\"sk-estimator-id-224\" type=\"checkbox\" ><label for=\"sk-estimator-id-224\" class=\"sk-toggleable__label sk-toggleable__label-arrow\">RandomForestClassifier</label><div class=\"sk-toggleable__content\"><pre>RandomForestClassifier()</pre></div></div></div></div></div></div></div>"
      ],
      "text/plain": [
       "Pipeline(steps=[('columntransformer',\n",
       "                 ColumnTransformer(remainder='passthrough',\n",
       "                                   transformers=[('pipeline-1',\n",
       "                                                  Pipeline(steps=[('simpleimputer',\n",
       "                                                                   SimpleImputer(strategy='most_frequent')),\n",
       "                                                                  ('ordinalencoder',\n",
       "                                                                   OrdinalEncoder(handle_unknown='use_encoded_value',\n",
       "                                                                                  unknown_value=-1))]),\n",
       "                                                  ['Medu', 'Fedu', 'traveltime',\n",
       "                                                   'studytime', 'failures',\n",
       "                                                   'famrel', 'freetime',\n",
       "                                                   'goout', '...\n",
       "                                                  ['school', 'sex', 'address',\n",
       "                                                   'famsize', 'Pstatus',\n",
       "                                                   'schoolsup', 'famsup',\n",
       "                                                   'paid', 'activities',\n",
       "                                                   'nursery', 'higher',\n",
       "                                                   'internet', 'romantic',\n",
       "                                                   'Mjob', 'Fjob', 'reason',\n",
       "                                                   'guardian']),\n",
       "                                                 ('pipeline-3',\n",
       "                                                  Pipeline(steps=[('simpleimputer',\n",
       "                                                                   SimpleImputer(strategy='most_frequent')),\n",
       "                                                                  ('standardscaler',\n",
       "                                                                   StandardScaler())]),\n",
       "                                                  ['age'])])),\n",
       "                ('randomforestclassifier', RandomForestClassifier())])"
      ]
     },
     "execution_count": 126,
     "metadata": {},
     "output_type": "execute_result"
    }
   ],
   "source": [
    "from sklearn.ensemble import RandomForestClassifier\n",
    "\n",
    "model_clf = make_pipeline(preprocess, RandomForestClassifier())\n",
    "model_clf"
   ]
  },
  {
   "cell_type": "code",
   "execution_count": null,
   "id": "e2c3836a",
   "metadata": {
    "ExecuteTime": {
     "end_time": "2023-07-28T18:44:48.893351Z",
     "start_time": "2023-07-28T18:44:48.893340Z"
    }
   },
   "outputs": [],
   "source": [
    "mat_clf = model_clf\n",
    "por_clf = model_clf"
   ]
  },
  {
   "cell_type": "code",
   "execution_count": null,
   "id": "c98e7df8",
   "metadata": {
    "ExecuteTime": {
     "end_time": "2023-07-28T18:44:48.898617Z",
     "start_time": "2023-07-28T18:44:48.898603Z"
    }
   },
   "outputs": [],
   "source": [
    "params = {\n",
    "    'randomforestclassifier__n_estimators' : [100, 200, 500],\n",
    "    'randomforestclassifier__max_depth' : [None, 5, 10],\n",
    "    'randomforestclassifier__min_samples_split' : [2, 5, 10],\n",
    "    'randomforestclassifier__min_samples_leaf': [1, 2, 4]\n",
    "}\n",
    "\n",
    "grid_mat_clf = GridSearchCV(mat_clf, param_grid=params, cv=4, scoring='accuracy')\n",
    "grid_por_clf = GridSearchCV(por_clf, param_grid=params, cv=4, scoring='accuracy')"
   ]
  },
  {
   "cell_type": "markdown",
   "id": "151a6679",
   "metadata": {},
   "source": [
    "###### Grid mat"
   ]
  },
  {
   "cell_type": "code",
   "execution_count": null,
   "id": "ccdf0ad0",
   "metadata": {
    "ExecuteTime": {
     "end_time": "2023-07-28T18:44:48.904166Z",
     "start_time": "2023-07-28T18:44:48.904152Z"
    }
   },
   "outputs": [],
   "source": [
    "grid_mat_clf.fit(X_train_mat, y_train_mat)"
   ]
  },
  {
   "cell_type": "code",
   "execution_count": 163,
   "id": "d758219b",
   "metadata": {
    "ExecuteTime": {
     "end_time": "2023-07-28T18:45:44.777352Z",
     "start_time": "2023-07-28T18:45:44.771597Z"
    }
   },
   "outputs": [
    {
     "data": {
      "text/plain": [
       "{'randomforestclassifier__max_depth': 5,\n",
       " 'randomforestclassifier__min_samples_leaf': 2,\n",
       " 'randomforestclassifier__min_samples_split': 2,\n",
       " 'randomforestclassifier__n_estimators': 500}"
      ]
     },
     "execution_count": 163,
     "metadata": {},
     "output_type": "execute_result"
    }
   ],
   "source": [
    "mat_params = grid_mat_clf.best_params_\n",
    "mat_params"
   ]
  },
  {
   "cell_type": "code",
   "execution_count": 164,
   "id": "c8d758b8",
   "metadata": {
    "ExecuteTime": {
     "end_time": "2023-07-28T18:45:51.825810Z",
     "start_time": "2023-07-28T18:45:51.764174Z"
    }
   },
   "outputs": [
    {
     "data": {
      "text/plain": [
       "0.7304347826086957"
      ]
     },
     "execution_count": 164,
     "metadata": {},
     "output_type": "execute_result"
    }
   ],
   "source": [
    "grid_mat_clf.score(X_test_mat, y_test_mat)"
   ]
  },
  {
   "cell_type": "markdown",
   "id": "a6ccb4d4",
   "metadata": {
    "ExecuteTime": {
     "end_time": "2023-07-28T19:07:25.554293Z",
     "start_time": "2023-07-28T19:07:25.551144Z"
    }
   },
   "source": [
    "###### Grid por"
   ]
  },
  {
   "cell_type": "code",
   "execution_count": 162,
   "id": "c1d7afbd",
   "metadata": {
    "ExecuteTime": {
     "end_time": "2023-07-28T18:44:48.859247Z",
     "start_time": "2023-07-28T18:42:29.760159Z"
    }
   },
   "outputs": [
    {
     "data": {
      "text/html": [
       "<style>#sk-container-id-22 {color: black;background-color: white;}#sk-container-id-22 pre{padding: 0;}#sk-container-id-22 div.sk-toggleable {background-color: white;}#sk-container-id-22 label.sk-toggleable__label {cursor: pointer;display: block;width: 100%;margin-bottom: 0;padding: 0.3em;box-sizing: border-box;text-align: center;}#sk-container-id-22 label.sk-toggleable__label-arrow:before {content: \"▸\";float: left;margin-right: 0.25em;color: #696969;}#sk-container-id-22 label.sk-toggleable__label-arrow:hover:before {color: black;}#sk-container-id-22 div.sk-estimator:hover label.sk-toggleable__label-arrow:before {color: black;}#sk-container-id-22 div.sk-toggleable__content {max-height: 0;max-width: 0;overflow: hidden;text-align: left;background-color: #f0f8ff;}#sk-container-id-22 div.sk-toggleable__content pre {margin: 0.2em;color: black;border-radius: 0.25em;background-color: #f0f8ff;}#sk-container-id-22 input.sk-toggleable__control:checked~div.sk-toggleable__content {max-height: 200px;max-width: 100%;overflow: auto;}#sk-container-id-22 input.sk-toggleable__control:checked~label.sk-toggleable__label-arrow:before {content: \"▾\";}#sk-container-id-22 div.sk-estimator input.sk-toggleable__control:checked~label.sk-toggleable__label {background-color: #d4ebff;}#sk-container-id-22 div.sk-label input.sk-toggleable__control:checked~label.sk-toggleable__label {background-color: #d4ebff;}#sk-container-id-22 input.sk-hidden--visually {border: 0;clip: rect(1px 1px 1px 1px);clip: rect(1px, 1px, 1px, 1px);height: 1px;margin: -1px;overflow: hidden;padding: 0;position: absolute;width: 1px;}#sk-container-id-22 div.sk-estimator {font-family: monospace;background-color: #f0f8ff;border: 1px dotted black;border-radius: 0.25em;box-sizing: border-box;margin-bottom: 0.5em;}#sk-container-id-22 div.sk-estimator:hover {background-color: #d4ebff;}#sk-container-id-22 div.sk-parallel-item::after {content: \"\";width: 100%;border-bottom: 1px solid gray;flex-grow: 1;}#sk-container-id-22 div.sk-label:hover label.sk-toggleable__label {background-color: #d4ebff;}#sk-container-id-22 div.sk-serial::before {content: \"\";position: absolute;border-left: 1px solid gray;box-sizing: border-box;top: 0;bottom: 0;left: 50%;z-index: 0;}#sk-container-id-22 div.sk-serial {display: flex;flex-direction: column;align-items: center;background-color: white;padding-right: 0.2em;padding-left: 0.2em;position: relative;}#sk-container-id-22 div.sk-item {position: relative;z-index: 1;}#sk-container-id-22 div.sk-parallel {display: flex;align-items: stretch;justify-content: center;background-color: white;position: relative;}#sk-container-id-22 div.sk-item::before, #sk-container-id-22 div.sk-parallel-item::before {content: \"\";position: absolute;border-left: 1px solid gray;box-sizing: border-box;top: 0;bottom: 0;left: 50%;z-index: -1;}#sk-container-id-22 div.sk-parallel-item {display: flex;flex-direction: column;z-index: 1;position: relative;background-color: white;}#sk-container-id-22 div.sk-parallel-item:first-child::after {align-self: flex-end;width: 50%;}#sk-container-id-22 div.sk-parallel-item:last-child::after {align-self: flex-start;width: 50%;}#sk-container-id-22 div.sk-parallel-item:only-child::after {width: 0;}#sk-container-id-22 div.sk-dashed-wrapped {border: 1px dashed gray;margin: 0 0.4em 0.5em 0.4em;box-sizing: border-box;padding-bottom: 0.4em;background-color: white;}#sk-container-id-22 div.sk-label label {font-family: monospace;font-weight: bold;display: inline-block;line-height: 1.2em;}#sk-container-id-22 div.sk-label-container {text-align: center;}#sk-container-id-22 div.sk-container {/* jupyter's `normalize.less` sets `[hidden] { display: none; }` but bootstrap.min.css set `[hidden] { display: none !important; }` so we also need the `!important` here to be able to override the default hidden behavior on the sphinx rendered scikit-learn.org. See: https://github.com/scikit-learn/scikit-learn/issues/21755 */display: inline-block !important;position: relative;}#sk-container-id-22 div.sk-text-repr-fallback {display: none;}</style><div id=\"sk-container-id-22\" class=\"sk-top-container\"><div class=\"sk-text-repr-fallback\"><pre>GridSearchCV(cv=4,\n",
       "             estimator=Pipeline(steps=[(&#x27;columntransformer&#x27;,\n",
       "                                        ColumnTransformer(remainder=&#x27;passthrough&#x27;,\n",
       "                                                          transformers=[(&#x27;pipeline-1&#x27;,\n",
       "                                                                         Pipeline(steps=[(&#x27;simpleimputer&#x27;,\n",
       "                                                                                          SimpleImputer(strategy=&#x27;most_frequent&#x27;)),\n",
       "                                                                                         (&#x27;ordinalencoder&#x27;,\n",
       "                                                                                          OrdinalEncoder(handle_unknown=&#x27;use_encoded_value&#x27;,\n",
       "                                                                                                         unknown_value=-1))]),\n",
       "                                                                         [&#x27;Medu&#x27;,\n",
       "                                                                          &#x27;Fedu&#x27;,\n",
       "                                                                          &#x27;traveltime&#x27;,\n",
       "                                                                          &#x27;studytime&#x27;,\n",
       "                                                                          &#x27;failures&#x27;,\n",
       "                                                                          &#x27;...\n",
       "                                                                                          StandardScaler())]),\n",
       "                                                                         [&#x27;age&#x27;])])),\n",
       "                                       (&#x27;randomforestclassifier&#x27;,\n",
       "                                        RandomForestClassifier(max_depth=10,\n",
       "                                                               n_estimators=200))]),\n",
       "             param_grid={&#x27;randomforestclassifier__max_depth&#x27;: [None, 5, 10],\n",
       "                         &#x27;randomforestclassifier__min_samples_leaf&#x27;: [1, 2, 4],\n",
       "                         &#x27;randomforestclassifier__min_samples_split&#x27;: [2, 5,\n",
       "                                                                       10],\n",
       "                         &#x27;randomforestclassifier__n_estimators&#x27;: [100, 200,\n",
       "                                                                  500]},\n",
       "             scoring=&#x27;accuracy&#x27;)</pre><b>In a Jupyter environment, please rerun this cell to show the HTML representation or trust the notebook. <br />On GitHub, the HTML representation is unable to render, please try loading this page with nbviewer.org.</b></div><div class=\"sk-container\" hidden><div class=\"sk-item sk-dashed-wrapped\"><div class=\"sk-label-container\"><div class=\"sk-label sk-toggleable\"><input class=\"sk-toggleable__control sk-hidden--visually\" id=\"sk-estimator-id-270\" type=\"checkbox\" ><label for=\"sk-estimator-id-270\" class=\"sk-toggleable__label sk-toggleable__label-arrow\">GridSearchCV</label><div class=\"sk-toggleable__content\"><pre>GridSearchCV(cv=4,\n",
       "             estimator=Pipeline(steps=[(&#x27;columntransformer&#x27;,\n",
       "                                        ColumnTransformer(remainder=&#x27;passthrough&#x27;,\n",
       "                                                          transformers=[(&#x27;pipeline-1&#x27;,\n",
       "                                                                         Pipeline(steps=[(&#x27;simpleimputer&#x27;,\n",
       "                                                                                          SimpleImputer(strategy=&#x27;most_frequent&#x27;)),\n",
       "                                                                                         (&#x27;ordinalencoder&#x27;,\n",
       "                                                                                          OrdinalEncoder(handle_unknown=&#x27;use_encoded_value&#x27;,\n",
       "                                                                                                         unknown_value=-1))]),\n",
       "                                                                         [&#x27;Medu&#x27;,\n",
       "                                                                          &#x27;Fedu&#x27;,\n",
       "                                                                          &#x27;traveltime&#x27;,\n",
       "                                                                          &#x27;studytime&#x27;,\n",
       "                                                                          &#x27;failures&#x27;,\n",
       "                                                                          &#x27;...\n",
       "                                                                                          StandardScaler())]),\n",
       "                                                                         [&#x27;age&#x27;])])),\n",
       "                                       (&#x27;randomforestclassifier&#x27;,\n",
       "                                        RandomForestClassifier(max_depth=10,\n",
       "                                                               n_estimators=200))]),\n",
       "             param_grid={&#x27;randomforestclassifier__max_depth&#x27;: [None, 5, 10],\n",
       "                         &#x27;randomforestclassifier__min_samples_leaf&#x27;: [1, 2, 4],\n",
       "                         &#x27;randomforestclassifier__min_samples_split&#x27;: [2, 5,\n",
       "                                                                       10],\n",
       "                         &#x27;randomforestclassifier__n_estimators&#x27;: [100, 200,\n",
       "                                                                  500]},\n",
       "             scoring=&#x27;accuracy&#x27;)</pre></div></div></div><div class=\"sk-parallel\"><div class=\"sk-parallel-item\"><div class=\"sk-item\"><div class=\"sk-label-container\"><div class=\"sk-label sk-toggleable\"><input class=\"sk-toggleable__control sk-hidden--visually\" id=\"sk-estimator-id-271\" type=\"checkbox\" ><label for=\"sk-estimator-id-271\" class=\"sk-toggleable__label sk-toggleable__label-arrow\">estimator: Pipeline</label><div class=\"sk-toggleable__content\"><pre>Pipeline(steps=[(&#x27;columntransformer&#x27;,\n",
       "                 ColumnTransformer(remainder=&#x27;passthrough&#x27;,\n",
       "                                   transformers=[(&#x27;pipeline-1&#x27;,\n",
       "                                                  Pipeline(steps=[(&#x27;simpleimputer&#x27;,\n",
       "                                                                   SimpleImputer(strategy=&#x27;most_frequent&#x27;)),\n",
       "                                                                  (&#x27;ordinalencoder&#x27;,\n",
       "                                                                   OrdinalEncoder(handle_unknown=&#x27;use_encoded_value&#x27;,\n",
       "                                                                                  unknown_value=-1))]),\n",
       "                                                  [&#x27;Medu&#x27;, &#x27;Fedu&#x27;, &#x27;traveltime&#x27;,\n",
       "                                                   &#x27;studytime&#x27;, &#x27;failures&#x27;,\n",
       "                                                   &#x27;famrel&#x27;, &#x27;freetime&#x27;,\n",
       "                                                   &#x27;goout&#x27;, &#x27;...\n",
       "                                                   &#x27;famsize&#x27;, &#x27;Pstatus&#x27;,\n",
       "                                                   &#x27;schoolsup&#x27;, &#x27;famsup&#x27;,\n",
       "                                                   &#x27;paid&#x27;, &#x27;activities&#x27;,\n",
       "                                                   &#x27;nursery&#x27;, &#x27;higher&#x27;,\n",
       "                                                   &#x27;internet&#x27;, &#x27;romantic&#x27;,\n",
       "                                                   &#x27;Mjob&#x27;, &#x27;Fjob&#x27;, &#x27;reason&#x27;,\n",
       "                                                   &#x27;guardian&#x27;]),\n",
       "                                                 (&#x27;pipeline-3&#x27;,\n",
       "                                                  Pipeline(steps=[(&#x27;simpleimputer&#x27;,\n",
       "                                                                   SimpleImputer(strategy=&#x27;most_frequent&#x27;)),\n",
       "                                                                  (&#x27;standardscaler&#x27;,\n",
       "                                                                   StandardScaler())]),\n",
       "                                                  [&#x27;age&#x27;])])),\n",
       "                (&#x27;randomforestclassifier&#x27;,\n",
       "                 RandomForestClassifier(max_depth=10, n_estimators=200))])</pre></div></div></div><div class=\"sk-serial\"><div class=\"sk-item\"><div class=\"sk-serial\"><div class=\"sk-item sk-dashed-wrapped\"><div class=\"sk-label-container\"><div class=\"sk-label sk-toggleable\"><input class=\"sk-toggleable__control sk-hidden--visually\" id=\"sk-estimator-id-272\" type=\"checkbox\" ><label for=\"sk-estimator-id-272\" class=\"sk-toggleable__label sk-toggleable__label-arrow\">columntransformer: ColumnTransformer</label><div class=\"sk-toggleable__content\"><pre>ColumnTransformer(remainder=&#x27;passthrough&#x27;,\n",
       "                  transformers=[(&#x27;pipeline-1&#x27;,\n",
       "                                 Pipeline(steps=[(&#x27;simpleimputer&#x27;,\n",
       "                                                  SimpleImputer(strategy=&#x27;most_frequent&#x27;)),\n",
       "                                                 (&#x27;ordinalencoder&#x27;,\n",
       "                                                  OrdinalEncoder(handle_unknown=&#x27;use_encoded_value&#x27;,\n",
       "                                                                 unknown_value=-1))]),\n",
       "                                 [&#x27;Medu&#x27;, &#x27;Fedu&#x27;, &#x27;traveltime&#x27;, &#x27;studytime&#x27;,\n",
       "                                  &#x27;failures&#x27;, &#x27;famrel&#x27;, &#x27;freetime&#x27;, &#x27;goout&#x27;,\n",
       "                                  &#x27;Dalc&#x27;, &#x27;Walc&#x27;, &#x27;health&#x27;]),\n",
       "                                (&#x27;pipeline-2&#x27;...\n",
       "                                                  OneHotEncoder(handle_unknown=&#x27;ignore&#x27;,\n",
       "                                                                sparse=False,\n",
       "                                                                sparse_output=False))]),\n",
       "                                 [&#x27;school&#x27;, &#x27;sex&#x27;, &#x27;address&#x27;, &#x27;famsize&#x27;,\n",
       "                                  &#x27;Pstatus&#x27;, &#x27;schoolsup&#x27;, &#x27;famsup&#x27;, &#x27;paid&#x27;,\n",
       "                                  &#x27;activities&#x27;, &#x27;nursery&#x27;, &#x27;higher&#x27;, &#x27;internet&#x27;,\n",
       "                                  &#x27;romantic&#x27;, &#x27;Mjob&#x27;, &#x27;Fjob&#x27;, &#x27;reason&#x27;,\n",
       "                                  &#x27;guardian&#x27;]),\n",
       "                                (&#x27;pipeline-3&#x27;,\n",
       "                                 Pipeline(steps=[(&#x27;simpleimputer&#x27;,\n",
       "                                                  SimpleImputer(strategy=&#x27;most_frequent&#x27;)),\n",
       "                                                 (&#x27;standardscaler&#x27;,\n",
       "                                                  StandardScaler())]),\n",
       "                                 [&#x27;age&#x27;])])</pre></div></div></div><div class=\"sk-parallel\"><div class=\"sk-parallel-item\"><div class=\"sk-item\"><div class=\"sk-label-container\"><div class=\"sk-label sk-toggleable\"><input class=\"sk-toggleable__control sk-hidden--visually\" id=\"sk-estimator-id-273\" type=\"checkbox\" ><label for=\"sk-estimator-id-273\" class=\"sk-toggleable__label sk-toggleable__label-arrow\">pipeline-1</label><div class=\"sk-toggleable__content\"><pre>[&#x27;Medu&#x27;, &#x27;Fedu&#x27;, &#x27;traveltime&#x27;, &#x27;studytime&#x27;, &#x27;failures&#x27;, &#x27;famrel&#x27;, &#x27;freetime&#x27;, &#x27;goout&#x27;, &#x27;Dalc&#x27;, &#x27;Walc&#x27;, &#x27;health&#x27;]</pre></div></div></div><div class=\"sk-serial\"><div class=\"sk-item\"><div class=\"sk-serial\"><div class=\"sk-item\"><div class=\"sk-estimator sk-toggleable\"><input class=\"sk-toggleable__control sk-hidden--visually\" id=\"sk-estimator-id-274\" type=\"checkbox\" ><label for=\"sk-estimator-id-274\" class=\"sk-toggleable__label sk-toggleable__label-arrow\">SimpleImputer</label><div class=\"sk-toggleable__content\"><pre>SimpleImputer(strategy=&#x27;most_frequent&#x27;)</pre></div></div></div><div class=\"sk-item\"><div class=\"sk-estimator sk-toggleable\"><input class=\"sk-toggleable__control sk-hidden--visually\" id=\"sk-estimator-id-275\" type=\"checkbox\" ><label for=\"sk-estimator-id-275\" class=\"sk-toggleable__label sk-toggleable__label-arrow\">OrdinalEncoder</label><div class=\"sk-toggleable__content\"><pre>OrdinalEncoder(handle_unknown=&#x27;use_encoded_value&#x27;, unknown_value=-1)</pre></div></div></div></div></div></div></div></div><div class=\"sk-parallel-item\"><div class=\"sk-item\"><div class=\"sk-label-container\"><div class=\"sk-label sk-toggleable\"><input class=\"sk-toggleable__control sk-hidden--visually\" id=\"sk-estimator-id-276\" type=\"checkbox\" ><label for=\"sk-estimator-id-276\" class=\"sk-toggleable__label sk-toggleable__label-arrow\">pipeline-2</label><div class=\"sk-toggleable__content\"><pre>[&#x27;school&#x27;, &#x27;sex&#x27;, &#x27;address&#x27;, &#x27;famsize&#x27;, &#x27;Pstatus&#x27;, &#x27;schoolsup&#x27;, &#x27;famsup&#x27;, &#x27;paid&#x27;, &#x27;activities&#x27;, &#x27;nursery&#x27;, &#x27;higher&#x27;, &#x27;internet&#x27;, &#x27;romantic&#x27;, &#x27;Mjob&#x27;, &#x27;Fjob&#x27;, &#x27;reason&#x27;, &#x27;guardian&#x27;]</pre></div></div></div><div class=\"sk-serial\"><div class=\"sk-item\"><div class=\"sk-serial\"><div class=\"sk-item\"><div class=\"sk-estimator sk-toggleable\"><input class=\"sk-toggleable__control sk-hidden--visually\" id=\"sk-estimator-id-277\" type=\"checkbox\" ><label for=\"sk-estimator-id-277\" class=\"sk-toggleable__label sk-toggleable__label-arrow\">SimpleImputer</label><div class=\"sk-toggleable__content\"><pre>SimpleImputer(strategy=&#x27;most_frequent&#x27;)</pre></div></div></div><div class=\"sk-item\"><div class=\"sk-estimator sk-toggleable\"><input class=\"sk-toggleable__control sk-hidden--visually\" id=\"sk-estimator-id-278\" type=\"checkbox\" ><label for=\"sk-estimator-id-278\" class=\"sk-toggleable__label sk-toggleable__label-arrow\">OneHotEncoder</label><div class=\"sk-toggleable__content\"><pre>OneHotEncoder(handle_unknown=&#x27;ignore&#x27;, sparse=False, sparse_output=False)</pre></div></div></div></div></div></div></div></div><div class=\"sk-parallel-item\"><div class=\"sk-item\"><div class=\"sk-label-container\"><div class=\"sk-label sk-toggleable\"><input class=\"sk-toggleable__control sk-hidden--visually\" id=\"sk-estimator-id-279\" type=\"checkbox\" ><label for=\"sk-estimator-id-279\" class=\"sk-toggleable__label sk-toggleable__label-arrow\">pipeline-3</label><div class=\"sk-toggleable__content\"><pre>[&#x27;age&#x27;]</pre></div></div></div><div class=\"sk-serial\"><div class=\"sk-item\"><div class=\"sk-serial\"><div class=\"sk-item\"><div class=\"sk-estimator sk-toggleable\"><input class=\"sk-toggleable__control sk-hidden--visually\" id=\"sk-estimator-id-280\" type=\"checkbox\" ><label for=\"sk-estimator-id-280\" class=\"sk-toggleable__label sk-toggleable__label-arrow\">SimpleImputer</label><div class=\"sk-toggleable__content\"><pre>SimpleImputer(strategy=&#x27;most_frequent&#x27;)</pre></div></div></div><div class=\"sk-item\"><div class=\"sk-estimator sk-toggleable\"><input class=\"sk-toggleable__control sk-hidden--visually\" id=\"sk-estimator-id-281\" type=\"checkbox\" ><label for=\"sk-estimator-id-281\" class=\"sk-toggleable__label sk-toggleable__label-arrow\">StandardScaler</label><div class=\"sk-toggleable__content\"><pre>StandardScaler()</pre></div></div></div></div></div></div></div></div><div class=\"sk-parallel-item\"><div class=\"sk-item\"><div class=\"sk-label-container\"><div class=\"sk-label sk-toggleable\"><input class=\"sk-toggleable__control sk-hidden--visually\" id=\"sk-estimator-id-282\" type=\"checkbox\" ><label for=\"sk-estimator-id-282\" class=\"sk-toggleable__label sk-toggleable__label-arrow\">remainder</label><div class=\"sk-toggleable__content\"><pre>[]</pre></div></div></div><div class=\"sk-serial\"><div class=\"sk-item\"><div class=\"sk-estimator sk-toggleable\"><input class=\"sk-toggleable__control sk-hidden--visually\" id=\"sk-estimator-id-283\" type=\"checkbox\" ><label for=\"sk-estimator-id-283\" class=\"sk-toggleable__label sk-toggleable__label-arrow\">passthrough</label><div class=\"sk-toggleable__content\"><pre>passthrough</pre></div></div></div></div></div></div></div></div><div class=\"sk-item\"><div class=\"sk-estimator sk-toggleable\"><input class=\"sk-toggleable__control sk-hidden--visually\" id=\"sk-estimator-id-284\" type=\"checkbox\" ><label for=\"sk-estimator-id-284\" class=\"sk-toggleable__label sk-toggleable__label-arrow\">RandomForestClassifier</label><div class=\"sk-toggleable__content\"><pre>RandomForestClassifier(max_depth=10, n_estimators=200)</pre></div></div></div></div></div></div></div></div></div></div></div></div>"
      ],
      "text/plain": [
       "GridSearchCV(cv=4,\n",
       "             estimator=Pipeline(steps=[('columntransformer',\n",
       "                                        ColumnTransformer(remainder='passthrough',\n",
       "                                                          transformers=[('pipeline-1',\n",
       "                                                                         Pipeline(steps=[('simpleimputer',\n",
       "                                                                                          SimpleImputer(strategy='most_frequent')),\n",
       "                                                                                         ('ordinalencoder',\n",
       "                                                                                          OrdinalEncoder(handle_unknown='use_encoded_value',\n",
       "                                                                                                         unknown_value=-1))]),\n",
       "                                                                         ['Medu',\n",
       "                                                                          'Fedu',\n",
       "                                                                          'traveltime',\n",
       "                                                                          'studytime',\n",
       "                                                                          'failures',\n",
       "                                                                          '...\n",
       "                                                                                          StandardScaler())]),\n",
       "                                                                         ['age'])])),\n",
       "                                       ('randomforestclassifier',\n",
       "                                        RandomForestClassifier(max_depth=10,\n",
       "                                                               n_estimators=200))]),\n",
       "             param_grid={'randomforestclassifier__max_depth': [None, 5, 10],\n",
       "                         'randomforestclassifier__min_samples_leaf': [1, 2, 4],\n",
       "                         'randomforestclassifier__min_samples_split': [2, 5,\n",
       "                                                                       10],\n",
       "                         'randomforestclassifier__n_estimators': [100, 200,\n",
       "                                                                  500]},\n",
       "             scoring='accuracy')"
      ]
     },
     "execution_count": 162,
     "metadata": {},
     "output_type": "execute_result"
    }
   ],
   "source": [
    "grid_por_clf.fit(X_train_por, y_train_por)"
   ]
  },
  {
   "cell_type": "code",
   "execution_count": 165,
   "id": "59502ef6",
   "metadata": {
    "ExecuteTime": {
     "end_time": "2023-07-28T18:45:54.222443Z",
     "start_time": "2023-07-28T18:45:54.215719Z"
    }
   },
   "outputs": [
    {
     "data": {
      "text/plain": [
       "{'randomforestclassifier__max_depth': None,\n",
       " 'randomforestclassifier__min_samples_leaf': 1,\n",
       " 'randomforestclassifier__min_samples_split': 2,\n",
       " 'randomforestclassifier__n_estimators': 100}"
      ]
     },
     "execution_count": 165,
     "metadata": {},
     "output_type": "execute_result"
    }
   ],
   "source": [
    "por_params = grid_por_clf.best_params_\n",
    "por_params"
   ]
  },
  {
   "cell_type": "code",
   "execution_count": 166,
   "id": "1cec010f",
   "metadata": {
    "ExecuteTime": {
     "end_time": "2023-07-28T18:45:57.664711Z",
     "start_time": "2023-07-28T18:45:57.636661Z"
    }
   },
   "outputs": [
    {
     "data": {
      "text/plain": [
       "0.8956521739130435"
      ]
     },
     "execution_count": 166,
     "metadata": {},
     "output_type": "execute_result"
    }
   ],
   "source": [
    "grid_por_clf.score(X_test_por, y_test_por)"
   ]
  },
  {
   "cell_type": "markdown",
   "id": "2c5ac5f4",
   "metadata": {},
   "source": [
    "### Final models"
   ]
  },
  {
   "cell_type": "code",
   "execution_count": 167,
   "id": "6a1e31c1",
   "metadata": {
    "ExecuteTime": {
     "end_time": "2023-07-28T18:50:20.464265Z",
     "start_time": "2023-07-28T18:50:20.454394Z"
    }
   },
   "outputs": [
    {
     "name": "stdout",
     "output_type": "stream",
     "text": [
      "MAT:\n",
      "(267, 29) (115, 29)\n",
      "(267,) (115,)\n",
      "\n",
      "POR:\n",
      "(267, 29) (115, 29)\n",
      "(267,) (115,)\n"
     ]
    }
   ],
   "source": [
    "X_train, X_test, y_train_mat, y_test_mat = train_test_split(X, y1_clf, test_size=0.3, random_state=42)\n",
    "X_train, X_test, y_train_por, y_test_por = train_test_split(X, y2_clf, test_size=0.3, random_state=42)\n",
    "\n",
    "print('MAT:')\n",
    "print(X_train_mat.shape, X_test_mat.shape)\n",
    "print(y_train_mat.shape, y_test_mat.shape)\n",
    "print('')\n",
    "print('POR:')\n",
    "print(X_train_por.shape, X_test_por.shape)\n",
    "print(y_train_por.shape, y_test_por.shape)"
   ]
  },
  {
   "cell_type": "markdown",
   "id": "a16c3bb7",
   "metadata": {},
   "source": [
    "**We add best params:**"
   ]
  },
  {
   "cell_type": "code",
   "execution_count": 179,
   "id": "4fa73b0d",
   "metadata": {
    "ExecuteTime": {
     "end_time": "2023-07-28T19:02:48.227601Z",
     "start_time": "2023-07-28T19:02:48.223528Z"
    }
   },
   "outputs": [],
   "source": [
    "model_mat = make_pipeline(\n",
    "    preprocess,\n",
    "    RandomForestClassifier(max_depth=5,\n",
    "                           min_samples_split=2,\n",
    "                           min_samples_leaf=2,\n",
    "                           n_estimators=500))\n",
    "\n",
    "model_por = make_pipeline(\n",
    "    preprocess,\n",
    "    RandomForestClassifier(max_depth=None,\n",
    "                           min_samples_split=2,\n",
    "                           min_samples_leaf=1,\n",
    "                           n_estimators=100))"
   ]
  },
  {
   "cell_type": "code",
   "execution_count": 186,
   "id": "515fde1f",
   "metadata": {
    "ExecuteTime": {
     "end_time": "2023-07-28T19:38:10.572913Z",
     "start_time": "2023-07-28T19:38:09.885478Z"
    }
   },
   "outputs": [],
   "source": [
    "clf_mat = model_mat.fit(X_train, y_train_mat)"
   ]
  },
  {
   "cell_type": "code",
   "execution_count": 187,
   "id": "7128df21",
   "metadata": {
    "ExecuteTime": {
     "end_time": "2023-07-28T19:38:25.606315Z",
     "start_time": "2023-07-28T19:38:25.513817Z"
    }
   },
   "outputs": [
    {
     "data": {
      "text/plain": [
       "0.7304347826086957"
      ]
     },
     "execution_count": 187,
     "metadata": {},
     "output_type": "execute_result"
    }
   ],
   "source": [
    "clf_mat.score(X_test, y_test_mat)"
   ]
  },
  {
   "cell_type": "code",
   "execution_count": 240,
   "id": "3db81b86",
   "metadata": {
    "ExecuteTime": {
     "end_time": "2023-07-28T20:45:11.575622Z",
     "start_time": "2023-07-28T20:45:11.418635Z"
    }
   },
   "outputs": [],
   "source": [
    "clf_por = model_por.fit(X_train, y_train_por)"
   ]
  },
  {
   "cell_type": "code",
   "execution_count": 241,
   "id": "dbaa0b7c",
   "metadata": {
    "ExecuteTime": {
     "end_time": "2023-07-28T20:45:27.919813Z",
     "start_time": "2023-07-28T20:45:27.895980Z"
    }
   },
   "outputs": [
    {
     "data": {
      "text/plain": [
       "0.8956521739130435"
      ]
     },
     "execution_count": 241,
     "metadata": {},
     "output_type": "execute_result"
    }
   ],
   "source": [
    "clf_por.score(X_test, y_test_por)"
   ]
  },
  {
   "cell_type": "markdown",
   "id": "57bda555",
   "metadata": {},
   "source": [
    "**We obtain very good results with classification models, unlike regression models.**\n",
    "\n",
    "**Other treatments can be performed to improve this score, but we will reserve them for another time. Some examples of improvements include Feature Selection, testing more model parameters, and so on.**"
   ]
  },
  {
   "cell_type": "markdown",
   "id": "0fee4bc8",
   "metadata": {},
   "source": [
    "**Thanks for reading !**"
   ]
  },
  {
   "cell_type": "code",
   "execution_count": null,
   "id": "d09cf941",
   "metadata": {},
   "outputs": [],
   "source": []
  }
 ],
 "metadata": {
  "kernelspec": {
   "display_name": "Python 3 (ipykernel)",
   "language": "python",
   "name": "python3"
  },
  "language_info": {
   "codemirror_mode": {
    "name": "ipython",
    "version": 3
   },
   "file_extension": ".py",
   "mimetype": "text/x-python",
   "name": "python",
   "nbconvert_exporter": "python",
   "pygments_lexer": "ipython3",
   "version": "3.10.9"
  },
  "toc": {
   "base_numbering": 1,
   "nav_menu": {},
   "number_sections": true,
   "sideBar": true,
   "skip_h1_title": false,
   "title_cell": "Table of Contents",
   "title_sidebar": "Contents",
   "toc_cell": false,
   "toc_position": {},
   "toc_section_display": true,
   "toc_window_display": false
  },
  "varInspector": {
   "cols": {
    "lenName": 16,
    "lenType": 16,
    "lenVar": 40
   },
   "kernels_config": {
    "python": {
     "delete_cmd_postfix": "",
     "delete_cmd_prefix": "del ",
     "library": "var_list.py",
     "varRefreshCmd": "print(var_dic_list())"
    },
    "r": {
     "delete_cmd_postfix": ") ",
     "delete_cmd_prefix": "rm(",
     "library": "var_list.r",
     "varRefreshCmd": "cat(var_dic_list()) "
    }
   },
   "types_to_exclude": [
    "module",
    "function",
    "builtin_function_or_method",
    "instance",
    "_Feature"
   ],
   "window_display": false
  }
 },
 "nbformat": 4,
 "nbformat_minor": 5
}
